{
 "cells": [
  {
   "cell_type": "markdown",
   "id": "fd30bd26",
   "metadata": {
    "papermill": {
     "duration": 0.027609,
     "end_time": "2024-06-30T19:50:43.167714",
     "exception": false,
     "start_time": "2024-06-30T19:50:43.140105",
     "status": "completed"
    },
    "tags": []
   },
   "source": [
    "# DATA SCIENTIST\n",
    "**In this tutorial, I only explain you what you need to be a data scientist neither more nor less.**\n",
    "\n",
    "Data scientist need to have these skills:\n",
    "\n",
    "1. Basic Tools: Like python, R or SQL. You do not need to know everything. What you only need is to learn how to use **python**\n",
    "1. Basic Statistics: Like mean, median or standart deviation. If you know basic statistics, you can use **python** easily. \n",
    "1. Data Munging: Working with messy and difficult data. Like a inconsistent date and string formatting. As you guess, **python** helps us.\n",
    "1. Data Visualization: Title is actually explanatory. We will visualize the data with **python** like matplot and seaborn libraries.\n",
    "1. Machine Learning: You do not need to understand math behind the machine learning technique. You only need is understanding basics of machine learning and learning how to implement it while using **python**.\n",
    "\n",
    "### As a summary we will learn python to be data scientist !!!\n",
    "\n",
    "**Content:**\n",
    "1. [Introduction to Python:](#1)\n",
    "    1. [Matplotlib](#2)\n",
    "    1. [Dictionaries ](#3)\n",
    "    1. [Pandas](#4)\n",
    "    1. [Logic, control flow and filtering](#5)\n",
    "    1. [Loop data structures](#6)\n",
    "1. [Python Data Science Toolbox:](#7)\n",
    "    1. [User defined function](#8)\n",
    "    1. [Scope](#9)\n",
    "    1. [Nested function](#10)\n",
    "    1. [Default and flexible arguments](#11)\n",
    "    1. [Lambda function](#12)\n",
    "    1. [Anonymous function](#13)\n",
    "    1. [Iterators](#14)\n",
    "    1. [List comprehension](#15)\n",
    "1. [Cleaning Data](#16)\n",
    "    1. [Diagnose data for cleaning](#17)\n",
    "    1. [Exploratory data analysis](#18)\n",
    "    1. [Visual exploratory data analysis](#19)\n",
    "    1. [Tidy data](#20)\n",
    "    1. [Pivoting data](#21)\n",
    "    1. [Concatenating data](#22)\n",
    "    1. [Data types](#23)\n",
    "    1. [Missing data and testing with assert](#24)\n",
    "1. [Pandas Foundation](#25)\n",
    "    1. [Review of pandas](#26)\n",
    "    1. [Building data frames from scratch](#27)\n",
    "    1. [Visual exploratory data analysis](#28)\n",
    "    1. [Statistical explatory data analysis](#29)\n",
    "    1. [Indexing pandas time series](#30)\n",
    "    1. [Resampling pandas time series](#31)\n",
    "1. [Manipulating Data Frames with Pandas](#32)\n",
    "    1. [Indexing data frames](#33)\n",
    "    1. [Slicing data frames](#34)\n",
    "    1. [Filtering data frames](#35)\n",
    "    1. [Transforming data frames](#36)\n",
    "    1. [Index objects and labeled data](#37)\n",
    "    1. [Hierarchical indexing](#38)\n",
    "    1. [Pivoting data frames](#39)\n",
    "    1. [Stacking and unstacking data frames](#40)\n",
    "    1. [Melting data frames](#41)\n",
    "    1. [Categoricals and groupby](#42)"
   ]
  },
  {
   "cell_type": "code",
   "execution_count": 1,
   "id": "072cdb88",
   "metadata": {
    "_cell_guid": "b1076dfc-b9ad-4769-8c92-a6c4dae69d19",
    "_uuid": "8f2839f25d086af736a60e9eeb907d3b93b6e0e5",
    "execution": {
     "iopub.execute_input": "2024-06-30T19:50:43.225520Z",
     "iopub.status.busy": "2024-06-30T19:50:43.225142Z",
     "iopub.status.idle": "2024-06-30T19:50:45.587400Z",
     "shell.execute_reply": "2024-06-30T19:50:45.586298Z"
    },
    "papermill": {
     "duration": 2.393274,
     "end_time": "2024-06-30T19:50:45.590039",
     "exception": false,
     "start_time": "2024-06-30T19:50:43.196765",
     "status": "completed"
    },
    "tags": []
   },
   "outputs": [
    {
     "name": "stdout",
     "output_type": "stream",
     "text": [
      "/kaggle/input/bitcoin-historical-data/bitstampUSD_1-min_data_2012-01-01_to_2021-03-31.csv\n"
     ]
    }
   ],
   "source": [
    "# This Python 3 environment comes with many helpful analytics libraries installed\n",
    "# It is defined by the kaggle/python Docker image: https://github.com/kaggle/docker-python\n",
    "# For example, here's several helpful packages to load\n",
    "\n",
    "import numpy as np # linear algebra\n",
    "import pandas as pd # data processing, CSV file I/O (e.g. pd.read_csv)\n",
    "import matplotlib.pyplot as plt\n",
    "import seaborn as sns  # visualization tool\n",
    "\n",
    "# Input data files are available in the read-only \"../input/\" directory\n",
    "# For example, running this (by clicking run or pressing Shift+Enter) will list all files under the input directory\n",
    "\n",
    "import os\n",
    "for dirname, _, filenames in os.walk('/kaggle/input'):\n",
    "    for filename in filenames:\n",
    "        print(os.path.join(dirname, filename))\n",
    "\n",
    "# You can write up to 20GB to the current directory (/kaggle/working/) that gets preserved as output when you create a version using \"Save & Run All\" \n",
    "# You can also write temporary files to /kaggle/temp/, but they won't be saved outside of the current session"
   ]
  },
  {
   "cell_type": "code",
   "execution_count": 2,
   "id": "7fca82d3",
   "metadata": {
    "execution": {
     "iopub.execute_input": "2024-06-30T19:50:45.646954Z",
     "iopub.status.busy": "2024-06-30T19:50:45.646432Z",
     "iopub.status.idle": "2024-06-30T19:50:53.142033Z",
     "shell.execute_reply": "2024-06-30T19:50:53.140707Z"
    },
    "papermill": {
     "duration": 7.526615,
     "end_time": "2024-06-30T19:50:53.144525",
     "exception": false,
     "start_time": "2024-06-30T19:50:45.617910",
     "status": "completed"
    },
    "tags": []
   },
   "outputs": [
    {
     "data": {
      "text/html": [
       "<div>\n",
       "<style scoped>\n",
       "    .dataframe tbody tr th:only-of-type {\n",
       "        vertical-align: middle;\n",
       "    }\n",
       "\n",
       "    .dataframe tbody tr th {\n",
       "        vertical-align: top;\n",
       "    }\n",
       "\n",
       "    .dataframe thead th {\n",
       "        text-align: right;\n",
       "    }\n",
       "</style>\n",
       "<table border=\"1\" class=\"dataframe\">\n",
       "  <thead>\n",
       "    <tr style=\"text-align: right;\">\n",
       "      <th></th>\n",
       "      <th>Timestamp</th>\n",
       "      <th>Open</th>\n",
       "      <th>High</th>\n",
       "      <th>Low</th>\n",
       "      <th>Close</th>\n",
       "      <th>Volume_(BTC)</th>\n",
       "      <th>Volume_(Currency)</th>\n",
       "      <th>Weighted_Price</th>\n",
       "    </tr>\n",
       "  </thead>\n",
       "  <tbody>\n",
       "    <tr>\n",
       "      <th>0</th>\n",
       "      <td>1325317920</td>\n",
       "      <td>4.39</td>\n",
       "      <td>4.39</td>\n",
       "      <td>4.39</td>\n",
       "      <td>4.39</td>\n",
       "      <td>0.455581</td>\n",
       "      <td>2.0</td>\n",
       "      <td>4.39</td>\n",
       "    </tr>\n",
       "    <tr>\n",
       "      <th>1</th>\n",
       "      <td>1325317980</td>\n",
       "      <td>NaN</td>\n",
       "      <td>NaN</td>\n",
       "      <td>NaN</td>\n",
       "      <td>NaN</td>\n",
       "      <td>NaN</td>\n",
       "      <td>NaN</td>\n",
       "      <td>NaN</td>\n",
       "    </tr>\n",
       "    <tr>\n",
       "      <th>2</th>\n",
       "      <td>1325318040</td>\n",
       "      <td>NaN</td>\n",
       "      <td>NaN</td>\n",
       "      <td>NaN</td>\n",
       "      <td>NaN</td>\n",
       "      <td>NaN</td>\n",
       "      <td>NaN</td>\n",
       "      <td>NaN</td>\n",
       "    </tr>\n",
       "    <tr>\n",
       "      <th>3</th>\n",
       "      <td>1325318100</td>\n",
       "      <td>NaN</td>\n",
       "      <td>NaN</td>\n",
       "      <td>NaN</td>\n",
       "      <td>NaN</td>\n",
       "      <td>NaN</td>\n",
       "      <td>NaN</td>\n",
       "      <td>NaN</td>\n",
       "    </tr>\n",
       "    <tr>\n",
       "      <th>4</th>\n",
       "      <td>1325318160</td>\n",
       "      <td>NaN</td>\n",
       "      <td>NaN</td>\n",
       "      <td>NaN</td>\n",
       "      <td>NaN</td>\n",
       "      <td>NaN</td>\n",
       "      <td>NaN</td>\n",
       "      <td>NaN</td>\n",
       "    </tr>\n",
       "  </tbody>\n",
       "</table>\n",
       "</div>"
      ],
      "text/plain": [
       "    Timestamp  Open  High   Low  Close  Volume_(BTC)  Volume_(Currency)  \\\n",
       "0  1325317920  4.39  4.39  4.39   4.39      0.455581                2.0   \n",
       "1  1325317980   NaN   NaN   NaN    NaN           NaN                NaN   \n",
       "2  1325318040   NaN   NaN   NaN    NaN           NaN                NaN   \n",
       "3  1325318100   NaN   NaN   NaN    NaN           NaN                NaN   \n",
       "4  1325318160   NaN   NaN   NaN    NaN           NaN                NaN   \n",
       "\n",
       "   Weighted_Price  \n",
       "0            4.39  \n",
       "1             NaN  \n",
       "2             NaN  \n",
       "3             NaN  \n",
       "4             NaN  "
      ]
     },
     "execution_count": 2,
     "metadata": {},
     "output_type": "execute_result"
    }
   ],
   "source": [
    "data = pd.read_csv(\"/kaggle/input/bitcoin-historical-data/bitstampUSD_1-min_data_2012-01-01_to_2021-03-31.csv\")\n",
    "data.head()"
   ]
  },
  {
   "cell_type": "code",
   "execution_count": 3,
   "id": "757f4e5f",
   "metadata": {
    "execution": {
     "iopub.execute_input": "2024-06-30T19:50:53.202107Z",
     "iopub.status.busy": "2024-06-30T19:50:53.201748Z",
     "iopub.status.idle": "2024-06-30T19:50:53.227059Z",
     "shell.execute_reply": "2024-06-30T19:50:53.225851Z"
    },
    "papermill": {
     "duration": 0.05756,
     "end_time": "2024-06-30T19:50:53.229756",
     "exception": false,
     "start_time": "2024-06-30T19:50:53.172196",
     "status": "completed"
    },
    "tags": []
   },
   "outputs": [
    {
     "name": "stdout",
     "output_type": "stream",
     "text": [
      "<class 'pandas.core.frame.DataFrame'>\n",
      "RangeIndex: 4857377 entries, 0 to 4857376\n",
      "Data columns (total 8 columns):\n",
      " #   Column             Dtype  \n",
      "---  ------             -----  \n",
      " 0   Timestamp          int64  \n",
      " 1   Open               float64\n",
      " 2   High               float64\n",
      " 3   Low                float64\n",
      " 4   Close              float64\n",
      " 5   Volume_(BTC)       float64\n",
      " 6   Volume_(Currency)  float64\n",
      " 7   Weighted_Price     float64\n",
      "dtypes: float64(7), int64(1)\n",
      "memory usage: 296.5 MB\n"
     ]
    }
   ],
   "source": [
    "data.info()"
   ]
  },
  {
   "cell_type": "code",
   "execution_count": 4,
   "id": "174939c3",
   "metadata": {
    "execution": {
     "iopub.execute_input": "2024-06-30T19:50:53.286453Z",
     "iopub.status.busy": "2024-06-30T19:50:53.286109Z",
     "iopub.status.idle": "2024-06-30T19:50:54.390699Z",
     "shell.execute_reply": "2024-06-30T19:50:54.389400Z"
    },
    "papermill": {
     "duration": 1.135699,
     "end_time": "2024-06-30T19:50:54.393200",
     "exception": false,
     "start_time": "2024-06-30T19:50:53.257501",
     "status": "completed"
    },
    "tags": []
   },
   "outputs": [
    {
     "data": {
      "text/html": [
       "<div>\n",
       "<style scoped>\n",
       "    .dataframe tbody tr th:only-of-type {\n",
       "        vertical-align: middle;\n",
       "    }\n",
       "\n",
       "    .dataframe tbody tr th {\n",
       "        vertical-align: top;\n",
       "    }\n",
       "\n",
       "    .dataframe thead th {\n",
       "        text-align: right;\n",
       "    }\n",
       "</style>\n",
       "<table border=\"1\" class=\"dataframe\">\n",
       "  <thead>\n",
       "    <tr style=\"text-align: right;\">\n",
       "      <th></th>\n",
       "      <th>Timestamp</th>\n",
       "      <th>Open</th>\n",
       "      <th>High</th>\n",
       "      <th>Low</th>\n",
       "      <th>Close</th>\n",
       "      <th>Volume_(BTC)</th>\n",
       "      <th>Volume_(Currency)</th>\n",
       "      <th>Weighted_Price</th>\n",
       "    </tr>\n",
       "  </thead>\n",
       "  <tbody>\n",
       "    <tr>\n",
       "      <th>Timestamp</th>\n",
       "      <td>1.000000</td>\n",
       "      <td>0.650719</td>\n",
       "      <td>0.650644</td>\n",
       "      <td>0.650803</td>\n",
       "      <td>0.650714</td>\n",
       "      <td>-0.103926</td>\n",
       "      <td>0.228190</td>\n",
       "      <td>0.650737</td>\n",
       "    </tr>\n",
       "    <tr>\n",
       "      <th>Open</th>\n",
       "      <td>0.650719</td>\n",
       "      <td>1.000000</td>\n",
       "      <td>0.999999</td>\n",
       "      <td>0.999999</td>\n",
       "      <td>0.999999</td>\n",
       "      <td>-0.051860</td>\n",
       "      <td>0.344074</td>\n",
       "      <td>0.999999</td>\n",
       "    </tr>\n",
       "    <tr>\n",
       "      <th>High</th>\n",
       "      <td>0.650644</td>\n",
       "      <td>0.999999</td>\n",
       "      <td>1.000000</td>\n",
       "      <td>0.999998</td>\n",
       "      <td>0.999999</td>\n",
       "      <td>-0.051717</td>\n",
       "      <td>0.344498</td>\n",
       "      <td>0.999999</td>\n",
       "    </tr>\n",
       "    <tr>\n",
       "      <th>Low</th>\n",
       "      <td>0.650803</td>\n",
       "      <td>0.999999</td>\n",
       "      <td>0.999998</td>\n",
       "      <td>1.000000</td>\n",
       "      <td>0.999999</td>\n",
       "      <td>-0.052040</td>\n",
       "      <td>0.343541</td>\n",
       "      <td>1.000000</td>\n",
       "    </tr>\n",
       "    <tr>\n",
       "      <th>Close</th>\n",
       "      <td>0.650714</td>\n",
       "      <td>0.999999</td>\n",
       "      <td>0.999999</td>\n",
       "      <td>0.999999</td>\n",
       "      <td>1.000000</td>\n",
       "      <td>-0.051877</td>\n",
       "      <td>0.344036</td>\n",
       "      <td>1.000000</td>\n",
       "    </tr>\n",
       "    <tr>\n",
       "      <th>Volume_(BTC)</th>\n",
       "      <td>-0.103926</td>\n",
       "      <td>-0.051860</td>\n",
       "      <td>-0.051717</td>\n",
       "      <td>-0.052040</td>\n",
       "      <td>-0.051877</td>\n",
       "      <td>1.000000</td>\n",
       "      <td>0.352038</td>\n",
       "      <td>-0.051887</td>\n",
       "    </tr>\n",
       "    <tr>\n",
       "      <th>Volume_(Currency)</th>\n",
       "      <td>0.228190</td>\n",
       "      <td>0.344074</td>\n",
       "      <td>0.344498</td>\n",
       "      <td>0.343541</td>\n",
       "      <td>0.344036</td>\n",
       "      <td>0.352038</td>\n",
       "      <td>1.000000</td>\n",
       "      <td>0.344010</td>\n",
       "    </tr>\n",
       "    <tr>\n",
       "      <th>Weighted_Price</th>\n",
       "      <td>0.650737</td>\n",
       "      <td>0.999999</td>\n",
       "      <td>0.999999</td>\n",
       "      <td>1.000000</td>\n",
       "      <td>1.000000</td>\n",
       "      <td>-0.051887</td>\n",
       "      <td>0.344010</td>\n",
       "      <td>1.000000</td>\n",
       "    </tr>\n",
       "  </tbody>\n",
       "</table>\n",
       "</div>"
      ],
      "text/plain": [
       "                   Timestamp      Open      High       Low     Close  \\\n",
       "Timestamp           1.000000  0.650719  0.650644  0.650803  0.650714   \n",
       "Open                0.650719  1.000000  0.999999  0.999999  0.999999   \n",
       "High                0.650644  0.999999  1.000000  0.999998  0.999999   \n",
       "Low                 0.650803  0.999999  0.999998  1.000000  0.999999   \n",
       "Close               0.650714  0.999999  0.999999  0.999999  1.000000   \n",
       "Volume_(BTC)       -0.103926 -0.051860 -0.051717 -0.052040 -0.051877   \n",
       "Volume_(Currency)   0.228190  0.344074  0.344498  0.343541  0.344036   \n",
       "Weighted_Price      0.650737  0.999999  0.999999  1.000000  1.000000   \n",
       "\n",
       "                   Volume_(BTC)  Volume_(Currency)  Weighted_Price  \n",
       "Timestamp             -0.103926           0.228190        0.650737  \n",
       "Open                  -0.051860           0.344074        0.999999  \n",
       "High                  -0.051717           0.344498        0.999999  \n",
       "Low                   -0.052040           0.343541        1.000000  \n",
       "Close                 -0.051877           0.344036        1.000000  \n",
       "Volume_(BTC)           1.000000           0.352038       -0.051887  \n",
       "Volume_(Currency)      0.352038           1.000000        0.344010  \n",
       "Weighted_Price        -0.051887           0.344010        1.000000  "
      ]
     },
     "execution_count": 4,
     "metadata": {},
     "output_type": "execute_result"
    }
   ],
   "source": [
    "data.corr()"
   ]
  },
  {
   "cell_type": "code",
   "execution_count": 5,
   "id": "16cb2e3f",
   "metadata": {
    "execution": {
     "iopub.execute_input": "2024-06-30T19:50:54.450985Z",
     "iopub.status.busy": "2024-06-30T19:50:54.450581Z",
     "iopub.status.idle": "2024-06-30T19:50:56.222661Z",
     "shell.execute_reply": "2024-06-30T19:50:56.221320Z"
    },
    "papermill": {
     "duration": 1.803511,
     "end_time": "2024-06-30T19:50:56.225099",
     "exception": false,
     "start_time": "2024-06-30T19:50:54.421588",
     "status": "completed"
    },
    "tags": []
   },
   "outputs": [
    {
     "data": {
      "image/png": "[encoded data removed]",
      "text/plain": [
       "<Figure size 1800x1800 with 2 Axes>"
      ]
     },
     "metadata": {},
     "output_type": "display_data"
    }
   ],
   "source": [
    "# correlation map\n",
    "f,ax = plt.subplots(figsize=(18, 18))\n",
    "sns.heatmap(data.corr(), annot=True, linewidth=.5, fmt= '.1f',ax=ax)\n",
    "plt.show()"
   ]
  },
  {
   "cell_type": "code",
   "execution_count": 6,
   "id": "acb3c973",
   "metadata": {
    "execution": {
     "iopub.execute_input": "2024-06-30T19:50:56.284570Z",
     "iopub.status.busy": "2024-06-30T19:50:56.283529Z",
     "iopub.status.idle": "2024-06-30T19:50:56.301167Z",
     "shell.execute_reply": "2024-06-30T19:50:56.299806Z"
    },
    "papermill": {
     "duration": 0.049923,
     "end_time": "2024-06-30T19:50:56.303535",
     "exception": false,
     "start_time": "2024-06-30T19:50:56.253612",
     "status": "completed"
    },
    "tags": []
   },
   "outputs": [
    {
     "data": {
      "text/html": [
       "<div>\n",
       "<style scoped>\n",
       "    .dataframe tbody tr th:only-of-type {\n",
       "        vertical-align: middle;\n",
       "    }\n",
       "\n",
       "    .dataframe tbody tr th {\n",
       "        vertical-align: top;\n",
       "    }\n",
       "\n",
       "    .dataframe thead th {\n",
       "        text-align: right;\n",
       "    }\n",
       "</style>\n",
       "<table border=\"1\" class=\"dataframe\">\n",
       "  <thead>\n",
       "    <tr style=\"text-align: right;\">\n",
       "      <th></th>\n",
       "      <th>Timestamp</th>\n",
       "      <th>Open</th>\n",
       "      <th>High</th>\n",
       "      <th>Low</th>\n",
       "      <th>Close</th>\n",
       "      <th>Volume_(BTC)</th>\n",
       "      <th>Volume_(Currency)</th>\n",
       "      <th>Weighted_Price</th>\n",
       "    </tr>\n",
       "  </thead>\n",
       "  <tbody>\n",
       "    <tr>\n",
       "      <th>0</th>\n",
       "      <td>1325317920</td>\n",
       "      <td>4.39</td>\n",
       "      <td>4.39</td>\n",
       "      <td>4.39</td>\n",
       "      <td>4.39</td>\n",
       "      <td>0.455581</td>\n",
       "      <td>2.0</td>\n",
       "      <td>4.39</td>\n",
       "    </tr>\n",
       "    <tr>\n",
       "      <th>1</th>\n",
       "      <td>1325317980</td>\n",
       "      <td>NaN</td>\n",
       "      <td>NaN</td>\n",
       "      <td>NaN</td>\n",
       "      <td>NaN</td>\n",
       "      <td>NaN</td>\n",
       "      <td>NaN</td>\n",
       "      <td>NaN</td>\n",
       "    </tr>\n",
       "    <tr>\n",
       "      <th>2</th>\n",
       "      <td>1325318040</td>\n",
       "      <td>NaN</td>\n",
       "      <td>NaN</td>\n",
       "      <td>NaN</td>\n",
       "      <td>NaN</td>\n",
       "      <td>NaN</td>\n",
       "      <td>NaN</td>\n",
       "      <td>NaN</td>\n",
       "    </tr>\n",
       "    <tr>\n",
       "      <th>3</th>\n",
       "      <td>1325318100</td>\n",
       "      <td>NaN</td>\n",
       "      <td>NaN</td>\n",
       "      <td>NaN</td>\n",
       "      <td>NaN</td>\n",
       "      <td>NaN</td>\n",
       "      <td>NaN</td>\n",
       "      <td>NaN</td>\n",
       "    </tr>\n",
       "    <tr>\n",
       "      <th>4</th>\n",
       "      <td>1325318160</td>\n",
       "      <td>NaN</td>\n",
       "      <td>NaN</td>\n",
       "      <td>NaN</td>\n",
       "      <td>NaN</td>\n",
       "      <td>NaN</td>\n",
       "      <td>NaN</td>\n",
       "      <td>NaN</td>\n",
       "    </tr>\n",
       "    <tr>\n",
       "      <th>5</th>\n",
       "      <td>1325318220</td>\n",
       "      <td>NaN</td>\n",
       "      <td>NaN</td>\n",
       "      <td>NaN</td>\n",
       "      <td>NaN</td>\n",
       "      <td>NaN</td>\n",
       "      <td>NaN</td>\n",
       "      <td>NaN</td>\n",
       "    </tr>\n",
       "    <tr>\n",
       "      <th>6</th>\n",
       "      <td>1325318280</td>\n",
       "      <td>NaN</td>\n",
       "      <td>NaN</td>\n",
       "      <td>NaN</td>\n",
       "      <td>NaN</td>\n",
       "      <td>NaN</td>\n",
       "      <td>NaN</td>\n",
       "      <td>NaN</td>\n",
       "    </tr>\n",
       "    <tr>\n",
       "      <th>7</th>\n",
       "      <td>1325318340</td>\n",
       "      <td>NaN</td>\n",
       "      <td>NaN</td>\n",
       "      <td>NaN</td>\n",
       "      <td>NaN</td>\n",
       "      <td>NaN</td>\n",
       "      <td>NaN</td>\n",
       "      <td>NaN</td>\n",
       "    </tr>\n",
       "    <tr>\n",
       "      <th>8</th>\n",
       "      <td>1325318400</td>\n",
       "      <td>NaN</td>\n",
       "      <td>NaN</td>\n",
       "      <td>NaN</td>\n",
       "      <td>NaN</td>\n",
       "      <td>NaN</td>\n",
       "      <td>NaN</td>\n",
       "      <td>NaN</td>\n",
       "    </tr>\n",
       "    <tr>\n",
       "      <th>9</th>\n",
       "      <td>1325318460</td>\n",
       "      <td>NaN</td>\n",
       "      <td>NaN</td>\n",
       "      <td>NaN</td>\n",
       "      <td>NaN</td>\n",
       "      <td>NaN</td>\n",
       "      <td>NaN</td>\n",
       "      <td>NaN</td>\n",
       "    </tr>\n",
       "  </tbody>\n",
       "</table>\n",
       "</div>"
      ],
      "text/plain": [
       "    Timestamp  Open  High   Low  Close  Volume_(BTC)  Volume_(Currency)  \\\n",
       "0  1325317920  4.39  4.39  4.39   4.39      0.455581                2.0   \n",
       "1  1325317980   NaN   NaN   NaN    NaN           NaN                NaN   \n",
       "2  1325318040   NaN   NaN   NaN    NaN           NaN                NaN   \n",
       "3  1325318100   NaN   NaN   NaN    NaN           NaN                NaN   \n",
       "4  1325318160   NaN   NaN   NaN    NaN           NaN                NaN   \n",
       "5  1325318220   NaN   NaN   NaN    NaN           NaN                NaN   \n",
       "6  1325318280   NaN   NaN   NaN    NaN           NaN                NaN   \n",
       "7  1325318340   NaN   NaN   NaN    NaN           NaN                NaN   \n",
       "8  1325318400   NaN   NaN   NaN    NaN           NaN                NaN   \n",
       "9  1325318460   NaN   NaN   NaN    NaN           NaN                NaN   \n",
       "\n",
       "   Weighted_Price  \n",
       "0            4.39  \n",
       "1             NaN  \n",
       "2             NaN  \n",
       "3             NaN  \n",
       "4             NaN  \n",
       "5             NaN  \n",
       "6             NaN  \n",
       "7             NaN  \n",
       "8             NaN  \n",
       "9             NaN  "
      ]
     },
     "execution_count": 6,
     "metadata": {},
     "output_type": "execute_result"
    }
   ],
   "source": [
    "data.head(10)"
   ]
  },
  {
   "cell_type": "code",
   "execution_count": 7,
   "id": "8f53fbf6",
   "metadata": {
    "execution": {
     "iopub.execute_input": "2024-06-30T19:50:56.426060Z",
     "iopub.status.busy": "2024-06-30T19:50:56.425688Z",
     "iopub.status.idle": "2024-06-30T19:50:56.432846Z",
     "shell.execute_reply": "2024-06-30T19:50:56.431698Z"
    },
    "papermill": {
     "duration": 0.04027,
     "end_time": "2024-06-30T19:50:56.435118",
     "exception": false,
     "start_time": "2024-06-30T19:50:56.394848",
     "status": "completed"
    },
    "tags": []
   },
   "outputs": [
    {
     "data": {
      "text/plain": [
       "Index(['Timestamp', 'Open', 'High', 'Low', 'Close', 'Volume_(BTC)',\n",
       "       'Volume_(Currency)', 'Weighted_Price'],\n",
       "      dtype='object')"
      ]
     },
     "execution_count": 7,
     "metadata": {},
     "output_type": "execute_result"
    }
   ],
   "source": [
    "data.columns"
   ]
  },
  {
   "cell_type": "markdown",
   "id": "0568f8fd",
   "metadata": {
    "papermill": {
     "duration": 0.029467,
     "end_time": "2024-06-30T19:50:56.493931",
     "exception": false,
     "start_time": "2024-06-30T19:50:56.464464",
     "status": "completed"
    },
    "tags": []
   },
   "source": [
    "# 1. INTRODUCTION TO PYTHON\n"
   ]
  },
  {
   "cell_type": "markdown",
   "id": "1c5953e1",
   "metadata": {
    "papermill": {
     "duration": 0.02942,
     "end_time": "2024-06-30T19:50:56.552570",
     "exception": false,
     "start_time": "2024-06-30T19:50:56.523150",
     "status": "completed"
    },
    "tags": []
   },
   "source": [
    "**MATPLOTLIB**\n",
    "\n",
    "Matplot is a python library that help us to plot data. The easiest and most basic plots are line, scatter and histogram plots.\n",
    "\n",
    "Line plot is better when x axis is time.\n",
    "Scatter is better when there is correlation between two variables\n",
    "Histogram is better when we need to see distribution of numerical data.\n",
    "Customization: Colors,labels,thickness of line, title, opacity, grid, figsize, ticks of axis and linestyle"
   ]
  },
  {
   "cell_type": "code",
   "execution_count": 8,
   "id": "a3f7f6a8",
   "metadata": {
    "execution": {
     "iopub.execute_input": "2024-06-30T19:50:56.614114Z",
     "iopub.status.busy": "2024-06-30T19:50:56.613725Z",
     "iopub.status.idle": "2024-06-30T19:50:58.258056Z",
     "shell.execute_reply": "2024-06-30T19:50:58.256883Z"
    },
    "papermill": {
     "duration": 1.67823,
     "end_time": "2024-06-30T19:50:58.260784",
     "exception": false,
     "start_time": "2024-06-30T19:50:56.582554",
     "status": "completed"
    },
    "tags": []
   },
   "outputs": [
    {
     "data": {
      "image/png": "[encoded data removed]",
      "text/plain": [
       "<Figure size 640x480 with 1 Axes>"
      ]
     },
     "metadata": {},
     "output_type": "display_data"
    }
   ],
   "source": [
    "# Line plot\n",
    "# color = color, label = label, linewidth = width of the line, alpha = opacity, grid = grid, linestyle = style of line\n",
    "data.Timestamp.plot(kind = 'line', color = 'g', label = 'Timestamp', linewidth=1, alpha=0.4, grid=True, linestyle=':')\n",
    "data.Open.plot(color = 'r', label = 'Open', linewidth=1, alpha=0.4, grid=True, linestyle='-.')\n",
    "plt.legend(loc='upper right') # legend = puts label into plot\n",
    "plt.xlabel('x axis')          # label = name of label\n",
    "plt.ylabel('y axis')\n",
    "plt.title('Line Plot')        # title = title of plot\n",
    "plt.show()"
   ]
  },
  {
   "cell_type": "code",
   "execution_count": 9,
   "id": "1871b92b",
   "metadata": {
    "execution": {
     "iopub.execute_input": "2024-06-30T19:50:58.324461Z",
     "iopub.status.busy": "2024-06-30T19:50:58.324064Z",
     "iopub.status.idle": "2024-06-30T19:51:12.597483Z",
     "shell.execute_reply": "2024-06-30T19:51:12.596320Z"
    },
    "papermill": {
     "duration": 14.308183,
     "end_time": "2024-06-30T19:51:12.599985",
     "exception": false,
     "start_time": "2024-06-30T19:50:58.291802",
     "status": "completed"
    },
    "tags": []
   },
   "outputs": [
    {
     "data": {
      "text/plain": [
       "Text(0.5, 1.0, 'Low High Scatter Plot')"
      ]
     },
     "execution_count": 9,
     "metadata": {},
     "output_type": "execute_result"
    },
    {
     "data": {
      "image/png": "[encoded data removed]",
      "text/plain": [
       "<Figure size 640x480 with 1 Axes>"
      ]
     },
     "metadata": {},
     "output_type": "display_data"
    }
   ],
   "source": [
    "# Scatter plot \n",
    "# x = low, y = high\n",
    "data.plot(kind='scatter', x='Low', y='High', alpha=0.5, color='pink')\n",
    "plt.xlabel('Low')                          # label = name of the label\n",
    "plt.ylabel('High')\n",
    "plt.title('Low High Scatter Plot')        # title = title of plot"
   ]
  },
  {
   "cell_type": "code",
   "execution_count": 10,
   "id": "a6951dbc",
   "metadata": {
    "execution": {
     "iopub.execute_input": "2024-06-30T19:51:12.663553Z",
     "iopub.status.busy": "2024-06-30T19:51:12.663200Z",
     "iopub.status.idle": "2024-06-30T19:51:13.337964Z",
     "shell.execute_reply": "2024-06-30T19:51:13.336766Z"
    },
    "papermill": {
     "duration": 0.709775,
     "end_time": "2024-06-30T19:51:13.340226",
     "exception": false,
     "start_time": "2024-06-30T19:51:12.630451",
     "status": "completed"
    },
    "tags": []
   },
   "outputs": [
    {
     "data": {
      "image/png": "[encoded data removed]",
      "text/plain": [
       "<Figure size 1200x1200 with 1 Axes>"
      ]
     },
     "metadata": {},
     "output_type": "display_data"
    }
   ],
   "source": [
    "# Histogram\n",
    "# bins = number of bar in figure\n",
    "data.Open.plot(kind = 'hist',bins=18, figsize=(12,12))\n",
    "plt.show()"
   ]
  },
  {
   "cell_type": "code",
   "execution_count": 11,
   "id": "1921f701",
   "metadata": {
    "execution": {
     "iopub.execute_input": "2024-06-30T19:51:13.403968Z",
     "iopub.status.busy": "2024-06-30T19:51:13.403571Z",
     "iopub.status.idle": "2024-06-30T19:51:13.889085Z",
     "shell.execute_reply": "2024-06-30T19:51:13.887968Z"
    },
    "papermill": {
     "duration": 0.520504,
     "end_time": "2024-06-30T19:51:13.891582",
     "exception": false,
     "start_time": "2024-06-30T19:51:13.371078",
     "status": "completed"
    },
    "tags": []
   },
   "outputs": [
    {
     "data": {
      "text/plain": [
       "<Figure size 640x480 with 0 Axes>"
      ]
     },
     "metadata": {},
     "output_type": "display_data"
    }
   ],
   "source": [
    "# clf() = cleans it up again you can start a fresh\n",
    "data.Open.plot(kind = 'hist', bins=50)\n",
    "plt.clf()\n",
    "# We cannot see plot due to clf()"
   ]
  },
  {
   "cell_type": "markdown",
   "id": "9300bc5d",
   "metadata": {
    "papermill": {
     "duration": 0.030746,
     "end_time": "2024-06-30T19:51:13.953579",
     "exception": false,
     "start_time": "2024-06-30T19:51:13.922833",
     "status": "completed"
    },
    "tags": []
   },
   "source": [
    "**DICTIONARY**\n",
    "\n",
    "Why do we need dictionary?\n",
    "\n",
    "It has 'key' and 'value'\n",
    "Faster than lists\n",
    "What is key and value. Example:\n",
    "dictionary = {'spain' : 'madrid'}\n",
    "Key is spain.\n",
    "Values is madrid.\n",
    "\n",
    "**It's that easy.** \n",
    "Lets practice some other properties like keys(), values(), update, add, check, remove key, remove all entries and remove dicrionary."
   ]
  },
  {
   "cell_type": "code",
   "execution_count": 12,
   "id": "0b334974",
   "metadata": {
    "execution": {
     "iopub.execute_input": "2024-06-30T19:51:14.018946Z",
     "iopub.status.busy": "2024-06-30T19:51:14.018146Z",
     "iopub.status.idle": "2024-06-30T19:51:14.025187Z",
     "shell.execute_reply": "2024-06-30T19:51:14.023974Z"
    },
    "papermill": {
     "duration": 0.042247,
     "end_time": "2024-06-30T19:51:14.027569",
     "exception": false,
     "start_time": "2024-06-30T19:51:13.985322",
     "status": "completed"
    },
    "tags": []
   },
   "outputs": [
    {
     "name": "stdout",
     "output_type": "stream",
     "text": [
      "dict_keys(['spain', 'usa'])\n",
      "dict_values(['madrid', 'vegas'])\n"
     ]
    }
   ],
   "source": [
    "# create dictionary and look its key and values\n",
    "dictionary = {'spain': 'madrid', 'usa':'vegas'}\n",
    "print(dictionary.keys())\n",
    "print(dictionary.values())"
   ]
  },
  {
   "cell_type": "code",
   "execution_count": 13,
   "id": "8abd9589",
   "metadata": {
    "execution": {
     "iopub.execute_input": "2024-06-30T19:51:14.091361Z",
     "iopub.status.busy": "2024-06-30T19:51:14.090966Z",
     "iopub.status.idle": "2024-06-30T19:51:14.097971Z",
     "shell.execute_reply": "2024-06-30T19:51:14.096801Z"
    },
    "papermill": {
     "duration": 0.041856,
     "end_time": "2024-06-30T19:51:14.100267",
     "exception": false,
     "start_time": "2024-06-30T19:51:14.058411",
     "status": "completed"
    },
    "tags": []
   },
   "outputs": [
    {
     "name": "stdout",
     "output_type": "stream",
     "text": [
      "{'spain': 'barcelona', 'usa': 'vegas'}\n",
      "{'spain': 'barcelona', 'usa': 'vegas', 'france': 'paris'}\n",
      "{'usa': 'vegas', 'france': 'paris'}\n",
      "True\n",
      "{}\n"
     ]
    }
   ],
   "source": [
    "# Keys have to be immutable objects like string, boolean, float, integer or tubles\n",
    "# List is not immutable\n",
    "# Keys are unique\n",
    "dictionary['spain'] = \"barcelona\"      # update existing entry\n",
    "print(dictionary)\n",
    "dictionary['france'] = \"paris\"         # add new entry\n",
    "print(dictionary)\n",
    "del dictionary['spain']                # remove entry with key 'spain'\n",
    "print(dictionary)\n",
    "print('france' in dictionary)          # check include or not\n",
    "dictionary.clear()                     # remove all entries in dict\n",
    "print(dictionary)"
   ]
  },
  {
   "cell_type": "code",
   "execution_count": 14,
   "id": "a24c37d7",
   "metadata": {
    "execution": {
     "iopub.execute_input": "2024-06-30T19:51:14.164480Z",
     "iopub.status.busy": "2024-06-30T19:51:14.164080Z",
     "iopub.status.idle": "2024-06-30T19:51:14.169901Z",
     "shell.execute_reply": "2024-06-30T19:51:14.168544Z"
    },
    "papermill": {
     "duration": 0.040904,
     "end_time": "2024-06-30T19:51:14.172331",
     "exception": false,
     "start_time": "2024-06-30T19:51:14.131427",
     "status": "completed"
    },
    "tags": []
   },
   "outputs": [
    {
     "name": "stdout",
     "output_type": "stream",
     "text": [
      "{}\n"
     ]
    }
   ],
   "source": [
    "# In order to run all code you need to take comment this line\n",
    "#del dictionary         # delete entire dictionary     \n",
    "print(dictionary)       # it gives error because dictionary is deleted"
   ]
  },
  {
   "cell_type": "markdown",
   "id": "e815615f",
   "metadata": {
    "papermill": {
     "duration": 0.031054,
     "end_time": "2024-06-30T19:51:14.234599",
     "exception": false,
     "start_time": "2024-06-30T19:51:14.203545",
     "status": "completed"
    },
    "tags": []
   },
   "source": [
    "**PANDAS**\n",
    "\n",
    "What do we need to know about pandas?\n",
    "\n",
    "CSV: comma - separated values"
   ]
  },
  {
   "cell_type": "code",
   "execution_count": 15,
   "id": "8771c7d0",
   "metadata": {
    "execution": {
     "iopub.execute_input": "2024-06-30T19:51:14.299496Z",
     "iopub.status.busy": "2024-06-30T19:51:14.299126Z",
     "iopub.status.idle": "2024-06-30T19:51:18.426075Z",
     "shell.execute_reply": "2024-06-30T19:51:18.424748Z"
    },
    "papermill": {
     "duration": 4.16313,
     "end_time": "2024-06-30T19:51:18.428819",
     "exception": false,
     "start_time": "2024-06-30T19:51:14.265689",
     "status": "completed"
    },
    "tags": []
   },
   "outputs": [],
   "source": [
    "data = pd.read_csv(\"/kaggle/input/bitcoin-historical-data/bitstampUSD_1-min_data_2012-01-01_to_2021-03-31.csv\")"
   ]
  },
  {
   "cell_type": "code",
   "execution_count": 16,
   "id": "0391b21b",
   "metadata": {
    "execution": {
     "iopub.execute_input": "2024-06-30T19:51:18.495699Z",
     "iopub.status.busy": "2024-06-30T19:51:18.495303Z",
     "iopub.status.idle": "2024-06-30T19:51:18.510491Z",
     "shell.execute_reply": "2024-06-30T19:51:18.509322Z"
    },
    "papermill": {
     "duration": 0.051725,
     "end_time": "2024-06-30T19:51:18.513069",
     "exception": false,
     "start_time": "2024-06-30T19:51:18.461344",
     "status": "completed"
    },
    "tags": []
   },
   "outputs": [
    {
     "name": "stdout",
     "output_type": "stream",
     "text": [
      "<class 'pandas.core.series.Series'>\n",
      "<class 'pandas.core.frame.DataFrame'>\n"
     ]
    }
   ],
   "source": [
    "series = data['Open']           # data['Open'] = series\n",
    "print(type(series))\n",
    "data_frame = data[['Open']]     # data[['Open']] = data frame\n",
    "print(type(data_frame))"
   ]
  },
  {
   "cell_type": "markdown",
   "id": "27bff75d",
   "metadata": {
    "papermill": {
     "duration": 0.031165,
     "end_time": "2024-06-30T19:51:18.575602",
     "exception": false,
     "start_time": "2024-06-30T19:51:18.544437",
     "status": "completed"
    },
    "tags": []
   },
   "source": [
    "Before continuing with pandas, we need to learn logic, control flow and filtering. \n",
    "\n",
    "Comparison operator: ==, <, >, <= \n",
    "\n",
    "Boolean operators: and, or ,not \n",
    "\n",
    "Filtering pandas\n"
   ]
  },
  {
   "cell_type": "code",
   "execution_count": 17,
   "id": "5f7e38fd",
   "metadata": {
    "execution": {
     "iopub.execute_input": "2024-06-30T19:51:18.640444Z",
     "iopub.status.busy": "2024-06-30T19:51:18.640054Z",
     "iopub.status.idle": "2024-06-30T19:51:18.646679Z",
     "shell.execute_reply": "2024-06-30T19:51:18.645376Z"
    },
    "papermill": {
     "duration": 0.041924,
     "end_time": "2024-06-30T19:51:18.649351",
     "exception": false,
     "start_time": "2024-06-30T19:51:18.607427",
     "status": "completed"
    },
    "tags": []
   },
   "outputs": [
    {
     "name": "stdout",
     "output_type": "stream",
     "text": [
      "True\n",
      "True\n",
      "False\n",
      "True\n"
     ]
    }
   ],
   "source": [
    "# Comparision operator\n",
    "print(3>2)\n",
    "print(3!=2)\n",
    "# Boolean operators\n",
    "print(True and False)\n",
    "print(True or False)"
   ]
  },
  {
   "cell_type": "code",
   "execution_count": 18,
   "id": "87d97bc3",
   "metadata": {
    "execution": {
     "iopub.execute_input": "2024-06-30T19:51:18.722464Z",
     "iopub.status.busy": "2024-06-30T19:51:18.722089Z",
     "iopub.status.idle": "2024-06-30T19:51:18.748217Z",
     "shell.execute_reply": "2024-06-30T19:51:18.747040Z"
    },
    "papermill": {
     "duration": 0.065537,
     "end_time": "2024-06-30T19:51:18.750808",
     "exception": false,
     "start_time": "2024-06-30T19:51:18.685271",
     "status": "completed"
    },
    "tags": []
   },
   "outputs": [
    {
     "data": {
      "text/html": [
       "<div>\n",
       "<style scoped>\n",
       "    .dataframe tbody tr th:only-of-type {\n",
       "        vertical-align: middle;\n",
       "    }\n",
       "\n",
       "    .dataframe tbody tr th {\n",
       "        vertical-align: top;\n",
       "    }\n",
       "\n",
       "    .dataframe thead th {\n",
       "        text-align: right;\n",
       "    }\n",
       "</style>\n",
       "<table border=\"1\" class=\"dataframe\">\n",
       "  <thead>\n",
       "    <tr style=\"text-align: right;\">\n",
       "      <th></th>\n",
       "      <th>Timestamp</th>\n",
       "      <th>Open</th>\n",
       "      <th>High</th>\n",
       "      <th>Low</th>\n",
       "      <th>Close</th>\n",
       "      <th>Volume_(BTC)</th>\n",
       "      <th>Volume_(Currency)</th>\n",
       "      <th>Weighted_Price</th>\n",
       "    </tr>\n",
       "  </thead>\n",
       "  <tbody>\n",
       "    <tr>\n",
       "      <th>4832668</th>\n",
       "      <td>1615666320</td>\n",
       "      <td>61034.74</td>\n",
       "      <td>61143.55</td>\n",
       "      <td>61011.21</td>\n",
       "      <td>61120.00</td>\n",
       "      <td>5.014562</td>\n",
       "      <td>306191.696030</td>\n",
       "      <td>61060.503543</td>\n",
       "    </tr>\n",
       "    <tr>\n",
       "      <th>4832669</th>\n",
       "      <td>1615666380</td>\n",
       "      <td>61153.11</td>\n",
       "      <td>61224.73</td>\n",
       "      <td>61117.24</td>\n",
       "      <td>61199.43</td>\n",
       "      <td>4.638432</td>\n",
       "      <td>283755.187870</td>\n",
       "      <td>61174.811745</td>\n",
       "    </tr>\n",
       "    <tr>\n",
       "      <th>4832670</th>\n",
       "      <td>1615666440</td>\n",
       "      <td>61199.43</td>\n",
       "      <td>61222.03</td>\n",
       "      <td>61085.69</td>\n",
       "      <td>61114.57</td>\n",
       "      <td>6.089384</td>\n",
       "      <td>372298.735920</td>\n",
       "      <td>61138.979124</td>\n",
       "    </tr>\n",
       "    <tr>\n",
       "      <th>4832671</th>\n",
       "      <td>1615666500</td>\n",
       "      <td>61114.57</td>\n",
       "      <td>61278.71</td>\n",
       "      <td>61061.99</td>\n",
       "      <td>61254.91</td>\n",
       "      <td>6.462134</td>\n",
       "      <td>395511.175370</td>\n",
       "      <td>61204.417775</td>\n",
       "    </tr>\n",
       "    <tr>\n",
       "      <th>4832672</th>\n",
       "      <td>1615666560</td>\n",
       "      <td>61256.66</td>\n",
       "      <td>61351.00</td>\n",
       "      <td>61231.00</td>\n",
       "      <td>61297.71</td>\n",
       "      <td>11.171952</td>\n",
       "      <td>684677.506340</td>\n",
       "      <td>61285.397559</td>\n",
       "    </tr>\n",
       "    <tr>\n",
       "      <th>...</th>\n",
       "      <td>...</td>\n",
       "      <td>...</td>\n",
       "      <td>...</td>\n",
       "      <td>...</td>\n",
       "      <td>...</td>\n",
       "      <td>...</td>\n",
       "      <td>...</td>\n",
       "      <td>...</td>\n",
       "    </tr>\n",
       "    <tr>\n",
       "      <th>4833488</th>\n",
       "      <td>1615715520</td>\n",
       "      <td>61010.85</td>\n",
       "      <td>61033.81</td>\n",
       "      <td>60998.00</td>\n",
       "      <td>61022.64</td>\n",
       "      <td>0.865988</td>\n",
       "      <td>52826.193832</td>\n",
       "      <td>61001.088125</td>\n",
       "    </tr>\n",
       "    <tr>\n",
       "      <th>4833489</th>\n",
       "      <td>1615715580</td>\n",
       "      <td>61022.64</td>\n",
       "      <td>61042.97</td>\n",
       "      <td>61019.73</td>\n",
       "      <td>61042.97</td>\n",
       "      <td>0.882370</td>\n",
       "      <td>53854.788517</td>\n",
       "      <td>61034.215864</td>\n",
       "    </tr>\n",
       "    <tr>\n",
       "      <th>4833490</th>\n",
       "      <td>1615715640</td>\n",
       "      <td>61042.97</td>\n",
       "      <td>61071.12</td>\n",
       "      <td>61031.72</td>\n",
       "      <td>61031.72</td>\n",
       "      <td>3.497203</td>\n",
       "      <td>213546.273960</td>\n",
       "      <td>61062.025043</td>\n",
       "    </tr>\n",
       "    <tr>\n",
       "      <th>4833491</th>\n",
       "      <td>1615715700</td>\n",
       "      <td>61047.39</td>\n",
       "      <td>61054.81</td>\n",
       "      <td>60998.00</td>\n",
       "      <td>61012.51</td>\n",
       "      <td>2.100374</td>\n",
       "      <td>128151.372940</td>\n",
       "      <td>61013.596203</td>\n",
       "    </tr>\n",
       "    <tr>\n",
       "      <th>4833492</th>\n",
       "      <td>1615715760</td>\n",
       "      <td>61010.02</td>\n",
       "      <td>61010.02</td>\n",
       "      <td>60950.00</td>\n",
       "      <td>60950.00</td>\n",
       "      <td>0.057738</td>\n",
       "      <td>3519.514550</td>\n",
       "      <td>60956.377276</td>\n",
       "    </tr>\n",
       "  </tbody>\n",
       "</table>\n",
       "<p>467 rows × 8 columns</p>\n",
       "</div>"
      ],
      "text/plain": [
       "          Timestamp      Open      High       Low     Close  Volume_(BTC)  \\\n",
       "4832668  1615666320  61034.74  61143.55  61011.21  61120.00      5.014562   \n",
       "4832669  1615666380  61153.11  61224.73  61117.24  61199.43      4.638432   \n",
       "4832670  1615666440  61199.43  61222.03  61085.69  61114.57      6.089384   \n",
       "4832671  1615666500  61114.57  61278.71  61061.99  61254.91      6.462134   \n",
       "4832672  1615666560  61256.66  61351.00  61231.00  61297.71     11.171952   \n",
       "...             ...       ...       ...       ...       ...           ...   \n",
       "4833488  1615715520  61010.85  61033.81  60998.00  61022.64      0.865988   \n",
       "4833489  1615715580  61022.64  61042.97  61019.73  61042.97      0.882370   \n",
       "4833490  1615715640  61042.97  61071.12  61031.72  61031.72      3.497203   \n",
       "4833491  1615715700  61047.39  61054.81  60998.00  61012.51      2.100374   \n",
       "4833492  1615715760  61010.02  61010.02  60950.00  60950.00      0.057738   \n",
       "\n",
       "         Volume_(Currency)  Weighted_Price  \n",
       "4832668      306191.696030    61060.503543  \n",
       "4832669      283755.187870    61174.811745  \n",
       "4832670      372298.735920    61138.979124  \n",
       "4832671      395511.175370    61204.417775  \n",
       "4832672      684677.506340    61285.397559  \n",
       "...                    ...             ...  \n",
       "4833488       52826.193832    61001.088125  \n",
       "4833489       53854.788517    61034.215864  \n",
       "4833490      213546.273960    61062.025043  \n",
       "4833491      128151.372940    61013.596203  \n",
       "4833492        3519.514550    60956.377276  \n",
       "\n",
       "[467 rows x 8 columns]"
      ]
     },
     "execution_count": 18,
     "metadata": {},
     "output_type": "execute_result"
    }
   ],
   "source": [
    "# 1 - Filtering Pandas data frame\n",
    "x = data['Open']>61000    # Filters the Bitcoin historical data to find rows where the 'Open' price is greater than 61000; there are 467 such rows\n",
    "data[x]"
   ]
  },
  {
   "cell_type": "code",
   "execution_count": 19,
   "id": "ecfe2b07",
   "metadata": {
    "execution": {
     "iopub.execute_input": "2024-06-30T19:51:18.816573Z",
     "iopub.status.busy": "2024-06-30T19:51:18.816176Z",
     "iopub.status.idle": "2024-06-30T19:51:18.851537Z",
     "shell.execute_reply": "2024-06-30T19:51:18.850446Z"
    },
    "papermill": {
     "duration": 0.071005,
     "end_time": "2024-06-30T19:51:18.854099",
     "exception": false,
     "start_time": "2024-06-30T19:51:18.783094",
     "status": "completed"
    },
    "tags": []
   },
   "outputs": [
    {
     "data": {
      "text/html": [
       "<div>\n",
       "<style scoped>\n",
       "    .dataframe tbody tr th:only-of-type {\n",
       "        vertical-align: middle;\n",
       "    }\n",
       "\n",
       "    .dataframe tbody tr th {\n",
       "        vertical-align: top;\n",
       "    }\n",
       "\n",
       "    .dataframe thead th {\n",
       "        text-align: right;\n",
       "    }\n",
       "</style>\n",
       "<table border=\"1\" class=\"dataframe\">\n",
       "  <thead>\n",
       "    <tr style=\"text-align: right;\">\n",
       "      <th></th>\n",
       "      <th>Timestamp</th>\n",
       "      <th>Open</th>\n",
       "      <th>High</th>\n",
       "      <th>Low</th>\n",
       "      <th>Close</th>\n",
       "      <th>Volume_(BTC)</th>\n",
       "      <th>Volume_(Currency)</th>\n",
       "      <th>Weighted_Price</th>\n",
       "    </tr>\n",
       "  </thead>\n",
       "  <tbody>\n",
       "    <tr>\n",
       "      <th>4832668</th>\n",
       "      <td>1615666320</td>\n",
       "      <td>61034.74</td>\n",
       "      <td>61143.55</td>\n",
       "      <td>61011.21</td>\n",
       "      <td>61120.00</td>\n",
       "      <td>5.014562</td>\n",
       "      <td>306191.696030</td>\n",
       "      <td>61060.503543</td>\n",
       "    </tr>\n",
       "    <tr>\n",
       "      <th>4832669</th>\n",
       "      <td>1615666380</td>\n",
       "      <td>61153.11</td>\n",
       "      <td>61224.73</td>\n",
       "      <td>61117.24</td>\n",
       "      <td>61199.43</td>\n",
       "      <td>4.638432</td>\n",
       "      <td>283755.187870</td>\n",
       "      <td>61174.811745</td>\n",
       "    </tr>\n",
       "    <tr>\n",
       "      <th>4832670</th>\n",
       "      <td>1615666440</td>\n",
       "      <td>61199.43</td>\n",
       "      <td>61222.03</td>\n",
       "      <td>61085.69</td>\n",
       "      <td>61114.57</td>\n",
       "      <td>6.089384</td>\n",
       "      <td>372298.735920</td>\n",
       "      <td>61138.979124</td>\n",
       "    </tr>\n",
       "    <tr>\n",
       "      <th>4832671</th>\n",
       "      <td>1615666500</td>\n",
       "      <td>61114.57</td>\n",
       "      <td>61278.71</td>\n",
       "      <td>61061.99</td>\n",
       "      <td>61254.91</td>\n",
       "      <td>6.462134</td>\n",
       "      <td>395511.175370</td>\n",
       "      <td>61204.417775</td>\n",
       "    </tr>\n",
       "    <tr>\n",
       "      <th>4832672</th>\n",
       "      <td>1615666560</td>\n",
       "      <td>61256.66</td>\n",
       "      <td>61351.00</td>\n",
       "      <td>61231.00</td>\n",
       "      <td>61297.71</td>\n",
       "      <td>11.171952</td>\n",
       "      <td>684677.506340</td>\n",
       "      <td>61285.397559</td>\n",
       "    </tr>\n",
       "    <tr>\n",
       "      <th>...</th>\n",
       "      <td>...</td>\n",
       "      <td>...</td>\n",
       "      <td>...</td>\n",
       "      <td>...</td>\n",
       "      <td>...</td>\n",
       "      <td>...</td>\n",
       "      <td>...</td>\n",
       "      <td>...</td>\n",
       "    </tr>\n",
       "    <tr>\n",
       "      <th>4833239</th>\n",
       "      <td>1615700580</td>\n",
       "      <td>61097.43</td>\n",
       "      <td>61118.27</td>\n",
       "      <td>61092.33</td>\n",
       "      <td>61097.63</td>\n",
       "      <td>0.781343</td>\n",
       "      <td>47738.287835</td>\n",
       "      <td>61097.774452</td>\n",
       "    </tr>\n",
       "    <tr>\n",
       "      <th>4833241</th>\n",
       "      <td>1615700700</td>\n",
       "      <td>61073.09</td>\n",
       "      <td>61103.93</td>\n",
       "      <td>61073.09</td>\n",
       "      <td>61091.66</td>\n",
       "      <td>2.178199</td>\n",
       "      <td>133085.423540</td>\n",
       "      <td>61098.838834</td>\n",
       "    </tr>\n",
       "    <tr>\n",
       "      <th>4833242</th>\n",
       "      <td>1615700760</td>\n",
       "      <td>61095.33</td>\n",
       "      <td>61102.78</td>\n",
       "      <td>61063.65</td>\n",
       "      <td>61075.58</td>\n",
       "      <td>5.799408</td>\n",
       "      <td>354196.533770</td>\n",
       "      <td>61074.602872</td>\n",
       "    </tr>\n",
       "    <tr>\n",
       "      <th>4833253</th>\n",
       "      <td>1615701420</td>\n",
       "      <td>61081.04</td>\n",
       "      <td>61101.81</td>\n",
       "      <td>61017.90</td>\n",
       "      <td>61059.78</td>\n",
       "      <td>5.213913</td>\n",
       "      <td>318316.328050</td>\n",
       "      <td>61051.326723</td>\n",
       "    </tr>\n",
       "    <tr>\n",
       "      <th>4833470</th>\n",
       "      <td>1615714440</td>\n",
       "      <td>61058.69</td>\n",
       "      <td>61102.90</td>\n",
       "      <td>61058.69</td>\n",
       "      <td>61098.97</td>\n",
       "      <td>2.656631</td>\n",
       "      <td>162308.285550</td>\n",
       "      <td>61095.532709</td>\n",
       "    </tr>\n",
       "  </tbody>\n",
       "</table>\n",
       "<p>368 rows × 8 columns</p>\n",
       "</div>"
      ],
      "text/plain": [
       "          Timestamp      Open      High       Low     Close  Volume_(BTC)  \\\n",
       "4832668  1615666320  61034.74  61143.55  61011.21  61120.00      5.014562   \n",
       "4832669  1615666380  61153.11  61224.73  61117.24  61199.43      4.638432   \n",
       "4832670  1615666440  61199.43  61222.03  61085.69  61114.57      6.089384   \n",
       "4832671  1615666500  61114.57  61278.71  61061.99  61254.91      6.462134   \n",
       "4832672  1615666560  61256.66  61351.00  61231.00  61297.71     11.171952   \n",
       "...             ...       ...       ...       ...       ...           ...   \n",
       "4833239  1615700580  61097.43  61118.27  61092.33  61097.63      0.781343   \n",
       "4833241  1615700700  61073.09  61103.93  61073.09  61091.66      2.178199   \n",
       "4833242  1615700760  61095.33  61102.78  61063.65  61075.58      5.799408   \n",
       "4833253  1615701420  61081.04  61101.81  61017.90  61059.78      5.213913   \n",
       "4833470  1615714440  61058.69  61102.90  61058.69  61098.97      2.656631   \n",
       "\n",
       "         Volume_(Currency)  Weighted_Price  \n",
       "4832668      306191.696030    61060.503543  \n",
       "4832669      283755.187870    61174.811745  \n",
       "4832670      372298.735920    61138.979124  \n",
       "4832671      395511.175370    61204.417775  \n",
       "4832672      684677.506340    61285.397559  \n",
       "...                    ...             ...  \n",
       "4833239       47738.287835    61097.774452  \n",
       "4833241      133085.423540    61098.838834  \n",
       "4833242      354196.533770    61074.602872  \n",
       "4833253      318316.328050    61051.326723  \n",
       "4833470      162308.285550    61095.532709  \n",
       "\n",
       "[368 rows x 8 columns]"
      ]
     },
     "execution_count": 19,
     "metadata": {},
     "output_type": "execute_result"
    }
   ],
   "source": [
    "# 2 - Filtering pandas with logical_and\n",
    "# There are only 368 pokemons who have higher Open value than 61000 and higher High value than 61100\n",
    "data[np.logical_and(data['Open']>61000, data['High']>61100 )]"
   ]
  },
  {
   "cell_type": "code",
   "execution_count": 20,
   "id": "0297af8a",
   "metadata": {
    "execution": {
     "iopub.execute_input": "2024-06-30T19:51:18.937666Z",
     "iopub.status.busy": "2024-06-30T19:51:18.936854Z",
     "iopub.status.idle": "2024-06-30T19:51:18.970258Z",
     "shell.execute_reply": "2024-06-30T19:51:18.969003Z"
    },
    "papermill": {
     "duration": 0.078397,
     "end_time": "2024-06-30T19:51:18.972811",
     "exception": false,
     "start_time": "2024-06-30T19:51:18.894414",
     "status": "completed"
    },
    "tags": []
   },
   "outputs": [
    {
     "data": {
      "text/html": [
       "<div>\n",
       "<style scoped>\n",
       "    .dataframe tbody tr th:only-of-type {\n",
       "        vertical-align: middle;\n",
       "    }\n",
       "\n",
       "    .dataframe tbody tr th {\n",
       "        vertical-align: top;\n",
       "    }\n",
       "\n",
       "    .dataframe thead th {\n",
       "        text-align: right;\n",
       "    }\n",
       "</style>\n",
       "<table border=\"1\" class=\"dataframe\">\n",
       "  <thead>\n",
       "    <tr style=\"text-align: right;\">\n",
       "      <th></th>\n",
       "      <th>Timestamp</th>\n",
       "      <th>Open</th>\n",
       "      <th>High</th>\n",
       "      <th>Low</th>\n",
       "      <th>Close</th>\n",
       "      <th>Volume_(BTC)</th>\n",
       "      <th>Volume_(Currency)</th>\n",
       "      <th>Weighted_Price</th>\n",
       "    </tr>\n",
       "  </thead>\n",
       "  <tbody>\n",
       "    <tr>\n",
       "      <th>4832668</th>\n",
       "      <td>1615666320</td>\n",
       "      <td>61034.74</td>\n",
       "      <td>61143.55</td>\n",
       "      <td>61011.21</td>\n",
       "      <td>61120.00</td>\n",
       "      <td>5.014562</td>\n",
       "      <td>306191.696030</td>\n",
       "      <td>61060.503543</td>\n",
       "    </tr>\n",
       "    <tr>\n",
       "      <th>4832669</th>\n",
       "      <td>1615666380</td>\n",
       "      <td>61153.11</td>\n",
       "      <td>61224.73</td>\n",
       "      <td>61117.24</td>\n",
       "      <td>61199.43</td>\n",
       "      <td>4.638432</td>\n",
       "      <td>283755.187870</td>\n",
       "      <td>61174.811745</td>\n",
       "    </tr>\n",
       "    <tr>\n",
       "      <th>4832670</th>\n",
       "      <td>1615666440</td>\n",
       "      <td>61199.43</td>\n",
       "      <td>61222.03</td>\n",
       "      <td>61085.69</td>\n",
       "      <td>61114.57</td>\n",
       "      <td>6.089384</td>\n",
       "      <td>372298.735920</td>\n",
       "      <td>61138.979124</td>\n",
       "    </tr>\n",
       "    <tr>\n",
       "      <th>4832671</th>\n",
       "      <td>1615666500</td>\n",
       "      <td>61114.57</td>\n",
       "      <td>61278.71</td>\n",
       "      <td>61061.99</td>\n",
       "      <td>61254.91</td>\n",
       "      <td>6.462134</td>\n",
       "      <td>395511.175370</td>\n",
       "      <td>61204.417775</td>\n",
       "    </tr>\n",
       "    <tr>\n",
       "      <th>4832672</th>\n",
       "      <td>1615666560</td>\n",
       "      <td>61256.66</td>\n",
       "      <td>61351.00</td>\n",
       "      <td>61231.00</td>\n",
       "      <td>61297.71</td>\n",
       "      <td>11.171952</td>\n",
       "      <td>684677.506340</td>\n",
       "      <td>61285.397559</td>\n",
       "    </tr>\n",
       "    <tr>\n",
       "      <th>...</th>\n",
       "      <td>...</td>\n",
       "      <td>...</td>\n",
       "      <td>...</td>\n",
       "      <td>...</td>\n",
       "      <td>...</td>\n",
       "      <td>...</td>\n",
       "      <td>...</td>\n",
       "      <td>...</td>\n",
       "    </tr>\n",
       "    <tr>\n",
       "      <th>4833239</th>\n",
       "      <td>1615700580</td>\n",
       "      <td>61097.43</td>\n",
       "      <td>61118.27</td>\n",
       "      <td>61092.33</td>\n",
       "      <td>61097.63</td>\n",
       "      <td>0.781343</td>\n",
       "      <td>47738.287835</td>\n",
       "      <td>61097.774452</td>\n",
       "    </tr>\n",
       "    <tr>\n",
       "      <th>4833241</th>\n",
       "      <td>1615700700</td>\n",
       "      <td>61073.09</td>\n",
       "      <td>61103.93</td>\n",
       "      <td>61073.09</td>\n",
       "      <td>61091.66</td>\n",
       "      <td>2.178199</td>\n",
       "      <td>133085.423540</td>\n",
       "      <td>61098.838834</td>\n",
       "    </tr>\n",
       "    <tr>\n",
       "      <th>4833242</th>\n",
       "      <td>1615700760</td>\n",
       "      <td>61095.33</td>\n",
       "      <td>61102.78</td>\n",
       "      <td>61063.65</td>\n",
       "      <td>61075.58</td>\n",
       "      <td>5.799408</td>\n",
       "      <td>354196.533770</td>\n",
       "      <td>61074.602872</td>\n",
       "    </tr>\n",
       "    <tr>\n",
       "      <th>4833253</th>\n",
       "      <td>1615701420</td>\n",
       "      <td>61081.04</td>\n",
       "      <td>61101.81</td>\n",
       "      <td>61017.90</td>\n",
       "      <td>61059.78</td>\n",
       "      <td>5.213913</td>\n",
       "      <td>318316.328050</td>\n",
       "      <td>61051.326723</td>\n",
       "    </tr>\n",
       "    <tr>\n",
       "      <th>4833470</th>\n",
       "      <td>1615714440</td>\n",
       "      <td>61058.69</td>\n",
       "      <td>61102.90</td>\n",
       "      <td>61058.69</td>\n",
       "      <td>61098.97</td>\n",
       "      <td>2.656631</td>\n",
       "      <td>162308.285550</td>\n",
       "      <td>61095.532709</td>\n",
       "    </tr>\n",
       "  </tbody>\n",
       "</table>\n",
       "<p>368 rows × 8 columns</p>\n",
       "</div>"
      ],
      "text/plain": [
       "          Timestamp      Open      High       Low     Close  Volume_(BTC)  \\\n",
       "4832668  1615666320  61034.74  61143.55  61011.21  61120.00      5.014562   \n",
       "4832669  1615666380  61153.11  61224.73  61117.24  61199.43      4.638432   \n",
       "4832670  1615666440  61199.43  61222.03  61085.69  61114.57      6.089384   \n",
       "4832671  1615666500  61114.57  61278.71  61061.99  61254.91      6.462134   \n",
       "4832672  1615666560  61256.66  61351.00  61231.00  61297.71     11.171952   \n",
       "...             ...       ...       ...       ...       ...           ...   \n",
       "4833239  1615700580  61097.43  61118.27  61092.33  61097.63      0.781343   \n",
       "4833241  1615700700  61073.09  61103.93  61073.09  61091.66      2.178199   \n",
       "4833242  1615700760  61095.33  61102.78  61063.65  61075.58      5.799408   \n",
       "4833253  1615701420  61081.04  61101.81  61017.90  61059.78      5.213913   \n",
       "4833470  1615714440  61058.69  61102.90  61058.69  61098.97      2.656631   \n",
       "\n",
       "         Volume_(Currency)  Weighted_Price  \n",
       "4832668      306191.696030    61060.503543  \n",
       "4832669      283755.187870    61174.811745  \n",
       "4832670      372298.735920    61138.979124  \n",
       "4832671      395511.175370    61204.417775  \n",
       "4832672      684677.506340    61285.397559  \n",
       "...                    ...             ...  \n",
       "4833239       47738.287835    61097.774452  \n",
       "4833241      133085.423540    61098.838834  \n",
       "4833242      354196.533770    61074.602872  \n",
       "4833253      318316.328050    61051.326723  \n",
       "4833470      162308.285550    61095.532709  \n",
       "\n",
       "[368 rows x 8 columns]"
      ]
     },
     "execution_count": 20,
     "metadata": {},
     "output_type": "execute_result"
    }
   ],
   "source": [
    "# This is also same with previous code line. Therefore we can also use '&' for filtering.\n",
    "data[(data['Open']>61000) & (data['High']>61100)]"
   ]
  },
  {
   "cell_type": "markdown",
   "id": "667489f2",
   "metadata": {
    "papermill": {
     "duration": 0.031894,
     "end_time": "2024-06-30T19:51:19.036889",
     "exception": false,
     "start_time": "2024-06-30T19:51:19.004995",
     "status": "completed"
    },
    "tags": []
   },
   "source": [
    "****WHILE and FOR LOOPS****\n",
    "\n",
    "****We will learn the most basic while and for loops****"
   ]
  },
  {
   "cell_type": "code",
   "execution_count": 21,
   "id": "16f7f75c",
   "metadata": {
    "execution": {
     "iopub.execute_input": "2024-06-30T19:51:19.103547Z",
     "iopub.status.busy": "2024-06-30T19:51:19.103139Z",
     "iopub.status.idle": "2024-06-30T19:51:19.109091Z",
     "shell.execute_reply": "2024-06-30T19:51:19.108078Z"
    },
    "papermill": {
     "duration": 0.042457,
     "end_time": "2024-06-30T19:51:19.111481",
     "exception": false,
     "start_time": "2024-06-30T19:51:19.069024",
     "status": "completed"
    },
    "tags": []
   },
   "outputs": [
    {
     "name": "stdout",
     "output_type": "stream",
     "text": [
      "i is:  0\n",
      "i is:  1\n",
      "i is:  2\n",
      "i is:  3\n",
      "i is:  4\n",
      "5 is equal to 5\n"
     ]
    }
   ],
   "source": [
    "# Stay in loop if condition( i is not equal 5) is true\n",
    "i = 0\n",
    "while i!=5 :\n",
    "    print('i is: ',i)\n",
    "    i+=1\n",
    "print(i, 'is equal to 5')"
   ]
  },
  {
   "cell_type": "code",
   "execution_count": 22,
   "id": "9baefe17",
   "metadata": {
    "execution": {
     "iopub.execute_input": "2024-06-30T19:51:19.178534Z",
     "iopub.status.busy": "2024-06-30T19:51:19.178149Z",
     "iopub.status.idle": "2024-06-30T19:51:19.202092Z",
     "shell.execute_reply": "2024-06-30T19:51:19.200796Z"
    },
    "papermill": {
     "duration": 0.060696,
     "end_time": "2024-06-30T19:51:19.204479",
     "exception": false,
     "start_time": "2024-06-30T19:51:19.143783",
     "status": "completed"
    },
    "tags": []
   },
   "outputs": [
    {
     "name": "stdout",
     "output_type": "stream",
     "text": [
      "i is:  1\n",
      "i is:  2\n",
      "i is:  3\n",
      "i is:  4\n",
      "i is:  5\n",
      "\n",
      "0 : 1\n",
      "1 : 2\n",
      "2 : 3\n",
      "3 : 4\n",
      "4 : 5\n",
      "\n",
      "spain  :  madrid\n",
      "france  :  paris\n",
      "\n",
      "0  :  Open    4.39\n",
      "Name: 0, dtype: float64\n"
     ]
    }
   ],
   "source": [
    "# Stay in loop if condition( i is not equal 5) is true\n",
    "lis = [1,2,3,4,5]\n",
    "for i in lis:\n",
    "    print('i is: ',i)\n",
    "print('')\n",
    "\n",
    "# Enumarate index and value of list\n",
    "# index : value = 0:1, 1:2, 2:3, 3:4, 4:5\n",
    "for index, value in enumerate(lis):\n",
    "    print(index,\":\", value)\n",
    "print('')\n",
    "\n",
    "# For dictionaries\n",
    "# We can use for loop to achive key and value of dictionary. We learnt key and value at dictionary part.\n",
    "dictionary = {'spain':'madrid','france':'paris'}\n",
    "for key, value in dictionary.items():\n",
    "    print(key, \" : \",value)\n",
    "print('')\n",
    "\n",
    "# For pandas we can achieve index and value\n",
    "for index, value in data[['Open']][0:1].iterrows():\n",
    "    print(index,\" : \",value)"
   ]
  },
  {
   "cell_type": "markdown",
   "id": "2d5a2273",
   "metadata": {
    "papermill": {
     "duration": 0.032931,
     "end_time": "2024-06-30T19:51:19.270765",
     "exception": false,
     "start_time": "2024-06-30T19:51:19.237834",
     "status": "completed"
    },
    "tags": []
   },
   "source": [
    "In this part, you learn:\n",
    "\n",
    "* how to import csv file\n",
    "* plotting line,scatter and histogram\n",
    "* basic dictionary features\n",
    "*  basic pandas features like filtering that is actually something always used and main for being data scientist\n",
    "* While and for loops"
   ]
  },
  {
   "cell_type": "markdown",
   "id": "ab34d595",
   "metadata": {
    "papermill": {
     "duration": 0.032411,
     "end_time": "2024-06-30T19:51:19.336148",
     "exception": false,
     "start_time": "2024-06-30T19:51:19.303737",
     "status": "completed"
    },
    "tags": []
   },
   "source": [
    "# 2. PYTHON DATA SCIENCE TOOLBOX\n"
   ]
  },
  {
   "cell_type": "markdown",
   "id": "6cb31368",
   "metadata": {
    "papermill": {
     "duration": 0.032067,
     "end_time": "2024-06-30T19:51:19.401233",
     "exception": false,
     "start_time": "2024-06-30T19:51:19.369166",
     "status": "completed"
    },
    "tags": []
   },
   "source": [
    "USER DEFINED FUNCTION\n",
    "\n",
    "What do we need to know about functions:\n",
    "\n",
    "* docstrings: documentation for functions. Example: \n",
    "for f(): \n",
    "\"\"\"This is docstring for documentation of function f\"\"\"\n",
    "* tuple: sequence of immutable python objects. \n",
    "cant modify values \n",
    "tuple uses paranthesis like tuble = (1,2,3) \n",
    "unpack tuple into several variables like a,b,c = tuple"
   ]
  },
  {
   "cell_type": "code",
   "execution_count": 23,
   "id": "ca9da528",
   "metadata": {
    "execution": {
     "iopub.execute_input": "2024-06-30T19:51:19.469462Z",
     "iopub.status.busy": "2024-06-30T19:51:19.469078Z",
     "iopub.status.idle": "2024-06-30T19:51:19.475542Z",
     "shell.execute_reply": "2024-06-30T19:51:19.474420Z"
    },
    "papermill": {
     "duration": 0.042802,
     "end_time": "2024-06-30T19:51:19.477926",
     "exception": false,
     "start_time": "2024-06-30T19:51:19.435124",
     "status": "completed"
    },
    "tags": []
   },
   "outputs": [
    {
     "name": "stdout",
     "output_type": "stream",
     "text": [
      "1 2 3\n"
     ]
    }
   ],
   "source": [
    "# example of what we learn above\n",
    "def tuple_ex():\n",
    "    \"\"\" return defined t tuple \"\"\"\n",
    "    t = (1,2,3)\n",
    "    return t\n",
    "a,b,c = tuple_ex()\n",
    "print(a,b,c)"
   ]
  },
  {
   "cell_type": "markdown",
   "id": "73724760",
   "metadata": {
    "papermill": {
     "duration": 0.033583,
     "end_time": "2024-06-30T19:51:19.543861",
     "exception": false,
     "start_time": "2024-06-30T19:51:19.510278",
     "status": "completed"
    },
    "tags": []
   },
   "source": [
    "<a id=\"9\"></a> <br>\n",
    "### SCOPE\n",
    "What we need to know about scope:\n",
    "* global: defined main body in script\n",
    "* local: defined in a function\n",
    "* built in scope: names in predefined built in scope module such as print, len\n",
    "<br><br>Lets make some basic examples"
   ]
  },
  {
   "cell_type": "code",
   "execution_count": 24,
   "id": "59b8a8e5",
   "metadata": {
    "execution": {
     "iopub.execute_input": "2024-06-30T19:51:19.611361Z",
     "iopub.status.busy": "2024-06-30T19:51:19.610997Z",
     "iopub.status.idle": "2024-06-30T19:51:19.616988Z",
     "shell.execute_reply": "2024-06-30T19:51:19.615898Z"
    },
    "papermill": {
     "duration": 0.042835,
     "end_time": "2024-06-30T19:51:19.619574",
     "exception": false,
     "start_time": "2024-06-30T19:51:19.576739",
     "status": "completed"
    },
    "tags": []
   },
   "outputs": [
    {
     "name": "stdout",
     "output_type": "stream",
     "text": [
      "2\n",
      "3\n"
     ]
    }
   ],
   "source": [
    "# guess print what\n",
    "x = 2\n",
    "def f():\n",
    "    x = 3\n",
    "    return x\n",
    "print(x)     # x = 2 global scope\n",
    "print(f())   # x = 3 local scope"
   ]
  },
  {
   "cell_type": "code",
   "execution_count": 25,
   "id": "6c51858b",
   "metadata": {
    "execution": {
     "iopub.execute_input": "2024-06-30T19:51:19.686884Z",
     "iopub.status.busy": "2024-06-30T19:51:19.686487Z",
     "iopub.status.idle": "2024-06-30T19:51:19.692594Z",
     "shell.execute_reply": "2024-06-30T19:51:19.691252Z"
    },
    "papermill": {
     "duration": 0.043308,
     "end_time": "2024-06-30T19:51:19.695559",
     "exception": false,
     "start_time": "2024-06-30T19:51:19.652251",
     "status": "completed"
    },
    "tags": []
   },
   "outputs": [
    {
     "name": "stdout",
     "output_type": "stream",
     "text": [
      "10\n"
     ]
    }
   ],
   "source": [
    "# what if there is no local scope\n",
    "x = 5\n",
    "def f():\n",
    "    y = 2*x     # there is no local scope x\n",
    "    return y \n",
    "print(f())      # it uses global scope x\n",
    "# First local scope searched, then global scope seaarched, if two of them cannot be found lastly built in scope searched."
   ]
  },
  {
   "cell_type": "code",
   "execution_count": 26,
   "id": "1f89f532",
   "metadata": {
    "execution": {
     "iopub.execute_input": "2024-06-30T19:51:19.762790Z",
     "iopub.status.busy": "2024-06-30T19:51:19.762385Z",
     "iopub.status.idle": "2024-06-30T19:51:19.771339Z",
     "shell.execute_reply": "2024-06-30T19:51:19.770360Z"
    },
    "papermill": {
     "duration": 0.045217,
     "end_time": "2024-06-30T19:51:19.773525",
     "exception": false,
     "start_time": "2024-06-30T19:51:19.728308",
     "status": "completed"
    },
    "tags": []
   },
   "outputs": [
    {
     "data": {
      "text/plain": [
       "['ArithmeticError',\n",
       " 'AssertionError',\n",
       " 'AttributeError',\n",
       " 'BaseException',\n",
       " 'BlockingIOError',\n",
       " 'BrokenPipeError',\n",
       " 'BufferError',\n",
       " 'BytesWarning',\n",
       " 'ChildProcessError',\n",
       " 'ConnectionAbortedError',\n",
       " 'ConnectionError',\n",
       " 'ConnectionRefusedError',\n",
       " 'ConnectionResetError',\n",
       " 'DeprecationWarning',\n",
       " 'EOFError',\n",
       " 'Ellipsis',\n",
       " 'EncodingWarning',\n",
       " 'EnvironmentError',\n",
       " 'Exception',\n",
       " 'False',\n",
       " 'FileExistsError',\n",
       " 'FileNotFoundError',\n",
       " 'FloatingPointError',\n",
       " 'FutureWarning',\n",
       " 'GeneratorExit',\n",
       " 'IOError',\n",
       " 'ImportError',\n",
       " 'ImportWarning',\n",
       " 'IndentationError',\n",
       " 'IndexError',\n",
       " 'InterruptedError',\n",
       " 'IsADirectoryError',\n",
       " 'KeyError',\n",
       " 'KeyboardInterrupt',\n",
       " 'LookupError',\n",
       " 'MemoryError',\n",
       " 'ModuleNotFoundError',\n",
       " 'NameError',\n",
       " 'None',\n",
       " 'NotADirectoryError',\n",
       " 'NotImplemented',\n",
       " 'NotImplementedError',\n",
       " 'OSError',\n",
       " 'OverflowError',\n",
       " 'PendingDeprecationWarning',\n",
       " 'PermissionError',\n",
       " 'ProcessLookupError',\n",
       " 'RecursionError',\n",
       " 'ReferenceError',\n",
       " 'ResourceWarning',\n",
       " 'RuntimeError',\n",
       " 'RuntimeWarning',\n",
       " 'StopAsyncIteration',\n",
       " 'StopIteration',\n",
       " 'SyntaxError',\n",
       " 'SyntaxWarning',\n",
       " 'SystemError',\n",
       " 'SystemExit',\n",
       " 'TabError',\n",
       " 'TimeoutError',\n",
       " 'True',\n",
       " 'TypeError',\n",
       " 'UnboundLocalError',\n",
       " 'UnicodeDecodeError',\n",
       " 'UnicodeEncodeError',\n",
       " 'UnicodeError',\n",
       " 'UnicodeTranslateError',\n",
       " 'UnicodeWarning',\n",
       " 'UserWarning',\n",
       " 'ValueError',\n",
       " 'Warning',\n",
       " 'ZeroDivisionError',\n",
       " '__IPYTHON__',\n",
       " '__build_class__',\n",
       " '__debug__',\n",
       " '__doc__',\n",
       " '__import__',\n",
       " '__loader__',\n",
       " '__name__',\n",
       " '__package__',\n",
       " '__pybind11_internals_v4_gcc_libstdcpp_cxxabi1014__',\n",
       " '__spec__',\n",
       " 'abs',\n",
       " 'aiter',\n",
       " 'all',\n",
       " 'anext',\n",
       " 'any',\n",
       " 'ascii',\n",
       " 'bin',\n",
       " 'bool',\n",
       " 'breakpoint',\n",
       " 'bytearray',\n",
       " 'bytes',\n",
       " 'callable',\n",
       " 'chr',\n",
       " 'classmethod',\n",
       " 'compile',\n",
       " 'complex',\n",
       " 'copyright',\n",
       " 'credits',\n",
       " 'delattr',\n",
       " 'dict',\n",
       " 'dir',\n",
       " 'display',\n",
       " 'divmod',\n",
       " 'enumerate',\n",
       " 'eval',\n",
       " 'exec',\n",
       " 'execfile',\n",
       " 'filter',\n",
       " 'float',\n",
       " 'format',\n",
       " 'frozenset',\n",
       " 'get_ipython',\n",
       " 'getattr',\n",
       " 'globals',\n",
       " 'hasattr',\n",
       " 'hash',\n",
       " 'help',\n",
       " 'hex',\n",
       " 'id',\n",
       " 'input',\n",
       " 'int',\n",
       " 'isinstance',\n",
       " 'issubclass',\n",
       " 'iter',\n",
       " 'len',\n",
       " 'license',\n",
       " 'list',\n",
       " 'locals',\n",
       " 'map',\n",
       " 'max',\n",
       " 'memoryview',\n",
       " 'min',\n",
       " 'next',\n",
       " 'object',\n",
       " 'oct',\n",
       " 'open',\n",
       " 'ord',\n",
       " 'pow',\n",
       " 'print',\n",
       " 'property',\n",
       " 'range',\n",
       " 'repr',\n",
       " 'reversed',\n",
       " 'round',\n",
       " 'runfile',\n",
       " 'set',\n",
       " 'setattr',\n",
       " 'slice',\n",
       " 'sorted',\n",
       " 'staticmethod',\n",
       " 'str',\n",
       " 'sum',\n",
       " 'super',\n",
       " 'tuple',\n",
       " 'type',\n",
       " 'vars',\n",
       " 'zip']"
      ]
     },
     "execution_count": 26,
     "metadata": {},
     "output_type": "execute_result"
    }
   ],
   "source": [
    "# How can be learn what is built in scope\n",
    "import builtins \n",
    "dir(builtins)"
   ]
  },
  {
   "cell_type": "markdown",
   "id": "24cbeaff",
   "metadata": {
    "papermill": {
     "duration": 0.033025,
     "end_time": "2024-06-30T19:51:19.839757",
     "exception": false,
     "start_time": "2024-06-30T19:51:19.806732",
     "status": "completed"
    },
    "tags": []
   },
   "source": [
    "<a id=\"10\"></a> <br>\n",
    "### NESTED FUNCTION\n",
    "* function inside function.\n",
    "* There is a LEGB rule that is search local scope, enclosing function, global and built in scopes, respectively."
   ]
  },
  {
   "cell_type": "code",
   "execution_count": 27,
   "id": "8a6da5cc",
   "metadata": {
    "execution": {
     "iopub.execute_input": "2024-06-30T19:51:19.910089Z",
     "iopub.status.busy": "2024-06-30T19:51:19.909703Z",
     "iopub.status.idle": "2024-06-30T19:51:19.916319Z",
     "shell.execute_reply": "2024-06-30T19:51:19.915105Z"
    },
    "papermill": {
     "duration": 0.044459,
     "end_time": "2024-06-30T19:51:19.919046",
     "exception": false,
     "start_time": "2024-06-30T19:51:19.874587",
     "status": "completed"
    },
    "tags": []
   },
   "outputs": [
    {
     "name": "stdout",
     "output_type": "stream",
     "text": [
      "25\n"
     ]
    }
   ],
   "source": [
    "# nested funtion\n",
    "def square():\n",
    "    \"\"\" return square of value \"\"\"\n",
    "    def add():\n",
    "        \"\"\" add to local variable \"\"\"\n",
    "        x = 2\n",
    "        y = 3\n",
    "        z = x + y\n",
    "        return z\n",
    "    return add()**2\n",
    "print(square())"
   ]
  },
  {
   "cell_type": "markdown",
   "id": "7c2fb665",
   "metadata": {
    "papermill": {
     "duration": 0.032697,
     "end_time": "2024-06-30T19:51:19.985314",
     "exception": false,
     "start_time": "2024-06-30T19:51:19.952617",
     "status": "completed"
    },
    "tags": []
   },
   "source": [
    "<a id=\"11\"></a> <br>\n",
    "### DEFAULT and FLEXIBLE ARGUMENTS\n",
    "* Default argument example:\n",
    "<br> def f(a, b=1):\n",
    "        \"\"\" b = 1 is default argument\"\"\"\n",
    "* Flexible argument example:\n",
    "<br> def f(*args):\n",
    "       \"\"\" *args can be one or more\"\"\"\n",
    "<br>def f(** kwargs)\n",
    "       \"\"\" **kwargs is a dictionary\"\"\"\n",
    "       \n",
    "<br><br> lets write some code to practice  "
   ]
  },
  {
   "cell_type": "code",
   "execution_count": 28,
   "id": "57a81ca1",
   "metadata": {
    "execution": {
     "iopub.execute_input": "2024-06-30T19:51:20.054226Z",
     "iopub.status.busy": "2024-06-30T19:51:20.053871Z",
     "iopub.status.idle": "2024-06-30T19:51:20.059955Z",
     "shell.execute_reply": "2024-06-30T19:51:20.058789Z"
    },
    "papermill": {
     "duration": 0.043486,
     "end_time": "2024-06-30T19:51:20.062986",
     "exception": false,
     "start_time": "2024-06-30T19:51:20.019500",
     "status": "completed"
    },
    "tags": []
   },
   "outputs": [
    {
     "name": "stdout",
     "output_type": "stream",
     "text": [
      "8\n",
      "12\n"
     ]
    }
   ],
   "source": [
    "# default arguments \n",
    "def f(a, b=1, c=2):\n",
    "    y = a+b+c\n",
    "    return y\n",
    "print(f(5))\n",
    "# what if we want to change default arguments \n",
    "print(f(5,4,3))"
   ]
  },
  {
   "cell_type": "code",
   "execution_count": 29,
   "id": "17aa6463",
   "metadata": {
    "execution": {
     "iopub.execute_input": "2024-06-30T19:51:20.133179Z",
     "iopub.status.busy": "2024-06-30T19:51:20.132809Z",
     "iopub.status.idle": "2024-06-30T19:51:20.141045Z",
     "shell.execute_reply": "2024-06-30T19:51:20.139688Z"
    },
    "papermill": {
     "duration": 0.046617,
     "end_time": "2024-06-30T19:51:20.143598",
     "exception": false,
     "start_time": "2024-06-30T19:51:20.096981",
     "status": "completed"
    },
    "tags": []
   },
   "outputs": [
    {
     "name": "stdout",
     "output_type": "stream",
     "text": [
      "1\n",
      "\n",
      "1\n",
      "2\n",
      "3\n",
      "4\n",
      "country  spain\n",
      "capital  madrid\n",
      "population  123456\n"
     ]
    }
   ],
   "source": [
    "# flexible arguments *args\n",
    "def f(*args):\n",
    "    for i in args:\n",
    "        print(i)\n",
    "f(1)\n",
    "print(\"\")\n",
    "f(1,2,3,4)\n",
    "# flexible arguments **kwargs that is dictionary\n",
    "def f(**kwargs):\n",
    "    \"\"\"print key and value of dictionary\"\"\"\n",
    "    for key,value in kwargs.items():       # # If you do not understand this part turn for loop part and look at dictionary in for loop\n",
    "        print(key, \"\", value)\n",
    "f(country ='spain', capital='madrid', population=123456)"
   ]
  },
  {
   "cell_type": "markdown",
   "id": "a1c91e93",
   "metadata": {
    "papermill": {
     "duration": 0.034209,
     "end_time": "2024-06-30T19:51:20.211170",
     "exception": false,
     "start_time": "2024-06-30T19:51:20.176961",
     "status": "completed"
    },
    "tags": []
   },
   "source": [
    "**LAMBDA FUNCTION**\n",
    "\n",
    "Faster way of writing function"
   ]
  },
  {
   "cell_type": "code",
   "execution_count": 30,
   "id": "7780542d",
   "metadata": {
    "execution": {
     "iopub.execute_input": "2024-06-30T19:51:20.279946Z",
     "iopub.status.busy": "2024-06-30T19:51:20.279559Z",
     "iopub.status.idle": "2024-06-30T19:51:20.285150Z",
     "shell.execute_reply": "2024-06-30T19:51:20.284079Z"
    },
    "papermill": {
     "duration": 0.043183,
     "end_time": "2024-06-30T19:51:20.288010",
     "exception": false,
     "start_time": "2024-06-30T19:51:20.244827",
     "status": "completed"
    },
    "tags": []
   },
   "outputs": [
    {
     "name": "stdout",
     "output_type": "stream",
     "text": [
      "16\n",
      "6\n"
     ]
    }
   ],
   "source": [
    "# lambda function\n",
    "square = lambda x:x**2       # where x is name of argument\n",
    "print(square(4))\n",
    "tot = lambda x,y,z: x+y+z    # where x,y,z name of argument\n",
    "print(tot(1,2,3))"
   ]
  },
  {
   "cell_type": "markdown",
   "id": "b2b6a2bf",
   "metadata": {
    "papermill": {
     "duration": 0.032709,
     "end_time": "2024-06-30T19:51:20.353819",
     "exception": false,
     "start_time": "2024-06-30T19:51:20.321110",
     "status": "completed"
    },
    "tags": []
   },
   "source": [
    "<a id=\"13\"></a> <br>\n",
    "### ANONYMOUS FUNCTİON\n",
    "Like lambda function but it can take more than one arguments.\n",
    "* map(func,seq) : applies a function to all the items in a list"
   ]
  },
  {
   "cell_type": "code",
   "execution_count": 31,
   "id": "82eaa212",
   "metadata": {
    "execution": {
     "iopub.execute_input": "2024-06-30T19:51:20.422054Z",
     "iopub.status.busy": "2024-06-30T19:51:20.421669Z",
     "iopub.status.idle": "2024-06-30T19:51:20.427381Z",
     "shell.execute_reply": "2024-06-30T19:51:20.426171Z"
    },
    "papermill": {
     "duration": 0.04344,
     "end_time": "2024-06-30T19:51:20.430516",
     "exception": false,
     "start_time": "2024-06-30T19:51:20.387076",
     "status": "completed"
    },
    "tags": []
   },
   "outputs": [
    {
     "name": "stdout",
     "output_type": "stream",
     "text": [
      "[1, 4, 9]\n"
     ]
    }
   ],
   "source": [
    "number_list = [1,2,3]\n",
    "y = map(lambda x:x**2,number_list)\n",
    "print(list(y))"
   ]
  },
  {
   "cell_type": "markdown",
   "id": "626abf5b",
   "metadata": {
    "papermill": {
     "duration": 0.040061,
     "end_time": "2024-06-30T19:51:20.513619",
     "exception": false,
     "start_time": "2024-06-30T19:51:20.473558",
     "status": "completed"
    },
    "tags": []
   },
   "source": [
    "<a id=\"14\"></a> <br>\n",
    "### ITERATORS\n",
    "* iterable is an object that can return an iterator\n",
    "* iterable: an object with an associated iter() method\n",
    "<br> example: list, strings and dictionaries\n",
    "* iterator: produces next value with next() method"
   ]
  },
  {
   "cell_type": "code",
   "execution_count": 32,
   "id": "8720c14a",
   "metadata": {
    "execution": {
     "iopub.execute_input": "2024-06-30T19:51:20.586457Z",
     "iopub.status.busy": "2024-06-30T19:51:20.586082Z",
     "iopub.status.idle": "2024-06-30T19:51:20.592025Z",
     "shell.execute_reply": "2024-06-30T19:51:20.590816Z"
    },
    "papermill": {
     "duration": 0.047572,
     "end_time": "2024-06-30T19:51:20.594830",
     "exception": false,
     "start_time": "2024-06-30T19:51:20.547258",
     "status": "completed"
    },
    "tags": []
   },
   "outputs": [
    {
     "name": "stdout",
     "output_type": "stream",
     "text": [
      "t\n",
      "u g c e s a n d i k l i\n"
     ]
    }
   ],
   "source": [
    "# iteration examples\n",
    "name = \"tugcesandikli\"\n",
    "it = iter(name)\n",
    "print(next(it))       # print next iteration \n",
    "print(*it)            # print remaining iteration"
   ]
  },
  {
   "cell_type": "markdown",
   "id": "02ba2d26",
   "metadata": {
    "papermill": {
     "duration": 0.033712,
     "end_time": "2024-06-30T19:51:20.663349",
     "exception": false,
     "start_time": "2024-06-30T19:51:20.629637",
     "status": "completed"
    },
    "tags": []
   },
   "source": [
    "zip(): zip lists"
   ]
  },
  {
   "cell_type": "code",
   "execution_count": 33,
   "id": "6f715449",
   "metadata": {
    "execution": {
     "iopub.execute_input": "2024-06-30T19:51:20.739021Z",
     "iopub.status.busy": "2024-06-30T19:51:20.738603Z",
     "iopub.status.idle": "2024-06-30T19:51:20.745011Z",
     "shell.execute_reply": "2024-06-30T19:51:20.743712Z"
    },
    "papermill": {
     "duration": 0.049266,
     "end_time": "2024-06-30T19:51:20.747928",
     "exception": false,
     "start_time": "2024-06-30T19:51:20.698662",
     "status": "completed"
    },
    "tags": []
   },
   "outputs": [
    {
     "name": "stdout",
     "output_type": "stream",
     "text": [
      "<zip object at 0x7c64b991e8c0>\n",
      "[(1, 5), (2, 6), (3, 7), (4, 8)]\n"
     ]
    }
   ],
   "source": [
    "# zip example\n",
    "list1= [1,2,3,4]\n",
    "list2= [5,6,7,8]\n",
    "z = zip(list1,list2)\n",
    "print(z)\n",
    "z_list = list(z)\n",
    "print(z_list)"
   ]
  },
  {
   "cell_type": "code",
   "execution_count": 34,
   "id": "77f0c09a",
   "metadata": {
    "execution": {
     "iopub.execute_input": "2024-06-30T19:51:20.822691Z",
     "iopub.status.busy": "2024-06-30T19:51:20.822186Z",
     "iopub.status.idle": "2024-06-30T19:51:20.829388Z",
     "shell.execute_reply": "2024-06-30T19:51:20.828368Z"
    },
    "papermill": {
     "duration": 0.045084,
     "end_time": "2024-06-30T19:51:20.831820",
     "exception": false,
     "start_time": "2024-06-30T19:51:20.786736",
     "status": "completed"
    },
    "tags": []
   },
   "outputs": [
    {
     "name": "stdout",
     "output_type": "stream",
     "text": [
      "(1, 2, 3, 4)\n",
      "(5, 6, 7, 8)\n",
      "<class 'tuple'>\n",
      "<class 'list'>\n"
     ]
    }
   ],
   "source": [
    "un_zip = zip(*z_list)\n",
    "un_list1,un_list2 = list(un_zip)   # unzip returns tuble\n",
    "print(un_list1)\n",
    "print(un_list2)\n",
    "print(type(un_list2))\n",
    "print(type(list(un_list1)))"
   ]
  },
  {
   "cell_type": "markdown",
   "id": "ff6a19d4",
   "metadata": {
    "papermill": {
     "duration": 0.03707,
     "end_time": "2024-06-30T19:51:20.903995",
     "exception": false,
     "start_time": "2024-06-30T19:51:20.866925",
     "status": "completed"
    },
    "tags": []
   },
   "source": [
    "<a id=\"15\"></a> <br>\n",
    "### LIST COMPREHENSİON\n",
    "**One of the most important topic of this kernel**\n",
    "<br>We use list comprehension for data analysis often. \n",
    "<br> list comprehension: collapse for loops for building lists into a single line\n",
    "<br>Ex: num1 = [1,2,3] and we want to make it num2 = [2,3,4]. This can be done with for loop. However it is  unnecessarily long. We can make it one line code that is list comprehension."
   ]
  },
  {
   "cell_type": "code",
   "execution_count": 35,
   "id": "77d63a5d",
   "metadata": {
    "execution": {
     "iopub.execute_input": "2024-06-30T19:51:20.980753Z",
     "iopub.status.busy": "2024-06-30T19:51:20.980268Z",
     "iopub.status.idle": "2024-06-30T19:51:20.987026Z",
     "shell.execute_reply": "2024-06-30T19:51:20.985896Z"
    },
    "papermill": {
     "duration": 0.045523,
     "end_time": "2024-06-30T19:51:20.989860",
     "exception": false,
     "start_time": "2024-06-30T19:51:20.944337",
     "status": "completed"
    },
    "tags": []
   },
   "outputs": [
    {
     "name": "stdout",
     "output_type": "stream",
     "text": [
      "[2, 3, 4]\n"
     ]
    }
   ],
   "source": [
    "# Example of list comprehension\n",
    "num1 = [1,2,3]\n",
    "num2 = [i + 1 for i in num1]     # list comprehension \n",
    "print(num2)"
   ]
  },
  {
   "cell_type": "markdown",
   "id": "262ebff6",
   "metadata": {
    "papermill": {
     "duration": 0.033675,
     "end_time": "2024-06-30T19:51:21.063356",
     "exception": false,
     "start_time": "2024-06-30T19:51:21.029681",
     "status": "completed"
    },
    "tags": []
   },
   "source": [
    "[i + 1 for i in num1 ]: list of comprehension\n",
    "<br> i +1: list comprehension syntax\n",
    "<br> for i in num1: for loop syntax\n",
    "<br> i: iterator\n",
    "<br> num1: iterable object"
   ]
  },
  {
   "cell_type": "code",
   "execution_count": 36,
   "id": "d1dfe9e8",
   "metadata": {
    "execution": {
     "iopub.execute_input": "2024-06-30T19:51:21.135602Z",
     "iopub.status.busy": "2024-06-30T19:51:21.134418Z",
     "iopub.status.idle": "2024-06-30T19:51:21.141730Z",
     "shell.execute_reply": "2024-06-30T19:51:21.140479Z"
    },
    "papermill": {
     "duration": 0.046202,
     "end_time": "2024-06-30T19:51:21.144469",
     "exception": false,
     "start_time": "2024-06-30T19:51:21.098267",
     "status": "completed"
    },
    "tags": []
   },
   "outputs": [
    {
     "name": "stdout",
     "output_type": "stream",
     "text": [
      "[0, 100, 20]\n"
     ]
    }
   ],
   "source": [
    "# Conditionals on iterable\n",
    "num1 = [5,10,15]\n",
    "num2 = [i**2 if i == 10 else i-5 if i < 7 else i+5 for i in num1]\n",
    "print(num2)"
   ]
  },
  {
   "cell_type": "code",
   "execution_count": 37,
   "id": "52748cc0",
   "metadata": {
    "execution": {
     "iopub.execute_input": "2024-06-30T19:51:21.235502Z",
     "iopub.status.busy": "2024-06-30T19:51:21.235050Z",
     "iopub.status.idle": "2024-06-30T19:51:22.799690Z",
     "shell.execute_reply": "2024-06-30T19:51:22.798577Z"
    },
    "papermill": {
     "duration": 1.603963,
     "end_time": "2024-06-30T19:51:22.802250",
     "exception": false,
     "start_time": "2024-06-30T19:51:21.198287",
     "status": "completed"
    },
    "tags": []
   },
   "outputs": [
    {
     "name": "stdout",
     "output_type": "stream",
     "text": [
      "threshold nan\n"
     ]
    },
    {
     "data": {
      "text/html": [
       "<div>\n",
       "<style scoped>\n",
       "    .dataframe tbody tr th:only-of-type {\n",
       "        vertical-align: middle;\n",
       "    }\n",
       "\n",
       "    .dataframe tbody tr th {\n",
       "        vertical-align: top;\n",
       "    }\n",
       "\n",
       "    .dataframe thead th {\n",
       "        text-align: right;\n",
       "    }\n",
       "</style>\n",
       "<table border=\"1\" class=\"dataframe\">\n",
       "  <thead>\n",
       "    <tr style=\"text-align: right;\">\n",
       "      <th></th>\n",
       "      <th>open_level</th>\n",
       "      <th>Open</th>\n",
       "    </tr>\n",
       "  </thead>\n",
       "  <tbody>\n",
       "    <tr>\n",
       "      <th>0</th>\n",
       "      <td>low</td>\n",
       "      <td>4.39</td>\n",
       "    </tr>\n",
       "    <tr>\n",
       "      <th>1</th>\n",
       "      <td>low</td>\n",
       "      <td>NaN</td>\n",
       "    </tr>\n",
       "    <tr>\n",
       "      <th>2</th>\n",
       "      <td>low</td>\n",
       "      <td>NaN</td>\n",
       "    </tr>\n",
       "    <tr>\n",
       "      <th>3</th>\n",
       "      <td>low</td>\n",
       "      <td>NaN</td>\n",
       "    </tr>\n",
       "    <tr>\n",
       "      <th>4</th>\n",
       "      <td>low</td>\n",
       "      <td>NaN</td>\n",
       "    </tr>\n",
       "    <tr>\n",
       "      <th>5</th>\n",
       "      <td>low</td>\n",
       "      <td>NaN</td>\n",
       "    </tr>\n",
       "    <tr>\n",
       "      <th>6</th>\n",
       "      <td>low</td>\n",
       "      <td>NaN</td>\n",
       "    </tr>\n",
       "    <tr>\n",
       "      <th>7</th>\n",
       "      <td>low</td>\n",
       "      <td>NaN</td>\n",
       "    </tr>\n",
       "    <tr>\n",
       "      <th>8</th>\n",
       "      <td>low</td>\n",
       "      <td>NaN</td>\n",
       "    </tr>\n",
       "    <tr>\n",
       "      <th>9</th>\n",
       "      <td>low</td>\n",
       "      <td>NaN</td>\n",
       "    </tr>\n",
       "    <tr>\n",
       "      <th>10</th>\n",
       "      <td>low</td>\n",
       "      <td>NaN</td>\n",
       "    </tr>\n",
       "  </tbody>\n",
       "</table>\n",
       "</div>"
      ],
      "text/plain": [
       "   open_level  Open\n",
       "0         low  4.39\n",
       "1         low   NaN\n",
       "2         low   NaN\n",
       "3         low   NaN\n",
       "4         low   NaN\n",
       "5         low   NaN\n",
       "6         low   NaN\n",
       "7         low   NaN\n",
       "8         low   NaN\n",
       "9         low   NaN\n",
       "10        low   NaN"
      ]
     },
     "execution_count": 37,
     "metadata": {},
     "output_type": "execute_result"
    }
   ],
   "source": [
    "# Lets return bitcoin csv and make one more list comprehension example\n",
    "# Lets classify bitcoin whether they have high or low open level. Our treshold is average open level.\n",
    "threshold = sum(data.Open)/len(data.Open)\n",
    "print(\"threshold\",threshold)\n",
    "data[\"open_level\"] = [\"high\" if i > threshold else \"low\" for i in data.Open]\n",
    "data.loc[:10,[\"open_level\",\"Open\"]] # we will learn loc more detailed later"
   ]
  },
  {
   "cell_type": "markdown",
   "id": "b7c8d3ff",
   "metadata": {
    "papermill": {
     "duration": 0.033493,
     "end_time": "2024-06-30T19:51:22.870976",
     "exception": false,
     "start_time": "2024-06-30T19:51:22.837483",
     "status": "completed"
    },
    "tags": []
   },
   "source": [
    "<a id=\"16\"></a> <br>\n",
    "# 3.CLEANING DATA"
   ]
  },
  {
   "cell_type": "markdown",
   "id": "7a6d1086",
   "metadata": {
    "papermill": {
     "duration": 0.033982,
     "end_time": "2024-06-30T19:51:22.940143",
     "exception": false,
     "start_time": "2024-06-30T19:51:22.906161",
     "status": "completed"
    },
    "tags": []
   },
   "source": [
    "<a id=\"17\"></a> <br>\n",
    "### DIAGNOSE DATA for CLEANING\n",
    "We need to diagnose and clean data before exploring.\n",
    "<br>Unclean data:\n",
    "* Column name inconsistency like upper-lower case letter or space between words\n",
    "* missing data\n",
    "* different language\n",
    "\n",
    "<br> We will use head, tail, columns, shape and info methods to diagnose data"
   ]
  },
  {
   "cell_type": "code",
   "execution_count": 38,
   "id": "d1ddc766",
   "metadata": {
    "execution": {
     "iopub.execute_input": "2024-06-30T19:51:23.010040Z",
     "iopub.status.busy": "2024-06-30T19:51:23.009647Z",
     "iopub.status.idle": "2024-06-30T19:51:27.118643Z",
     "shell.execute_reply": "2024-06-30T19:51:27.117618Z"
    },
    "papermill": {
     "duration": 4.147466,
     "end_time": "2024-06-30T19:51:27.121183",
     "exception": false,
     "start_time": "2024-06-30T19:51:22.973717",
     "status": "completed"
    },
    "tags": []
   },
   "outputs": [
    {
     "data": {
      "text/html": [
       "<div>\n",
       "<style scoped>\n",
       "    .dataframe tbody tr th:only-of-type {\n",
       "        vertical-align: middle;\n",
       "    }\n",
       "\n",
       "    .dataframe tbody tr th {\n",
       "        vertical-align: top;\n",
       "    }\n",
       "\n",
       "    .dataframe thead th {\n",
       "        text-align: right;\n",
       "    }\n",
       "</style>\n",
       "<table border=\"1\" class=\"dataframe\">\n",
       "  <thead>\n",
       "    <tr style=\"text-align: right;\">\n",
       "      <th></th>\n",
       "      <th>Timestamp</th>\n",
       "      <th>Open</th>\n",
       "      <th>High</th>\n",
       "      <th>Low</th>\n",
       "      <th>Close</th>\n",
       "      <th>Volume_(BTC)</th>\n",
       "      <th>Volume_(Currency)</th>\n",
       "      <th>Weighted_Price</th>\n",
       "    </tr>\n",
       "  </thead>\n",
       "  <tbody>\n",
       "    <tr>\n",
       "      <th>0</th>\n",
       "      <td>1325317920</td>\n",
       "      <td>4.39</td>\n",
       "      <td>4.39</td>\n",
       "      <td>4.39</td>\n",
       "      <td>4.39</td>\n",
       "      <td>0.455581</td>\n",
       "      <td>2.0</td>\n",
       "      <td>4.39</td>\n",
       "    </tr>\n",
       "    <tr>\n",
       "      <th>1</th>\n",
       "      <td>1325317980</td>\n",
       "      <td>NaN</td>\n",
       "      <td>NaN</td>\n",
       "      <td>NaN</td>\n",
       "      <td>NaN</td>\n",
       "      <td>NaN</td>\n",
       "      <td>NaN</td>\n",
       "      <td>NaN</td>\n",
       "    </tr>\n",
       "    <tr>\n",
       "      <th>2</th>\n",
       "      <td>1325318040</td>\n",
       "      <td>NaN</td>\n",
       "      <td>NaN</td>\n",
       "      <td>NaN</td>\n",
       "      <td>NaN</td>\n",
       "      <td>NaN</td>\n",
       "      <td>NaN</td>\n",
       "      <td>NaN</td>\n",
       "    </tr>\n",
       "    <tr>\n",
       "      <th>3</th>\n",
       "      <td>1325318100</td>\n",
       "      <td>NaN</td>\n",
       "      <td>NaN</td>\n",
       "      <td>NaN</td>\n",
       "      <td>NaN</td>\n",
       "      <td>NaN</td>\n",
       "      <td>NaN</td>\n",
       "      <td>NaN</td>\n",
       "    </tr>\n",
       "    <tr>\n",
       "      <th>4</th>\n",
       "      <td>1325318160</td>\n",
       "      <td>NaN</td>\n",
       "      <td>NaN</td>\n",
       "      <td>NaN</td>\n",
       "      <td>NaN</td>\n",
       "      <td>NaN</td>\n",
       "      <td>NaN</td>\n",
       "      <td>NaN</td>\n",
       "    </tr>\n",
       "  </tbody>\n",
       "</table>\n",
       "</div>"
      ],
      "text/plain": [
       "    Timestamp  Open  High   Low  Close  Volume_(BTC)  Volume_(Currency)  \\\n",
       "0  1325317920  4.39  4.39  4.39   4.39      0.455581                2.0   \n",
       "1  1325317980   NaN   NaN   NaN    NaN           NaN                NaN   \n",
       "2  1325318040   NaN   NaN   NaN    NaN           NaN                NaN   \n",
       "3  1325318100   NaN   NaN   NaN    NaN           NaN                NaN   \n",
       "4  1325318160   NaN   NaN   NaN    NaN           NaN                NaN   \n",
       "\n",
       "   Weighted_Price  \n",
       "0            4.39  \n",
       "1             NaN  \n",
       "2             NaN  \n",
       "3             NaN  \n",
       "4             NaN  "
      ]
     },
     "execution_count": 38,
     "metadata": {},
     "output_type": "execute_result"
    }
   ],
   "source": [
    "data = pd.read_csv(\"/kaggle/input/bitcoin-historical-data/bitstampUSD_1-min_data_2012-01-01_to_2021-03-31.csv\")\n",
    "data.head()     # head show first 5 rows"
   ]
  },
  {
   "cell_type": "code",
   "execution_count": 39,
   "id": "b791b411",
   "metadata": {
    "execution": {
     "iopub.execute_input": "2024-06-30T19:51:27.192296Z",
     "iopub.status.busy": "2024-06-30T19:51:27.191914Z",
     "iopub.status.idle": "2024-06-30T19:51:27.207458Z",
     "shell.execute_reply": "2024-06-30T19:51:27.206240Z"
    },
    "papermill": {
     "duration": 0.054054,
     "end_time": "2024-06-30T19:51:27.209922",
     "exception": false,
     "start_time": "2024-06-30T19:51:27.155868",
     "status": "completed"
    },
    "tags": []
   },
   "outputs": [
    {
     "data": {
      "text/html": [
       "<div>\n",
       "<style scoped>\n",
       "    .dataframe tbody tr th:only-of-type {\n",
       "        vertical-align: middle;\n",
       "    }\n",
       "\n",
       "    .dataframe tbody tr th {\n",
       "        vertical-align: top;\n",
       "    }\n",
       "\n",
       "    .dataframe thead th {\n",
       "        text-align: right;\n",
       "    }\n",
       "</style>\n",
       "<table border=\"1\" class=\"dataframe\">\n",
       "  <thead>\n",
       "    <tr style=\"text-align: right;\">\n",
       "      <th></th>\n",
       "      <th>Timestamp</th>\n",
       "      <th>Open</th>\n",
       "      <th>High</th>\n",
       "      <th>Low</th>\n",
       "      <th>Close</th>\n",
       "      <th>Volume_(BTC)</th>\n",
       "      <th>Volume_(Currency)</th>\n",
       "      <th>Weighted_Price</th>\n",
       "    </tr>\n",
       "  </thead>\n",
       "  <tbody>\n",
       "    <tr>\n",
       "      <th>4857372</th>\n",
       "      <td>1617148560</td>\n",
       "      <td>58714.31</td>\n",
       "      <td>58714.31</td>\n",
       "      <td>58686.00</td>\n",
       "      <td>58686.00</td>\n",
       "      <td>1.384487</td>\n",
       "      <td>81259.372187</td>\n",
       "      <td>58692.753339</td>\n",
       "    </tr>\n",
       "    <tr>\n",
       "      <th>4857373</th>\n",
       "      <td>1617148620</td>\n",
       "      <td>58683.97</td>\n",
       "      <td>58693.43</td>\n",
       "      <td>58683.97</td>\n",
       "      <td>58685.81</td>\n",
       "      <td>7.294848</td>\n",
       "      <td>428158.146640</td>\n",
       "      <td>58693.226508</td>\n",
       "    </tr>\n",
       "    <tr>\n",
       "      <th>4857374</th>\n",
       "      <td>1617148680</td>\n",
       "      <td>58693.43</td>\n",
       "      <td>58723.84</td>\n",
       "      <td>58693.43</td>\n",
       "      <td>58723.84</td>\n",
       "      <td>1.705682</td>\n",
       "      <td>100117.070370</td>\n",
       "      <td>58696.198496</td>\n",
       "    </tr>\n",
       "    <tr>\n",
       "      <th>4857375</th>\n",
       "      <td>1617148740</td>\n",
       "      <td>58742.18</td>\n",
       "      <td>58770.38</td>\n",
       "      <td>58742.18</td>\n",
       "      <td>58760.59</td>\n",
       "      <td>0.720415</td>\n",
       "      <td>42332.958633</td>\n",
       "      <td>58761.866202</td>\n",
       "    </tr>\n",
       "    <tr>\n",
       "      <th>4857376</th>\n",
       "      <td>1617148800</td>\n",
       "      <td>58767.75</td>\n",
       "      <td>58778.18</td>\n",
       "      <td>58755.97</td>\n",
       "      <td>58778.18</td>\n",
       "      <td>2.712831</td>\n",
       "      <td>159417.751000</td>\n",
       "      <td>58764.349363</td>\n",
       "    </tr>\n",
       "  </tbody>\n",
       "</table>\n",
       "</div>"
      ],
      "text/plain": [
       "          Timestamp      Open      High       Low     Close  Volume_(BTC)  \\\n",
       "4857372  1617148560  58714.31  58714.31  58686.00  58686.00      1.384487   \n",
       "4857373  1617148620  58683.97  58693.43  58683.97  58685.81      7.294848   \n",
       "4857374  1617148680  58693.43  58723.84  58693.43  58723.84      1.705682   \n",
       "4857375  1617148740  58742.18  58770.38  58742.18  58760.59      0.720415   \n",
       "4857376  1617148800  58767.75  58778.18  58755.97  58778.18      2.712831   \n",
       "\n",
       "         Volume_(Currency)  Weighted_Price  \n",
       "4857372       81259.372187    58692.753339  \n",
       "4857373      428158.146640    58693.226508  \n",
       "4857374      100117.070370    58696.198496  \n",
       "4857375       42332.958633    58761.866202  \n",
       "4857376      159417.751000    58764.349363  "
      ]
     },
     "execution_count": 39,
     "metadata": {},
     "output_type": "execute_result"
    }
   ],
   "source": [
    "# tail show last 5 rows\n",
    "data.tail()      "
   ]
  },
  {
   "cell_type": "code",
   "execution_count": 40,
   "id": "e980cd6f",
   "metadata": {
    "execution": {
     "iopub.execute_input": "2024-06-30T19:51:27.280368Z",
     "iopub.status.busy": "2024-06-30T19:51:27.279423Z",
     "iopub.status.idle": "2024-06-30T19:51:27.286567Z",
     "shell.execute_reply": "2024-06-30T19:51:27.285526Z"
    },
    "papermill": {
     "duration": 0.044645,
     "end_time": "2024-06-30T19:51:27.288706",
     "exception": false,
     "start_time": "2024-06-30T19:51:27.244061",
     "status": "completed"
    },
    "tags": []
   },
   "outputs": [
    {
     "data": {
      "text/plain": [
       "Index(['Timestamp', 'Open', 'High', 'Low', 'Close', 'Volume_(BTC)',\n",
       "       'Volume_(Currency)', 'Weighted_Price'],\n",
       "      dtype='object')"
      ]
     },
     "execution_count": 40,
     "metadata": {},
     "output_type": "execute_result"
    }
   ],
   "source": [
    "# columns gives columns names of features\n",
    "data.columns"
   ]
  },
  {
   "cell_type": "code",
   "execution_count": 41,
   "id": "cac5af87",
   "metadata": {
    "execution": {
     "iopub.execute_input": "2024-06-30T19:51:27.358752Z",
     "iopub.status.busy": "2024-06-30T19:51:27.358370Z",
     "iopub.status.idle": "2024-06-30T19:51:27.365553Z",
     "shell.execute_reply": "2024-06-30T19:51:27.364221Z"
    },
    "papermill": {
     "duration": 0.045423,
     "end_time": "2024-06-30T19:51:27.368308",
     "exception": false,
     "start_time": "2024-06-30T19:51:27.322885",
     "status": "completed"
    },
    "tags": []
   },
   "outputs": [
    {
     "data": {
      "text/plain": [
       "(4857377, 8)"
      ]
     },
     "execution_count": 41,
     "metadata": {},
     "output_type": "execute_result"
    }
   ],
   "source": [
    "# shape gives number of rows and columns in a tuble\n",
    "data.shape"
   ]
  },
  {
   "cell_type": "code",
   "execution_count": 42,
   "id": "b07c915b",
   "metadata": {
    "execution": {
     "iopub.execute_input": "2024-06-30T19:51:27.441057Z",
     "iopub.status.busy": "2024-06-30T19:51:27.440697Z",
     "iopub.status.idle": "2024-06-30T19:51:27.451089Z",
     "shell.execute_reply": "2024-06-30T19:51:27.449836Z"
    },
    "papermill": {
     "duration": 0.049732,
     "end_time": "2024-06-30T19:51:27.453393",
     "exception": false,
     "start_time": "2024-06-30T19:51:27.403661",
     "status": "completed"
    },
    "tags": []
   },
   "outputs": [
    {
     "name": "stdout",
     "output_type": "stream",
     "text": [
      "<class 'pandas.core.frame.DataFrame'>\n",
      "RangeIndex: 4857377 entries, 0 to 4857376\n",
      "Data columns (total 8 columns):\n",
      " #   Column             Dtype  \n",
      "---  ------             -----  \n",
      " 0   Timestamp          int64  \n",
      " 1   Open               float64\n",
      " 2   High               float64\n",
      " 3   Low                float64\n",
      " 4   Close              float64\n",
      " 5   Volume_(BTC)       float64\n",
      " 6   Volume_(Currency)  float64\n",
      " 7   Weighted_Price     float64\n",
      "dtypes: float64(7), int64(1)\n",
      "memory usage: 296.5 MB\n"
     ]
    }
   ],
   "source": [
    "# info gives data type like dataframe, number of sample or row, number of feature or column, feature types and memory usage\n",
    "data.info()"
   ]
  },
  {
   "cell_type": "markdown",
   "id": "9743a695",
   "metadata": {
    "papermill": {
     "duration": 0.034788,
     "end_time": "2024-06-30T19:51:27.523360",
     "exception": false,
     "start_time": "2024-06-30T19:51:27.488572",
     "status": "completed"
    },
    "tags": []
   },
   "source": [
    "<a id=\"18\"></a> <br>\n",
    "### EXPLORATORY DATA ANALYSIS\n",
    "value_counts(): Frequency counts\n",
    "<br>outliers: the value that is considerably higher or lower from rest of the data\n",
    "* Lets say value at 75% is Q3 and value at 25% is Q1. \n",
    "* Outlier are smaller than Q1 - 1.5(Q3-Q1) and bigger than Q3 + 1.5(Q3-Q1). (Q3-Q1) = IQR\n",
    "<br>We will use describe() method. Describe method includes:\n",
    "* count: number of entries\n",
    "* mean: average of entries\n",
    "* std: standart deviation\n",
    "* min: minimum entry\n",
    "* 25%: first quantile\n",
    "* 50%: median or second quantile\n",
    "* 75%: third quantile\n",
    "* max: maximum entry\n",
    "\n",
    "<br> What is quantile?\n",
    "\n",
    "* 1,4,5,6,8,9,11,12,13,14,15,16,17\n",
    "* The median is the number that is in **middle** of the sequence. In this case it would be 11.\n",
    "\n",
    "* The lower quartile is the median in between the smallest number and the median i.e. in between 1 and 11, which is 6.\n",
    "* The upper quartile, you find the median between the median and the largest number i.e. between 11 and 17, which will be 14 according to the question above."
   ]
  },
  {
   "cell_type": "code",
   "execution_count": 43,
   "id": "b8da8ea0",
   "metadata": {
    "execution": {
     "iopub.execute_input": "2024-06-30T19:51:27.594546Z",
     "iopub.status.busy": "2024-06-30T19:51:27.594148Z",
     "iopub.status.idle": "2024-06-30T19:51:28.054643Z",
     "shell.execute_reply": "2024-06-30T19:51:28.053470Z"
    },
    "papermill": {
     "duration": 0.499155,
     "end_time": "2024-06-30T19:51:28.057312",
     "exception": false,
     "start_time": "2024-06-30T19:51:27.558157",
     "status": "completed"
    },
    "tags": []
   },
   "outputs": [
    {
     "name": "stdout",
     "output_type": "stream",
     "text": [
      "Open\n",
      "NaN         1243608\n",
      "580.00          622\n",
      "450.00          622\n",
      "635.00          568\n",
      "448.00          562\n",
      "             ...   \n",
      "3902.54           1\n",
      "3908.54           1\n",
      "3908.36           1\n",
      "3912.09           1\n",
      "58767.75          1\n",
      "Name: count, Length: 1059733, dtype: int64\n"
     ]
    }
   ],
   "source": [
    "# For example lets look frequency of unique values in the 'Open' column\n",
    "print(data['Open'].value_counts(dropna=False)) # if there are nan values that also be counted"
   ]
  },
  {
   "cell_type": "code",
   "execution_count": 44,
   "id": "e52822e7",
   "metadata": {
    "execution": {
     "iopub.execute_input": "2024-06-30T19:51:28.129262Z",
     "iopub.status.busy": "2024-06-30T19:51:28.128890Z",
     "iopub.status.idle": "2024-06-30T19:51:28.135799Z",
     "shell.execute_reply": "2024-06-30T19:51:28.134692Z"
    },
    "papermill": {
     "duration": 0.045603,
     "end_time": "2024-06-30T19:51:28.138138",
     "exception": false,
     "start_time": "2024-06-30T19:51:28.092535",
     "status": "completed"
    },
    "tags": []
   },
   "outputs": [
    {
     "data": {
      "text/plain": [
       "(1, 2, 3, 4, 200)"
      ]
     },
     "execution_count": 44,
     "metadata": {},
     "output_type": "execute_result"
    }
   ],
   "source": [
    "(1,2,3,4,200)"
   ]
  },
  {
   "cell_type": "code",
   "execution_count": 45,
   "id": "0a4f12eb",
   "metadata": {
    "execution": {
     "iopub.execute_input": "2024-06-30T19:51:28.210689Z",
     "iopub.status.busy": "2024-06-30T19:51:28.210274Z",
     "iopub.status.idle": "2024-06-30T19:51:30.671047Z",
     "shell.execute_reply": "2024-06-30T19:51:30.669587Z"
    },
    "papermill": {
     "duration": 2.500651,
     "end_time": "2024-06-30T19:51:30.673859",
     "exception": false,
     "start_time": "2024-06-30T19:51:28.173208",
     "status": "completed"
    },
    "tags": []
   },
   "outputs": [
    {
     "data": {
      "text/html": [
       "<div>\n",
       "<style scoped>\n",
       "    .dataframe tbody tr th:only-of-type {\n",
       "        vertical-align: middle;\n",
       "    }\n",
       "\n",
       "    .dataframe tbody tr th {\n",
       "        vertical-align: top;\n",
       "    }\n",
       "\n",
       "    .dataframe thead th {\n",
       "        text-align: right;\n",
       "    }\n",
       "</style>\n",
       "<table border=\"1\" class=\"dataframe\">\n",
       "  <thead>\n",
       "    <tr style=\"text-align: right;\">\n",
       "      <th></th>\n",
       "      <th>Timestamp</th>\n",
       "      <th>Open</th>\n",
       "      <th>High</th>\n",
       "      <th>Low</th>\n",
       "      <th>Close</th>\n",
       "      <th>Volume_(BTC)</th>\n",
       "      <th>Volume_(Currency)</th>\n",
       "      <th>Weighted_Price</th>\n",
       "    </tr>\n",
       "  </thead>\n",
       "  <tbody>\n",
       "    <tr>\n",
       "      <th>count</th>\n",
       "      <td>4.857377e+06</td>\n",
       "      <td>3.613769e+06</td>\n",
       "      <td>3.613769e+06</td>\n",
       "      <td>3.613769e+06</td>\n",
       "      <td>3.613769e+06</td>\n",
       "      <td>3.613769e+06</td>\n",
       "      <td>3.613769e+06</td>\n",
       "      <td>3.613769e+06</td>\n",
       "    </tr>\n",
       "    <tr>\n",
       "      <th>mean</th>\n",
       "      <td>1.471301e+09</td>\n",
       "      <td>6.009024e+03</td>\n",
       "      <td>6.013357e+03</td>\n",
       "      <td>6.004488e+03</td>\n",
       "      <td>6.009014e+03</td>\n",
       "      <td>9.323249e+00</td>\n",
       "      <td>4.176284e+04</td>\n",
       "      <td>6.008935e+03</td>\n",
       "    </tr>\n",
       "    <tr>\n",
       "      <th>std</th>\n",
       "      <td>8.428019e+07</td>\n",
       "      <td>8.996247e+03</td>\n",
       "      <td>9.003521e+03</td>\n",
       "      <td>8.988778e+03</td>\n",
       "      <td>8.996360e+03</td>\n",
       "      <td>3.054989e+01</td>\n",
       "      <td>1.518248e+05</td>\n",
       "      <td>8.995992e+03</td>\n",
       "    </tr>\n",
       "    <tr>\n",
       "      <th>min</th>\n",
       "      <td>1.325318e+09</td>\n",
       "      <td>3.800000e+00</td>\n",
       "      <td>3.800000e+00</td>\n",
       "      <td>1.500000e+00</td>\n",
       "      <td>1.500000e+00</td>\n",
       "      <td>0.000000e+00</td>\n",
       "      <td>0.000000e+00</td>\n",
       "      <td>3.800000e+00</td>\n",
       "    </tr>\n",
       "    <tr>\n",
       "      <th>25%</th>\n",
       "      <td>1.398179e+09</td>\n",
       "      <td>4.438600e+02</td>\n",
       "      <td>4.440000e+02</td>\n",
       "      <td>4.435200e+02</td>\n",
       "      <td>4.438600e+02</td>\n",
       "      <td>4.097759e-01</td>\n",
       "      <td>4.521422e+02</td>\n",
       "      <td>4.438306e+02</td>\n",
       "    </tr>\n",
       "    <tr>\n",
       "      <th>50%</th>\n",
       "      <td>1.471428e+09</td>\n",
       "      <td>3.596970e+03</td>\n",
       "      <td>3.598190e+03</td>\n",
       "      <td>3.595620e+03</td>\n",
       "      <td>3.597000e+03</td>\n",
       "      <td>1.979811e+00</td>\n",
       "      <td>3.810124e+03</td>\n",
       "      <td>3.596804e+03</td>\n",
       "    </tr>\n",
       "    <tr>\n",
       "      <th>75%</th>\n",
       "      <td>1.544288e+09</td>\n",
       "      <td>8.627270e+03</td>\n",
       "      <td>8.632980e+03</td>\n",
       "      <td>8.621090e+03</td>\n",
       "      <td>8.627160e+03</td>\n",
       "      <td>7.278216e+00</td>\n",
       "      <td>2.569821e+04</td>\n",
       "      <td>8.627637e+03</td>\n",
       "    </tr>\n",
       "    <tr>\n",
       "      <th>max</th>\n",
       "      <td>1.617149e+09</td>\n",
       "      <td>6.176356e+04</td>\n",
       "      <td>6.178183e+04</td>\n",
       "      <td>6.167355e+04</td>\n",
       "      <td>6.178180e+04</td>\n",
       "      <td>5.853852e+03</td>\n",
       "      <td>1.390067e+07</td>\n",
       "      <td>6.171621e+04</td>\n",
       "    </tr>\n",
       "  </tbody>\n",
       "</table>\n",
       "</div>"
      ],
      "text/plain": [
       "          Timestamp          Open          High           Low         Close  \\\n",
       "count  4.857377e+06  3.613769e+06  3.613769e+06  3.613769e+06  3.613769e+06   \n",
       "mean   1.471301e+09  6.009024e+03  6.013357e+03  6.004488e+03  6.009014e+03   \n",
       "std    8.428019e+07  8.996247e+03  9.003521e+03  8.988778e+03  8.996360e+03   \n",
       "min    1.325318e+09  3.800000e+00  3.800000e+00  1.500000e+00  1.500000e+00   \n",
       "25%    1.398179e+09  4.438600e+02  4.440000e+02  4.435200e+02  4.438600e+02   \n",
       "50%    1.471428e+09  3.596970e+03  3.598190e+03  3.595620e+03  3.597000e+03   \n",
       "75%    1.544288e+09  8.627270e+03  8.632980e+03  8.621090e+03  8.627160e+03   \n",
       "max    1.617149e+09  6.176356e+04  6.178183e+04  6.167355e+04  6.178180e+04   \n",
       "\n",
       "       Volume_(BTC)  Volume_(Currency)  Weighted_Price  \n",
       "count  3.613769e+06       3.613769e+06    3.613769e+06  \n",
       "mean   9.323249e+00       4.176284e+04    6.008935e+03  \n",
       "std    3.054989e+01       1.518248e+05    8.995992e+03  \n",
       "min    0.000000e+00       0.000000e+00    3.800000e+00  \n",
       "25%    4.097759e-01       4.521422e+02    4.438306e+02  \n",
       "50%    1.979811e+00       3.810124e+03    3.596804e+03  \n",
       "75%    7.278216e+00       2.569821e+04    8.627637e+03  \n",
       "max    5.853852e+03       1.390067e+07    6.171621e+04  "
      ]
     },
     "execution_count": 45,
     "metadata": {},
     "output_type": "execute_result"
    }
   ],
   "source": [
    "# For example max Open is 8.996247e+03\tor min close 1.500000e+00\t\n",
    "data.describe()      # ignore null entries"
   ]
  },
  {
   "cell_type": "markdown",
   "id": "efea8668",
   "metadata": {
    "papermill": {
     "duration": 0.034716,
     "end_time": "2024-06-30T19:51:30.744796",
     "exception": false,
     "start_time": "2024-06-30T19:51:30.710080",
     "status": "completed"
    },
    "tags": []
   },
   "source": [
    "<a id=\"19\"></a> <br>\n",
    "### VISUAL EXPLORATORY DATA ANALYSIS\n",
    "* Box plots: visualize basic statistics like outliers, min/max or quantiles"
   ]
  },
  {
   "cell_type": "code",
   "execution_count": 46,
   "id": "4ffc2bfa",
   "metadata": {
    "execution": {
     "iopub.execute_input": "2024-06-30T19:51:30.817814Z",
     "iopub.status.busy": "2024-06-30T19:51:30.817364Z",
     "iopub.status.idle": "2024-06-30T19:51:30.822043Z",
     "shell.execute_reply": "2024-06-30T19:51:30.821000Z"
    },
    "papermill": {
     "duration": 0.044251,
     "end_time": "2024-06-30T19:51:30.824392",
     "exception": false,
     "start_time": "2024-06-30T19:51:30.780141",
     "status": "completed"
    },
    "tags": []
   },
   "outputs": [],
   "source": [
    "# For example: compare value of bitcoin values that are open or close\n",
    "# Black line at top is max\n",
    "# Blue line at top is 75%\n",
    "# Green line is median (50%)\n",
    "# Blue line at bottom is 25%\n",
    "# Black line at bottom is min\n",
    "# There are no outliers\n",
    "# data.boxplot(column='Open',by='Close')      # Because it took too long to work, it is in the comment section"
   ]
  },
  {
   "cell_type": "markdown",
   "id": "cd97cf2d",
   "metadata": {
    "papermill": {
     "duration": 0.03533,
     "end_time": "2024-06-30T19:51:30.895049",
     "exception": false,
     "start_time": "2024-06-30T19:51:30.859719",
     "status": "completed"
    },
    "tags": []
   },
   "source": [
    "<a id=\"20\"></a> <br>\n",
    "### TIDY DATA\n",
    "We tidy data with melt().\n",
    "Describing melt is confusing. Therefore lets make example to understand it."
   ]
  },
  {
   "cell_type": "code",
   "execution_count": 47,
   "id": "9579e19d",
   "metadata": {
    "execution": {
     "iopub.execute_input": "2024-06-30T19:51:30.969095Z",
     "iopub.status.busy": "2024-06-30T19:51:30.968685Z",
     "iopub.status.idle": "2024-06-30T19:51:30.984070Z",
     "shell.execute_reply": "2024-06-30T19:51:30.982896Z"
    },
    "papermill": {
     "duration": 0.054288,
     "end_time": "2024-06-30T19:51:30.986335",
     "exception": false,
     "start_time": "2024-06-30T19:51:30.932047",
     "status": "completed"
    },
    "tags": []
   },
   "outputs": [
    {
     "data": {
      "text/html": [
       "<div>\n",
       "<style scoped>\n",
       "    .dataframe tbody tr th:only-of-type {\n",
       "        vertical-align: middle;\n",
       "    }\n",
       "\n",
       "    .dataframe tbody tr th {\n",
       "        vertical-align: top;\n",
       "    }\n",
       "\n",
       "    .dataframe thead th {\n",
       "        text-align: right;\n",
       "    }\n",
       "</style>\n",
       "<table border=\"1\" class=\"dataframe\">\n",
       "  <thead>\n",
       "    <tr style=\"text-align: right;\">\n",
       "      <th></th>\n",
       "      <th>Timestamp</th>\n",
       "      <th>Open</th>\n",
       "      <th>High</th>\n",
       "      <th>Low</th>\n",
       "      <th>Close</th>\n",
       "      <th>Volume_(BTC)</th>\n",
       "      <th>Volume_(Currency)</th>\n",
       "      <th>Weighted_Price</th>\n",
       "    </tr>\n",
       "  </thead>\n",
       "  <tbody>\n",
       "    <tr>\n",
       "      <th>0</th>\n",
       "      <td>1325317920</td>\n",
       "      <td>4.39</td>\n",
       "      <td>4.39</td>\n",
       "      <td>4.39</td>\n",
       "      <td>4.39</td>\n",
       "      <td>0.455581</td>\n",
       "      <td>2.0</td>\n",
       "      <td>4.39</td>\n",
       "    </tr>\n",
       "    <tr>\n",
       "      <th>1</th>\n",
       "      <td>1325317980</td>\n",
       "      <td>NaN</td>\n",
       "      <td>NaN</td>\n",
       "      <td>NaN</td>\n",
       "      <td>NaN</td>\n",
       "      <td>NaN</td>\n",
       "      <td>NaN</td>\n",
       "      <td>NaN</td>\n",
       "    </tr>\n",
       "    <tr>\n",
       "      <th>2</th>\n",
       "      <td>1325318040</td>\n",
       "      <td>NaN</td>\n",
       "      <td>NaN</td>\n",
       "      <td>NaN</td>\n",
       "      <td>NaN</td>\n",
       "      <td>NaN</td>\n",
       "      <td>NaN</td>\n",
       "      <td>NaN</td>\n",
       "    </tr>\n",
       "    <tr>\n",
       "      <th>3</th>\n",
       "      <td>1325318100</td>\n",
       "      <td>NaN</td>\n",
       "      <td>NaN</td>\n",
       "      <td>NaN</td>\n",
       "      <td>NaN</td>\n",
       "      <td>NaN</td>\n",
       "      <td>NaN</td>\n",
       "      <td>NaN</td>\n",
       "    </tr>\n",
       "    <tr>\n",
       "      <th>4</th>\n",
       "      <td>1325318160</td>\n",
       "      <td>NaN</td>\n",
       "      <td>NaN</td>\n",
       "      <td>NaN</td>\n",
       "      <td>NaN</td>\n",
       "      <td>NaN</td>\n",
       "      <td>NaN</td>\n",
       "      <td>NaN</td>\n",
       "    </tr>\n",
       "  </tbody>\n",
       "</table>\n",
       "</div>"
      ],
      "text/plain": [
       "    Timestamp  Open  High   Low  Close  Volume_(BTC)  Volume_(Currency)  \\\n",
       "0  1325317920  4.39  4.39  4.39   4.39      0.455581                2.0   \n",
       "1  1325317980   NaN   NaN   NaN    NaN           NaN                NaN   \n",
       "2  1325318040   NaN   NaN   NaN    NaN           NaN                NaN   \n",
       "3  1325318100   NaN   NaN   NaN    NaN           NaN                NaN   \n",
       "4  1325318160   NaN   NaN   NaN    NaN           NaN                NaN   \n",
       "\n",
       "   Weighted_Price  \n",
       "0            4.39  \n",
       "1             NaN  \n",
       "2             NaN  \n",
       "3             NaN  \n",
       "4             NaN  "
      ]
     },
     "execution_count": 47,
     "metadata": {},
     "output_type": "execute_result"
    }
   ],
   "source": [
    "# Firstly I create new data from bitcoins data to explain melt nore easily.\n",
    "data_new = data.head()     # I only take 5 rows into new data\n",
    "data_new"
   ]
  },
  {
   "cell_type": "code",
   "execution_count": 48,
   "id": "8136eb1b",
   "metadata": {
    "execution": {
     "iopub.execute_input": "2024-06-30T19:51:31.059394Z",
     "iopub.status.busy": "2024-06-30T19:51:31.059050Z",
     "iopub.status.idle": "2024-06-30T19:51:31.075090Z",
     "shell.execute_reply": "2024-06-30T19:51:31.073961Z"
    },
    "papermill": {
     "duration": 0.05493,
     "end_time": "2024-06-30T19:51:31.077329",
     "exception": false,
     "start_time": "2024-06-30T19:51:31.022399",
     "status": "completed"
    },
    "tags": []
   },
   "outputs": [
    {
     "data": {
      "text/html": [
       "<div>\n",
       "<style scoped>\n",
       "    .dataframe tbody tr th:only-of-type {\n",
       "        vertical-align: middle;\n",
       "    }\n",
       "\n",
       "    .dataframe tbody tr th {\n",
       "        vertical-align: top;\n",
       "    }\n",
       "\n",
       "    .dataframe thead th {\n",
       "        text-align: right;\n",
       "    }\n",
       "</style>\n",
       "<table border=\"1\" class=\"dataframe\">\n",
       "  <thead>\n",
       "    <tr style=\"text-align: right;\">\n",
       "      <th></th>\n",
       "      <th>Timestamp</th>\n",
       "      <th>variable</th>\n",
       "      <th>value</th>\n",
       "    </tr>\n",
       "  </thead>\n",
       "  <tbody>\n",
       "    <tr>\n",
       "      <th>0</th>\n",
       "      <td>1325317920</td>\n",
       "      <td>High</td>\n",
       "      <td>4.39</td>\n",
       "    </tr>\n",
       "    <tr>\n",
       "      <th>1</th>\n",
       "      <td>1325317980</td>\n",
       "      <td>High</td>\n",
       "      <td>NaN</td>\n",
       "    </tr>\n",
       "    <tr>\n",
       "      <th>2</th>\n",
       "      <td>1325318040</td>\n",
       "      <td>High</td>\n",
       "      <td>NaN</td>\n",
       "    </tr>\n",
       "    <tr>\n",
       "      <th>3</th>\n",
       "      <td>1325318100</td>\n",
       "      <td>High</td>\n",
       "      <td>NaN</td>\n",
       "    </tr>\n",
       "    <tr>\n",
       "      <th>4</th>\n",
       "      <td>1325318160</td>\n",
       "      <td>High</td>\n",
       "      <td>NaN</td>\n",
       "    </tr>\n",
       "    <tr>\n",
       "      <th>5</th>\n",
       "      <td>1325317920</td>\n",
       "      <td>Low</td>\n",
       "      <td>4.39</td>\n",
       "    </tr>\n",
       "    <tr>\n",
       "      <th>6</th>\n",
       "      <td>1325317980</td>\n",
       "      <td>Low</td>\n",
       "      <td>NaN</td>\n",
       "    </tr>\n",
       "    <tr>\n",
       "      <th>7</th>\n",
       "      <td>1325318040</td>\n",
       "      <td>Low</td>\n",
       "      <td>NaN</td>\n",
       "    </tr>\n",
       "    <tr>\n",
       "      <th>8</th>\n",
       "      <td>1325318100</td>\n",
       "      <td>Low</td>\n",
       "      <td>NaN</td>\n",
       "    </tr>\n",
       "    <tr>\n",
       "      <th>9</th>\n",
       "      <td>1325318160</td>\n",
       "      <td>Low</td>\n",
       "      <td>NaN</td>\n",
       "    </tr>\n",
       "  </tbody>\n",
       "</table>\n",
       "</div>"
      ],
      "text/plain": [
       "    Timestamp variable  value\n",
       "0  1325317920     High   4.39\n",
       "1  1325317980     High    NaN\n",
       "2  1325318040     High    NaN\n",
       "3  1325318100     High    NaN\n",
       "4  1325318160     High    NaN\n",
       "5  1325317920      Low   4.39\n",
       "6  1325317980      Low    NaN\n",
       "7  1325318040      Low    NaN\n",
       "8  1325318100      Low    NaN\n",
       "9  1325318160      Low    NaN"
      ]
     },
     "execution_count": 48,
     "metadata": {},
     "output_type": "execute_result"
    }
   ],
   "source": [
    "# lets melt\n",
    "# id_vars = what we do not wish to melt \n",
    "# value_vars = what we want to melt \n",
    "melted = pd.melt(frame=data_new,id_vars = 'Timestamp',value_vars=['High','Low'])\n",
    "melted"
   ]
  },
  {
   "cell_type": "markdown",
   "id": "d005a3e1",
   "metadata": {
    "papermill": {
     "duration": 0.035741,
     "end_time": "2024-06-30T19:51:31.148669",
     "exception": false,
     "start_time": "2024-06-30T19:51:31.112928",
     "status": "completed"
    },
    "tags": []
   },
   "source": [
    "<a id=\"21\"></a> <br>\n",
    "### PIVOTING DATA\n",
    "Reverse of melting."
   ]
  },
  {
   "cell_type": "code",
   "execution_count": 49,
   "id": "7508efb9",
   "metadata": {
    "execution": {
     "iopub.execute_input": "2024-06-30T19:51:31.222280Z",
     "iopub.status.busy": "2024-06-30T19:51:31.221927Z",
     "iopub.status.idle": "2024-06-30T19:51:31.237900Z",
     "shell.execute_reply": "2024-06-30T19:51:31.236657Z"
    },
    "papermill": {
     "duration": 0.055773,
     "end_time": "2024-06-30T19:51:31.240231",
     "exception": false,
     "start_time": "2024-06-30T19:51:31.184458",
     "status": "completed"
    },
    "tags": []
   },
   "outputs": [
    {
     "data": {
      "text/html": [
       "<div>\n",
       "<style scoped>\n",
       "    .dataframe tbody tr th:only-of-type {\n",
       "        vertical-align: middle;\n",
       "    }\n",
       "\n",
       "    .dataframe tbody tr th {\n",
       "        vertical-align: top;\n",
       "    }\n",
       "\n",
       "    .dataframe thead th {\n",
       "        text-align: right;\n",
       "    }\n",
       "</style>\n",
       "<table border=\"1\" class=\"dataframe\">\n",
       "  <thead>\n",
       "    <tr style=\"text-align: right;\">\n",
       "      <th>variable</th>\n",
       "      <th>High</th>\n",
       "      <th>Low</th>\n",
       "    </tr>\n",
       "    <tr>\n",
       "      <th>Timestamp</th>\n",
       "      <th></th>\n",
       "      <th></th>\n",
       "    </tr>\n",
       "  </thead>\n",
       "  <tbody>\n",
       "    <tr>\n",
       "      <th>1325317920</th>\n",
       "      <td>4.39</td>\n",
       "      <td>4.39</td>\n",
       "    </tr>\n",
       "    <tr>\n",
       "      <th>1325317980</th>\n",
       "      <td>NaN</td>\n",
       "      <td>NaN</td>\n",
       "    </tr>\n",
       "    <tr>\n",
       "      <th>1325318040</th>\n",
       "      <td>NaN</td>\n",
       "      <td>NaN</td>\n",
       "    </tr>\n",
       "    <tr>\n",
       "      <th>1325318100</th>\n",
       "      <td>NaN</td>\n",
       "      <td>NaN</td>\n",
       "    </tr>\n",
       "    <tr>\n",
       "      <th>1325318160</th>\n",
       "      <td>NaN</td>\n",
       "      <td>NaN</td>\n",
       "    </tr>\n",
       "  </tbody>\n",
       "</table>\n",
       "</div>"
      ],
      "text/plain": [
       "variable    High   Low\n",
       "Timestamp             \n",
       "1325317920  4.39  4.39\n",
       "1325317980   NaN   NaN\n",
       "1325318040   NaN   NaN\n",
       "1325318100   NaN   NaN\n",
       "1325318160   NaN   NaN"
      ]
     },
     "execution_count": 49,
     "metadata": {},
     "output_type": "execute_result"
    }
   ],
   "source": [
    "# Index is timestamp\n",
    "# I want to make that columns are variable\n",
    "# Finally values in columns are value \n",
    "melted.pivot(index = 'Timestamp', columns = 'variable',values='value')"
   ]
  },
  {
   "cell_type": "markdown",
   "id": "239fe5de",
   "metadata": {
    "papermill": {
     "duration": 0.035411,
     "end_time": "2024-06-30T19:51:31.311610",
     "exception": false,
     "start_time": "2024-06-30T19:51:31.276199",
     "status": "completed"
    },
    "tags": []
   },
   "source": [
    "<a id=\"22\"></a> <br>\n",
    "### CONCATENATING DATA\n",
    "We can concatenate two dataframe "
   ]
  },
  {
   "cell_type": "code",
   "execution_count": 50,
   "id": "36c4f018",
   "metadata": {
    "execution": {
     "iopub.execute_input": "2024-06-30T19:51:31.385327Z",
     "iopub.status.busy": "2024-06-30T19:51:31.384925Z",
     "iopub.status.idle": "2024-06-30T19:51:31.403286Z",
     "shell.execute_reply": "2024-06-30T19:51:31.402224Z"
    },
    "papermill": {
     "duration": 0.05833,
     "end_time": "2024-06-30T19:51:31.405516",
     "exception": false,
     "start_time": "2024-06-30T19:51:31.347186",
     "status": "completed"
    },
    "tags": []
   },
   "outputs": [
    {
     "data": {
      "text/html": [
       "<div>\n",
       "<style scoped>\n",
       "    .dataframe tbody tr th:only-of-type {\n",
       "        vertical-align: middle;\n",
       "    }\n",
       "\n",
       "    .dataframe tbody tr th {\n",
       "        vertical-align: top;\n",
       "    }\n",
       "\n",
       "    .dataframe thead th {\n",
       "        text-align: right;\n",
       "    }\n",
       "</style>\n",
       "<table border=\"1\" class=\"dataframe\">\n",
       "  <thead>\n",
       "    <tr style=\"text-align: right;\">\n",
       "      <th></th>\n",
       "      <th>Timestamp</th>\n",
       "      <th>Open</th>\n",
       "      <th>High</th>\n",
       "      <th>Low</th>\n",
       "      <th>Close</th>\n",
       "      <th>Volume_(BTC)</th>\n",
       "      <th>Volume_(Currency)</th>\n",
       "      <th>Weighted_Price</th>\n",
       "    </tr>\n",
       "  </thead>\n",
       "  <tbody>\n",
       "    <tr>\n",
       "      <th>0</th>\n",
       "      <td>1325317920</td>\n",
       "      <td>4.39</td>\n",
       "      <td>4.39</td>\n",
       "      <td>4.39</td>\n",
       "      <td>4.39</td>\n",
       "      <td>0.455581</td>\n",
       "      <td>2.000000</td>\n",
       "      <td>4.390000</td>\n",
       "    </tr>\n",
       "    <tr>\n",
       "      <th>1</th>\n",
       "      <td>1325317980</td>\n",
       "      <td>NaN</td>\n",
       "      <td>NaN</td>\n",
       "      <td>NaN</td>\n",
       "      <td>NaN</td>\n",
       "      <td>NaN</td>\n",
       "      <td>NaN</td>\n",
       "      <td>NaN</td>\n",
       "    </tr>\n",
       "    <tr>\n",
       "      <th>2</th>\n",
       "      <td>1325318040</td>\n",
       "      <td>NaN</td>\n",
       "      <td>NaN</td>\n",
       "      <td>NaN</td>\n",
       "      <td>NaN</td>\n",
       "      <td>NaN</td>\n",
       "      <td>NaN</td>\n",
       "      <td>NaN</td>\n",
       "    </tr>\n",
       "    <tr>\n",
       "      <th>3</th>\n",
       "      <td>1325318100</td>\n",
       "      <td>NaN</td>\n",
       "      <td>NaN</td>\n",
       "      <td>NaN</td>\n",
       "      <td>NaN</td>\n",
       "      <td>NaN</td>\n",
       "      <td>NaN</td>\n",
       "      <td>NaN</td>\n",
       "    </tr>\n",
       "    <tr>\n",
       "      <th>4</th>\n",
       "      <td>1325318160</td>\n",
       "      <td>NaN</td>\n",
       "      <td>NaN</td>\n",
       "      <td>NaN</td>\n",
       "      <td>NaN</td>\n",
       "      <td>NaN</td>\n",
       "      <td>NaN</td>\n",
       "      <td>NaN</td>\n",
       "    </tr>\n",
       "    <tr>\n",
       "      <th>5</th>\n",
       "      <td>1617148560</td>\n",
       "      <td>58714.31</td>\n",
       "      <td>58714.31</td>\n",
       "      <td>58686.00</td>\n",
       "      <td>58686.00</td>\n",
       "      <td>1.384487</td>\n",
       "      <td>81259.372187</td>\n",
       "      <td>58692.753339</td>\n",
       "    </tr>\n",
       "    <tr>\n",
       "      <th>6</th>\n",
       "      <td>1617148620</td>\n",
       "      <td>58683.97</td>\n",
       "      <td>58693.43</td>\n",
       "      <td>58683.97</td>\n",
       "      <td>58685.81</td>\n",
       "      <td>7.294848</td>\n",
       "      <td>428158.146640</td>\n",
       "      <td>58693.226508</td>\n",
       "    </tr>\n",
       "    <tr>\n",
       "      <th>7</th>\n",
       "      <td>1617148680</td>\n",
       "      <td>58693.43</td>\n",
       "      <td>58723.84</td>\n",
       "      <td>58693.43</td>\n",
       "      <td>58723.84</td>\n",
       "      <td>1.705682</td>\n",
       "      <td>100117.070370</td>\n",
       "      <td>58696.198496</td>\n",
       "    </tr>\n",
       "    <tr>\n",
       "      <th>8</th>\n",
       "      <td>1617148740</td>\n",
       "      <td>58742.18</td>\n",
       "      <td>58770.38</td>\n",
       "      <td>58742.18</td>\n",
       "      <td>58760.59</td>\n",
       "      <td>0.720415</td>\n",
       "      <td>42332.958633</td>\n",
       "      <td>58761.866202</td>\n",
       "    </tr>\n",
       "    <tr>\n",
       "      <th>9</th>\n",
       "      <td>1617148800</td>\n",
       "      <td>58767.75</td>\n",
       "      <td>58778.18</td>\n",
       "      <td>58755.97</td>\n",
       "      <td>58778.18</td>\n",
       "      <td>2.712831</td>\n",
       "      <td>159417.751000</td>\n",
       "      <td>58764.349363</td>\n",
       "    </tr>\n",
       "  </tbody>\n",
       "</table>\n",
       "</div>"
      ],
      "text/plain": [
       "    Timestamp      Open      High       Low     Close  Volume_(BTC)  \\\n",
       "0  1325317920      4.39      4.39      4.39      4.39      0.455581   \n",
       "1  1325317980       NaN       NaN       NaN       NaN           NaN   \n",
       "2  1325318040       NaN       NaN       NaN       NaN           NaN   \n",
       "3  1325318100       NaN       NaN       NaN       NaN           NaN   \n",
       "4  1325318160       NaN       NaN       NaN       NaN           NaN   \n",
       "5  1617148560  58714.31  58714.31  58686.00  58686.00      1.384487   \n",
       "6  1617148620  58683.97  58693.43  58683.97  58685.81      7.294848   \n",
       "7  1617148680  58693.43  58723.84  58693.43  58723.84      1.705682   \n",
       "8  1617148740  58742.18  58770.38  58742.18  58760.59      0.720415   \n",
       "9  1617148800  58767.75  58778.18  58755.97  58778.18      2.712831   \n",
       "\n",
       "   Volume_(Currency)  Weighted_Price  \n",
       "0           2.000000        4.390000  \n",
       "1                NaN             NaN  \n",
       "2                NaN             NaN  \n",
       "3                NaN             NaN  \n",
       "4                NaN             NaN  \n",
       "5       81259.372187    58692.753339  \n",
       "6      428158.146640    58693.226508  \n",
       "7      100117.070370    58696.198496  \n",
       "8       42332.958633    58761.866202  \n",
       "9      159417.751000    58764.349363  "
      ]
     },
     "execution_count": 50,
     "metadata": {},
     "output_type": "execute_result"
    }
   ],
   "source": [
    "# Firstly lets create 2 data frame\n",
    "data1 = data.head()\n",
    "data2 = data.tail()\n",
    "conc_data_row = pd.concat([data1,data2],axis=0,ignore_index=True)    # axis = 0 : adds dataframes in row\n",
    "conc_data_row"
   ]
  },
  {
   "cell_type": "code",
   "execution_count": 51,
   "id": "8cdaae0b",
   "metadata": {
    "execution": {
     "iopub.execute_input": "2024-06-30T19:51:31.480414Z",
     "iopub.status.busy": "2024-06-30T19:51:31.480049Z",
     "iopub.status.idle": "2024-06-30T19:51:31.492838Z",
     "shell.execute_reply": "2024-06-30T19:51:31.491767Z"
    },
    "papermill": {
     "duration": 0.052461,
     "end_time": "2024-06-30T19:51:31.495108",
     "exception": false,
     "start_time": "2024-06-30T19:51:31.442647",
     "status": "completed"
    },
    "tags": []
   },
   "outputs": [
    {
     "data": {
      "text/html": [
       "<div>\n",
       "<style scoped>\n",
       "    .dataframe tbody tr th:only-of-type {\n",
       "        vertical-align: middle;\n",
       "    }\n",
       "\n",
       "    .dataframe tbody tr th {\n",
       "        vertical-align: top;\n",
       "    }\n",
       "\n",
       "    .dataframe thead th {\n",
       "        text-align: right;\n",
       "    }\n",
       "</style>\n",
       "<table border=\"1\" class=\"dataframe\">\n",
       "  <thead>\n",
       "    <tr style=\"text-align: right;\">\n",
       "      <th></th>\n",
       "      <th>High</th>\n",
       "      <th>Low</th>\n",
       "    </tr>\n",
       "  </thead>\n",
       "  <tbody>\n",
       "    <tr>\n",
       "      <th>0</th>\n",
       "      <td>4.39</td>\n",
       "      <td>4.39</td>\n",
       "    </tr>\n",
       "    <tr>\n",
       "      <th>1</th>\n",
       "      <td>NaN</td>\n",
       "      <td>NaN</td>\n",
       "    </tr>\n",
       "    <tr>\n",
       "      <th>2</th>\n",
       "      <td>NaN</td>\n",
       "      <td>NaN</td>\n",
       "    </tr>\n",
       "    <tr>\n",
       "      <th>3</th>\n",
       "      <td>NaN</td>\n",
       "      <td>NaN</td>\n",
       "    </tr>\n",
       "    <tr>\n",
       "      <th>4</th>\n",
       "      <td>NaN</td>\n",
       "      <td>NaN</td>\n",
       "    </tr>\n",
       "  </tbody>\n",
       "</table>\n",
       "</div>"
      ],
      "text/plain": [
       "   High   Low\n",
       "0  4.39  4.39\n",
       "1   NaN   NaN\n",
       "2   NaN   NaN\n",
       "3   NaN   NaN\n",
       "4   NaN   NaN"
      ]
     },
     "execution_count": 51,
     "metadata": {},
     "output_type": "execute_result"
    }
   ],
   "source": [
    "data1 = data['High'].head()\n",
    "data2 = data['Low'].head()\n",
    "con_data_col = pd.concat([data1,data2],axis=1)   # axis = 1 : adds dataframes in column\n",
    "con_data_col"
   ]
  },
  {
   "cell_type": "markdown",
   "id": "cbd2d6c0",
   "metadata": {
    "papermill": {
     "duration": 0.037851,
     "end_time": "2024-06-30T19:51:31.569773",
     "exception": false,
     "start_time": "2024-06-30T19:51:31.531922",
     "status": "completed"
    },
    "tags": []
   },
   "source": [
    "**DATA TYPES**\n",
    "\n",
    "There are 5 basic data types: object(string),boolean, integer, float and categorical. \n",
    "We can make conversion data types like from str to categorical or from int to float \n",
    "Why is category important:\n",
    "\n",
    "* make dataframe smaller in memory\n",
    "* can be utilized for anlaysis especially for sklearn(we will learn later)"
   ]
  },
  {
   "cell_type": "code",
   "execution_count": 52,
   "id": "80bd23ba",
   "metadata": {
    "execution": {
     "iopub.execute_input": "2024-06-30T19:51:31.644798Z",
     "iopub.status.busy": "2024-06-30T19:51:31.644393Z",
     "iopub.status.idle": "2024-06-30T19:51:31.653050Z",
     "shell.execute_reply": "2024-06-30T19:51:31.651550Z"
    },
    "papermill": {
     "duration": 0.048475,
     "end_time": "2024-06-30T19:51:31.655363",
     "exception": false,
     "start_time": "2024-06-30T19:51:31.606888",
     "status": "completed"
    },
    "tags": []
   },
   "outputs": [
    {
     "data": {
      "text/plain": [
       "Timestamp              int64\n",
       "Open                 float64\n",
       "High                 float64\n",
       "Low                  float64\n",
       "Close                float64\n",
       "Volume_(BTC)         float64\n",
       "Volume_(Currency)    float64\n",
       "Weighted_Price       float64\n",
       "dtype: object"
      ]
     },
     "execution_count": 52,
     "metadata": {},
     "output_type": "execute_result"
    }
   ],
   "source": [
    "data.dtypes"
   ]
  },
  {
   "cell_type": "code",
   "execution_count": 53,
   "id": "e7d22e0e",
   "metadata": {
    "execution": {
     "iopub.execute_input": "2024-06-30T19:51:31.732373Z",
     "iopub.status.busy": "2024-06-30T19:51:31.731989Z",
     "iopub.status.idle": "2024-06-30T19:51:32.278562Z",
     "shell.execute_reply": "2024-06-30T19:51:32.277671Z"
    },
    "papermill": {
     "duration": 0.587535,
     "end_time": "2024-06-30T19:51:32.280959",
     "exception": false,
     "start_time": "2024-06-30T19:51:31.693424",
     "status": "completed"
    },
    "tags": []
   },
   "outputs": [],
   "source": [
    "# lets convert float to categorical and int to float.\n",
    "data['Open'] = data['Open'].astype('category')\n",
    "data['Timestamp'] = data['Timestamp'].astype('float')"
   ]
  },
  {
   "cell_type": "code",
   "execution_count": 54,
   "id": "50e5c7a7",
   "metadata": {
    "execution": {
     "iopub.execute_input": "2024-06-30T19:51:32.356981Z",
     "iopub.status.busy": "2024-06-30T19:51:32.355846Z",
     "iopub.status.idle": "2024-06-30T19:51:32.364220Z",
     "shell.execute_reply": "2024-06-30T19:51:32.362990Z"
    },
    "papermill": {
     "duration": 0.048937,
     "end_time": "2024-06-30T19:51:32.366497",
     "exception": false,
     "start_time": "2024-06-30T19:51:32.317560",
     "status": "completed"
    },
    "tags": []
   },
   "outputs": [
    {
     "data": {
      "text/plain": [
       "Timestamp             float64\n",
       "Open                 category\n",
       "High                  float64\n",
       "Low                   float64\n",
       "Close                 float64\n",
       "Volume_(BTC)          float64\n",
       "Volume_(Currency)     float64\n",
       "Weighted_Price        float64\n",
       "dtype: object"
      ]
     },
     "execution_count": 54,
     "metadata": {},
     "output_type": "execute_result"
    }
   ],
   "source": [
    "# As you can see Open is converted from float to categorical\n",
    "# And Timestamp ,s converted from int to float\n",
    "data.dtypes"
   ]
  },
  {
   "cell_type": "markdown",
   "id": "dc2d9e8a",
   "metadata": {
    "papermill": {
     "duration": 0.036232,
     "end_time": "2024-06-30T19:51:32.439346",
     "exception": false,
     "start_time": "2024-06-30T19:51:32.403114",
     "status": "completed"
    },
    "tags": []
   },
   "source": [
    "<a id=\"24\"></a> <br>\n",
    "### MISSING DATA and TESTING WITH ASSERT\n",
    "If we encounter with missing data, what we can do:\n",
    "* leave as is\n",
    "* drop them with dropna()\n",
    "* fill missing value with fillna()\n",
    "* fill missing values with test statistics like mean\n",
    "<br>Assert statement: check that you can turn on or turn off when you are done with your testing of the program"
   ]
  },
  {
   "cell_type": "code",
   "execution_count": 55,
   "id": "a17f329a",
   "metadata": {
    "execution": {
     "iopub.execute_input": "2024-06-30T19:51:32.514548Z",
     "iopub.status.busy": "2024-06-30T19:51:32.514163Z",
     "iopub.status.idle": "2024-06-30T19:51:32.973577Z",
     "shell.execute_reply": "2024-06-30T19:51:32.972511Z"
    },
    "papermill": {
     "duration": 0.499321,
     "end_time": "2024-06-30T19:51:32.975940",
     "exception": false,
     "start_time": "2024-06-30T19:51:32.476619",
     "status": "completed"
    },
    "tags": []
   },
   "outputs": [
    {
     "data": {
      "text/plain": [
       "Low\n",
       "NaN         1243608\n",
       "580.00          689\n",
       "620.00          684\n",
       "448.00          664\n",
       "570.00          657\n",
       "             ...   \n",
       "3883.29           1\n",
       "3883.60           1\n",
       "3882.46           1\n",
       "3883.50           1\n",
       "58755.97          1\n",
       "Name: count, Length: 1046537, dtype: int64"
      ]
     },
     "execution_count": 55,
     "metadata": {},
     "output_type": "execute_result"
    }
   ],
   "source": [
    "# Lets check High\n",
    "data[\"Low\"].value_counts(dropna =False)\n",
    "# As you can see, there are 1243608 NAN value"
   ]
  },
  {
   "cell_type": "code",
   "execution_count": 56,
   "id": "8c2a1c27",
   "metadata": {
    "execution": {
     "iopub.execute_input": "2024-06-30T19:51:33.051994Z",
     "iopub.status.busy": "2024-06-30T19:51:33.051585Z",
     "iopub.status.idle": "2024-06-30T19:51:33.115347Z",
     "shell.execute_reply": "2024-06-30T19:51:33.114171Z"
    },
    "papermill": {
     "duration": 0.105279,
     "end_time": "2024-06-30T19:51:33.117815",
     "exception": false,
     "start_time": "2024-06-30T19:51:33.012536",
     "status": "completed"
    },
    "tags": []
   },
   "outputs": [],
   "source": [
    "# Lets drop nan values\n",
    "data1=data   # also we will use data to fill missing value so I assign it to data1 variable\n",
    "data1[\"Low\"].dropna(inplace = True)  # inplace = True means we do not assign it to new variable. Changes automatically assigned to data\n",
    "# So does it work ?"
   ]
  },
  {
   "cell_type": "code",
   "execution_count": 57,
   "id": "72827a94",
   "metadata": {
    "execution": {
     "iopub.execute_input": "2024-06-30T19:51:33.193552Z",
     "iopub.status.busy": "2024-06-30T19:51:33.193171Z",
     "iopub.status.idle": "2024-06-30T19:51:33.197983Z",
     "shell.execute_reply": "2024-06-30T19:51:33.196855Z"
    },
    "papermill": {
     "duration": 0.045286,
     "end_time": "2024-06-30T19:51:33.200216",
     "exception": false,
     "start_time": "2024-06-30T19:51:33.154930",
     "status": "completed"
    },
    "tags": []
   },
   "outputs": [],
   "source": [
    "#  Lets check with assert statement\n",
    "# Assert statement:\n",
    "assert 1==1 # return nothing because it is true"
   ]
  },
  {
   "cell_type": "code",
   "execution_count": 58,
   "id": "a649447d",
   "metadata": {
    "execution": {
     "iopub.execute_input": "2024-06-30T19:51:33.274795Z",
     "iopub.status.busy": "2024-06-30T19:51:33.274322Z",
     "iopub.status.idle": "2024-06-30T19:51:33.278907Z",
     "shell.execute_reply": "2024-06-30T19:51:33.277882Z"
    },
    "papermill": {
     "duration": 0.044192,
     "end_time": "2024-06-30T19:51:33.281121",
     "exception": false,
     "start_time": "2024-06-30T19:51:33.236929",
     "status": "completed"
    },
    "tags": []
   },
   "outputs": [],
   "source": [
    "# In order to run all code, we need to make this line comment\n",
    "# assert 1==2 # return error because it is false"
   ]
  },
  {
   "cell_type": "code",
   "execution_count": 59,
   "id": "8a520c0e",
   "metadata": {
    "execution": {
     "iopub.execute_input": "2024-06-30T19:51:33.355526Z",
     "iopub.status.busy": "2024-06-30T19:51:33.355137Z",
     "iopub.status.idle": "2024-06-30T19:51:33.360120Z",
     "shell.execute_reply": "2024-06-30T19:51:33.359106Z"
    },
    "papermill": {
     "duration": 0.044687,
     "end_time": "2024-06-30T19:51:33.362289",
     "exception": false,
     "start_time": "2024-06-30T19:51:33.317602",
     "status": "completed"
    },
    "tags": []
   },
   "outputs": [],
   "source": [
    "# # With assert statement we can check a lot of thing. For example\n",
    "# assert data.columns[1] == 'Name'\n",
    "assert data.High.dtypes == np.float64"
   ]
  },
  {
   "cell_type": "markdown",
   "id": "4284123c",
   "metadata": {
    "papermill": {
     "duration": 0.036509,
     "end_time": "2024-06-30T19:51:33.435496",
     "exception": false,
     "start_time": "2024-06-30T19:51:33.398987",
     "status": "completed"
    },
    "tags": []
   },
   "source": [
    "In this part, you learn:\n",
    "* Diagnose data for cleaning\n",
    "* Exploratory data analysis\n",
    "* Visual exploratory data analysis\n",
    "* Tidy data\n",
    "* Pivoting data\n",
    "* Concatenating data\n",
    "* Data types\n",
    "* Missing data and testing with assert"
   ]
  },
  {
   "cell_type": "markdown",
   "id": "904033f4",
   "metadata": {
    "papermill": {
     "duration": 0.036313,
     "end_time": "2024-06-30T19:51:33.509606",
     "exception": false,
     "start_time": "2024-06-30T19:51:33.473293",
     "status": "completed"
    },
    "tags": []
   },
   "source": [
    "<a id=\"25\"></a> <br>\n",
    "# 4. PANDAS FOUNDATION "
   ]
  },
  {
   "cell_type": "markdown",
   "id": "dca6e1a5",
   "metadata": {
    "papermill": {
     "duration": 0.036178,
     "end_time": "2024-06-30T19:51:33.582520",
     "exception": false,
     "start_time": "2024-06-30T19:51:33.546342",
     "status": "completed"
    },
    "tags": []
   },
   "source": [
    "<a id=\"26\"></a> <br>\n",
    "### REVİEW of PANDAS\n",
    "As you notice, I do not give all idea in a same time. Although, we learn some basics of pandas, we will go deeper in pandas.\n",
    "* single column = series\n",
    "* NaN = not a number\n",
    "* dataframe.values = numpy"
   ]
  },
  {
   "cell_type": "markdown",
   "id": "66f6b4e9",
   "metadata": {
    "papermill": {
     "duration": 0.036549,
     "end_time": "2024-06-30T19:51:33.655723",
     "exception": false,
     "start_time": "2024-06-30T19:51:33.619174",
     "status": "completed"
    },
    "tags": []
   },
   "source": [
    "<a id=\"27\"></a> <br>\n",
    "### BUILDING DATA FRAMES FROM SCRATCH\n",
    "* We can build data frames from csv as we did earlier.\n",
    "* Also we can build dataframe from dictionaries\n",
    "    * zip() method: This function returns a list of tuples, where the i-th tuple contains the i-th element from each of the argument sequences or iterables.\n",
    "* Adding new column\n",
    "* Broadcasting: Create new column and assign a value to entire column"
   ]
  },
  {
   "cell_type": "code",
   "execution_count": 60,
   "id": "804cbfdd",
   "metadata": {
    "execution": {
     "iopub.execute_input": "2024-06-30T19:51:33.735445Z",
     "iopub.status.busy": "2024-06-30T19:51:33.735042Z",
     "iopub.status.idle": "2024-06-30T19:51:33.747176Z",
     "shell.execute_reply": "2024-06-30T19:51:33.745931Z"
    },
    "papermill": {
     "duration": 0.055093,
     "end_time": "2024-06-30T19:51:33.749603",
     "exception": false,
     "start_time": "2024-06-30T19:51:33.694510",
     "status": "completed"
    },
    "tags": []
   },
   "outputs": [
    {
     "data": {
      "text/html": [
       "<div>\n",
       "<style scoped>\n",
       "    .dataframe tbody tr th:only-of-type {\n",
       "        vertical-align: middle;\n",
       "    }\n",
       "\n",
       "    .dataframe tbody tr th {\n",
       "        vertical-align: top;\n",
       "    }\n",
       "\n",
       "    .dataframe thead th {\n",
       "        text-align: right;\n",
       "    }\n",
       "</style>\n",
       "<table border=\"1\" class=\"dataframe\">\n",
       "  <thead>\n",
       "    <tr style=\"text-align: right;\">\n",
       "      <th></th>\n",
       "      <th>country</th>\n",
       "      <th>population</th>\n",
       "    </tr>\n",
       "  </thead>\n",
       "  <tbody>\n",
       "    <tr>\n",
       "      <th>0</th>\n",
       "      <td>France</td>\n",
       "      <td>12</td>\n",
       "    </tr>\n",
       "    <tr>\n",
       "      <th>1</th>\n",
       "      <td>Italy</td>\n",
       "      <td>18</td>\n",
       "    </tr>\n",
       "  </tbody>\n",
       "</table>\n",
       "</div>"
      ],
      "text/plain": [
       "  country population\n",
       "0  France         12\n",
       "1   Italy         18"
      ]
     },
     "execution_count": 60,
     "metadata": {},
     "output_type": "execute_result"
    }
   ],
   "source": [
    "# data frames from dictionary\n",
    "country = [\"France\",\"Italy\"]\n",
    "population = [\"12\",\"18\"]\n",
    "list_label = [\"country\",\"population\"]\n",
    "list_col = [country,population]\n",
    "zipped = list(zip(list_label,list_col))\n",
    "data_dict = dict(zipped)\n",
    "df = pd.DataFrame(data_dict)\n",
    "df"
   ]
  },
  {
   "cell_type": "code",
   "execution_count": 61,
   "id": "cd1fa79d",
   "metadata": {
    "execution": {
     "iopub.execute_input": "2024-06-30T19:51:33.827345Z",
     "iopub.status.busy": "2024-06-30T19:51:33.826433Z",
     "iopub.status.idle": "2024-06-30T19:51:33.837663Z",
     "shell.execute_reply": "2024-06-30T19:51:33.836563Z"
    },
    "papermill": {
     "duration": 0.053068,
     "end_time": "2024-06-30T19:51:33.839887",
     "exception": false,
     "start_time": "2024-06-30T19:51:33.786819",
     "status": "completed"
    },
    "tags": []
   },
   "outputs": [
    {
     "data": {
      "text/html": [
       "<div>\n",
       "<style scoped>\n",
       "    .dataframe tbody tr th:only-of-type {\n",
       "        vertical-align: middle;\n",
       "    }\n",
       "\n",
       "    .dataframe tbody tr th {\n",
       "        vertical-align: top;\n",
       "    }\n",
       "\n",
       "    .dataframe thead th {\n",
       "        text-align: right;\n",
       "    }\n",
       "</style>\n",
       "<table border=\"1\" class=\"dataframe\">\n",
       "  <thead>\n",
       "    <tr style=\"text-align: right;\">\n",
       "      <th></th>\n",
       "      <th>country</th>\n",
       "      <th>population</th>\n",
       "      <th>capital</th>\n",
       "    </tr>\n",
       "  </thead>\n",
       "  <tbody>\n",
       "    <tr>\n",
       "      <th>0</th>\n",
       "      <td>France</td>\n",
       "      <td>12</td>\n",
       "      <td>paris</td>\n",
       "    </tr>\n",
       "    <tr>\n",
       "      <th>1</th>\n",
       "      <td>Italy</td>\n",
       "      <td>18</td>\n",
       "      <td>rome</td>\n",
       "    </tr>\n",
       "  </tbody>\n",
       "</table>\n",
       "</div>"
      ],
      "text/plain": [
       "  country population capital\n",
       "0  France         12   paris\n",
       "1   Italy         18    rome"
      ]
     },
     "execution_count": 61,
     "metadata": {},
     "output_type": "execute_result"
    }
   ],
   "source": [
    "# add new columns\n",
    "df[\"capital\"] = [\"paris\",\"rome\"]\n",
    "df"
   ]
  },
  {
   "cell_type": "code",
   "execution_count": 62,
   "id": "2a1ce958",
   "metadata": {
    "execution": {
     "iopub.execute_input": "2024-06-30T19:51:33.915745Z",
     "iopub.status.busy": "2024-06-30T19:51:33.915148Z",
     "iopub.status.idle": "2024-06-30T19:51:33.926337Z",
     "shell.execute_reply": "2024-06-30T19:51:33.925331Z"
    },
    "papermill": {
     "duration": 0.05172,
     "end_time": "2024-06-30T19:51:33.928575",
     "exception": false,
     "start_time": "2024-06-30T19:51:33.876855",
     "status": "completed"
    },
    "tags": []
   },
   "outputs": [
    {
     "data": {
      "text/html": [
       "<div>\n",
       "<style scoped>\n",
       "    .dataframe tbody tr th:only-of-type {\n",
       "        vertical-align: middle;\n",
       "    }\n",
       "\n",
       "    .dataframe tbody tr th {\n",
       "        vertical-align: top;\n",
       "    }\n",
       "\n",
       "    .dataframe thead th {\n",
       "        text-align: right;\n",
       "    }\n",
       "</style>\n",
       "<table border=\"1\" class=\"dataframe\">\n",
       "  <thead>\n",
       "    <tr style=\"text-align: right;\">\n",
       "      <th></th>\n",
       "      <th>country</th>\n",
       "      <th>population</th>\n",
       "      <th>capital</th>\n",
       "      <th>income</th>\n",
       "    </tr>\n",
       "  </thead>\n",
       "  <tbody>\n",
       "    <tr>\n",
       "      <th>0</th>\n",
       "      <td>France</td>\n",
       "      <td>12</td>\n",
       "      <td>paris</td>\n",
       "      <td>0</td>\n",
       "    </tr>\n",
       "    <tr>\n",
       "      <th>1</th>\n",
       "      <td>Italy</td>\n",
       "      <td>18</td>\n",
       "      <td>rome</td>\n",
       "      <td>0</td>\n",
       "    </tr>\n",
       "  </tbody>\n",
       "</table>\n",
       "</div>"
      ],
      "text/plain": [
       "  country population capital  income\n",
       "0  France         12   paris       0\n",
       "1   Italy         18    rome       0"
      ]
     },
     "execution_count": 62,
     "metadata": {},
     "output_type": "execute_result"
    }
   ],
   "source": [
    "# Broadcasting\n",
    "df[\"income\"] = 0  # Broadcasting entire columns\n",
    "df"
   ]
  },
  {
   "cell_type": "markdown",
   "id": "1a3cf054",
   "metadata": {
    "papermill": {
     "duration": 0.037469,
     "end_time": "2024-06-30T19:51:34.004230",
     "exception": false,
     "start_time": "2024-06-30T19:51:33.966761",
     "status": "completed"
    },
    "tags": []
   },
   "source": [
    "<a id=\"28\"></a> <br>\n",
    "### VISUAL EXPLORATORY DATA ANALYSIS\n",
    "* Plot\n",
    "* Subplot\n",
    "* Histogram:\n",
    "    * bins: number of bins\n",
    "    * range(tuble): min and max values of bins\n",
    "    * normed(boolean): normalize or not\n",
    "    * cumulative(boolean): compute cumulative distribution"
   ]
  },
  {
   "cell_type": "code",
   "execution_count": 63,
   "id": "8ace6c71",
   "metadata": {
    "execution": {
     "iopub.execute_input": "2024-06-30T19:51:34.080821Z",
     "iopub.status.busy": "2024-06-30T19:51:34.080342Z",
     "iopub.status.idle": "2024-06-30T19:51:57.698640Z",
     "shell.execute_reply": "2024-06-30T19:51:57.697400Z"
    },
    "papermill": {
     "duration": 23.659525,
     "end_time": "2024-06-30T19:51:57.701214",
     "exception": false,
     "start_time": "2024-06-30T19:51:34.041689",
     "status": "completed"
    },
    "tags": []
   },
   "outputs": [
    {
     "data": {
      "text/plain": [
       "<Axes: >"
      ]
     },
     "execution_count": 63,
     "metadata": {},
     "output_type": "execute_result"
    },
    {
     "data": {
      "image/png": "[encoded data removed]",
      "text/plain": [
       "<Figure size 640x480 with 1 Axes>"
      ]
     },
     "metadata": {},
     "output_type": "display_data"
    }
   ],
   "source": [
    "# Plotting all data\n",
    "data1 = data.loc[:,[\"Weighted_Price\",\"High\",\"Low\"]]\n",
    "data1.plot()\n",
    "# it is confusing"
   ]
  },
  {
   "cell_type": "code",
   "execution_count": 64,
   "id": "3143cc3d",
   "metadata": {
    "execution": {
     "iopub.execute_input": "2024-06-30T19:51:57.780553Z",
     "iopub.status.busy": "2024-06-30T19:51:57.779805Z",
     "iopub.status.idle": "2024-06-30T19:52:15.501609Z",
     "shell.execute_reply": "2024-06-30T19:52:15.500572Z"
    },
    "papermill": {
     "duration": 17.764604,
     "end_time": "2024-06-30T19:52:15.503885",
     "exception": false,
     "start_time": "2024-06-30T19:51:57.739281",
     "status": "completed"
    },
    "tags": []
   },
   "outputs": [
    {
     "data": {
      "image/png": "[encoded data removed]",
      "text/plain": [
       "<Figure size 640x480 with 3 Axes>"
      ]
     },
     "metadata": {},
     "output_type": "display_data"
    }
   ],
   "source": [
    "# subplots\n",
    "data1.plot(subplots = True)\n",
    "plt.show()"
   ]
  },
  {
   "cell_type": "code",
   "execution_count": 65,
   "id": "31d0b292",
   "metadata": {
    "execution": {
     "iopub.execute_input": "2024-06-30T19:52:15.583411Z",
     "iopub.status.busy": "2024-06-30T19:52:15.583054Z",
     "iopub.status.idle": "2024-06-30T19:52:22.194272Z",
     "shell.execute_reply": "2024-06-30T19:52:22.193155Z"
    },
    "papermill": {
     "duration": 6.653548,
     "end_time": "2024-06-30T19:52:22.196742",
     "exception": false,
     "start_time": "2024-06-30T19:52:15.543194",
     "status": "completed"
    },
    "tags": []
   },
   "outputs": [
    {
     "data": {
      "image/png": "[encoded data removed]",
      "text/plain": [
       "<Figure size 640x480 with 1 Axes>"
      ]
     },
     "metadata": {},
     "output_type": "display_data"
    }
   ],
   "source": [
    "# scatter plot\n",
    "data1.plot(kind = \"scatter\", x=\"Weighted_Price\", y=\"High\")\n",
    "plt.show()"
   ]
  },
  {
   "cell_type": "code",
   "execution_count": 66,
   "id": "3e41f2ce",
   "metadata": {
    "execution": {
     "iopub.execute_input": "2024-06-30T19:52:22.275282Z",
     "iopub.status.busy": "2024-06-30T19:52:22.274913Z",
     "iopub.status.idle": "2024-06-30T19:52:22.946652Z",
     "shell.execute_reply": "2024-06-30T19:52:22.945616Z"
    },
    "papermill": {
     "duration": 0.713736,
     "end_time": "2024-06-30T19:52:22.949101",
     "exception": false,
     "start_time": "2024-06-30T19:52:22.235365",
     "status": "completed"
    },
    "tags": []
   },
   "outputs": [
    {
     "data": {
      "text/plain": [
       "<Axes: ylabel='Frequency'>"
      ]
     },
     "execution_count": 66,
     "metadata": {},
     "output_type": "execute_result"
    },
    {
     "data": {
      "image/png": "[encoded data removed]",
      "text/plain": [
       "<Figure size 640x480 with 1 Axes>"
      ]
     },
     "metadata": {},
     "output_type": "display_data"
    }
   ],
   "source": [
    "# hist plot\n",
    "data1.plot(kind = \"hist\", y = \"High\",bins = 50,range= (0,250),density = True)"
   ]
  },
  {
   "cell_type": "code",
   "execution_count": 67,
   "id": "4abf2967",
   "metadata": {
    "execution": {
     "iopub.execute_input": "2024-06-30T19:52:23.029152Z",
     "iopub.status.busy": "2024-06-30T19:52:23.028781Z",
     "iopub.status.idle": "2024-06-30T19:52:24.504589Z",
     "shell.execute_reply": "2024-06-30T19:52:24.503534Z"
    },
    "papermill": {
     "duration": 1.518103,
     "end_time": "2024-06-30T19:52:24.506793",
     "exception": false,
     "start_time": "2024-06-30T19:52:22.988690",
     "status": "completed"
    },
    "tags": []
   },
   "outputs": [
    {
     "data": {
      "text/plain": [
       "<module 'matplotlib.pyplot' from '/opt/conda/lib/python3.10/site-packages/matplotlib/pyplot.py'>"
      ]
     },
     "execution_count": 67,
     "metadata": {},
     "output_type": "execute_result"
    },
    {
     "data": {
      "image/png": "[encoded data removed]",
      "text/plain": [
       "<Figure size 640x480 with 2 Axes>"
      ]
     },
     "metadata": {},
     "output_type": "display_data"
    }
   ],
   "source": [
    "# histogram subplot with non cumulative and cumulative\n",
    "fig, axes = plt.subplots(nrows=2, ncols=1)\n",
    "data1.plot(kind= \"hist\", y=\"High\", bins=50, range=(0,250), density=True, ax=axes[0])\n",
    "data1.plot(kind= \"hist\", y=\"High\", bins=50, range=(0,250), density=True, ax=axes[1], cumulative=True)\n",
    "plt.savefig('graph.png')\n",
    "plt"
   ]
  },
  {
   "cell_type": "markdown",
   "id": "fbd5e1b9",
   "metadata": {
    "papermill": {
     "duration": 0.039461,
     "end_time": "2024-06-30T19:52:24.586945",
     "exception": false,
     "start_time": "2024-06-30T19:52:24.547484",
     "status": "completed"
    },
    "tags": []
   },
   "source": [
    "<a id=\"29\"></a> <br>\n",
    "### STATISTICAL EXPLORATORY DATA ANALYSIS\n",
    "I already explained it at previous parts. However lets look at one more time.\n",
    "* count: number of entries\n",
    "* mean: average of entries\n",
    "* std: standart deviation\n",
    "* min: minimum entry\n",
    "* 25%: first quantile\n",
    "* 50%: median or second quantile\n",
    "* 75%: third quantile\n",
    "* max: maximum entry"
   ]
  },
  {
   "cell_type": "code",
   "execution_count": 68,
   "id": "1071f9fa",
   "metadata": {
    "execution": {
     "iopub.execute_input": "2024-06-30T19:52:24.668840Z",
     "iopub.status.busy": "2024-06-30T19:52:24.668426Z",
     "iopub.status.idle": "2024-06-30T19:52:27.149171Z",
     "shell.execute_reply": "2024-06-30T19:52:27.147934Z"
    },
    "papermill": {
     "duration": 2.524047,
     "end_time": "2024-06-30T19:52:27.151759",
     "exception": false,
     "start_time": "2024-06-30T19:52:24.627712",
     "status": "completed"
    },
    "tags": []
   },
   "outputs": [
    {
     "data": {
      "text/html": [
       "<div>\n",
       "<style scoped>\n",
       "    .dataframe tbody tr th:only-of-type {\n",
       "        vertical-align: middle;\n",
       "    }\n",
       "\n",
       "    .dataframe tbody tr th {\n",
       "        vertical-align: top;\n",
       "    }\n",
       "\n",
       "    .dataframe thead th {\n",
       "        text-align: right;\n",
       "    }\n",
       "</style>\n",
       "<table border=\"1\" class=\"dataframe\">\n",
       "  <thead>\n",
       "    <tr style=\"text-align: right;\">\n",
       "      <th></th>\n",
       "      <th>Timestamp</th>\n",
       "      <th>High</th>\n",
       "      <th>Low</th>\n",
       "      <th>Close</th>\n",
       "      <th>Volume_(BTC)</th>\n",
       "      <th>Volume_(Currency)</th>\n",
       "      <th>Weighted_Price</th>\n",
       "    </tr>\n",
       "  </thead>\n",
       "  <tbody>\n",
       "    <tr>\n",
       "      <th>count</th>\n",
       "      <td>4.857377e+06</td>\n",
       "      <td>3.613769e+06</td>\n",
       "      <td>3.613769e+06</td>\n",
       "      <td>3.613769e+06</td>\n",
       "      <td>3.613769e+06</td>\n",
       "      <td>3.613769e+06</td>\n",
       "      <td>3.613769e+06</td>\n",
       "    </tr>\n",
       "    <tr>\n",
       "      <th>mean</th>\n",
       "      <td>1.471301e+09</td>\n",
       "      <td>6.013357e+03</td>\n",
       "      <td>6.004488e+03</td>\n",
       "      <td>6.009014e+03</td>\n",
       "      <td>9.323249e+00</td>\n",
       "      <td>4.176284e+04</td>\n",
       "      <td>6.008935e+03</td>\n",
       "    </tr>\n",
       "    <tr>\n",
       "      <th>std</th>\n",
       "      <td>8.428019e+07</td>\n",
       "      <td>9.003521e+03</td>\n",
       "      <td>8.988778e+03</td>\n",
       "      <td>8.996360e+03</td>\n",
       "      <td>3.054989e+01</td>\n",
       "      <td>1.518248e+05</td>\n",
       "      <td>8.995992e+03</td>\n",
       "    </tr>\n",
       "    <tr>\n",
       "      <th>min</th>\n",
       "      <td>1.325318e+09</td>\n",
       "      <td>3.800000e+00</td>\n",
       "      <td>1.500000e+00</td>\n",
       "      <td>1.500000e+00</td>\n",
       "      <td>0.000000e+00</td>\n",
       "      <td>0.000000e+00</td>\n",
       "      <td>3.800000e+00</td>\n",
       "    </tr>\n",
       "    <tr>\n",
       "      <th>25%</th>\n",
       "      <td>1.398179e+09</td>\n",
       "      <td>4.440000e+02</td>\n",
       "      <td>4.435200e+02</td>\n",
       "      <td>4.438600e+02</td>\n",
       "      <td>4.097759e-01</td>\n",
       "      <td>4.521422e+02</td>\n",
       "      <td>4.438306e+02</td>\n",
       "    </tr>\n",
       "    <tr>\n",
       "      <th>50%</th>\n",
       "      <td>1.471428e+09</td>\n",
       "      <td>3.598190e+03</td>\n",
       "      <td>3.595620e+03</td>\n",
       "      <td>3.597000e+03</td>\n",
       "      <td>1.979811e+00</td>\n",
       "      <td>3.810124e+03</td>\n",
       "      <td>3.596804e+03</td>\n",
       "    </tr>\n",
       "    <tr>\n",
       "      <th>75%</th>\n",
       "      <td>1.544288e+09</td>\n",
       "      <td>8.632980e+03</td>\n",
       "      <td>8.621090e+03</td>\n",
       "      <td>8.627160e+03</td>\n",
       "      <td>7.278216e+00</td>\n",
       "      <td>2.569821e+04</td>\n",
       "      <td>8.627637e+03</td>\n",
       "    </tr>\n",
       "    <tr>\n",
       "      <th>max</th>\n",
       "      <td>1.617149e+09</td>\n",
       "      <td>6.178183e+04</td>\n",
       "      <td>6.167355e+04</td>\n",
       "      <td>6.178180e+04</td>\n",
       "      <td>5.853852e+03</td>\n",
       "      <td>1.390067e+07</td>\n",
       "      <td>6.171621e+04</td>\n",
       "    </tr>\n",
       "  </tbody>\n",
       "</table>\n",
       "</div>"
      ],
      "text/plain": [
       "          Timestamp          High           Low         Close  Volume_(BTC)  \\\n",
       "count  4.857377e+06  3.613769e+06  3.613769e+06  3.613769e+06  3.613769e+06   \n",
       "mean   1.471301e+09  6.013357e+03  6.004488e+03  6.009014e+03  9.323249e+00   \n",
       "std    8.428019e+07  9.003521e+03  8.988778e+03  8.996360e+03  3.054989e+01   \n",
       "min    1.325318e+09  3.800000e+00  1.500000e+00  1.500000e+00  0.000000e+00   \n",
       "25%    1.398179e+09  4.440000e+02  4.435200e+02  4.438600e+02  4.097759e-01   \n",
       "50%    1.471428e+09  3.598190e+03  3.595620e+03  3.597000e+03  1.979811e+00   \n",
       "75%    1.544288e+09  8.632980e+03  8.621090e+03  8.627160e+03  7.278216e+00   \n",
       "max    1.617149e+09  6.178183e+04  6.167355e+04  6.178180e+04  5.853852e+03   \n",
       "\n",
       "       Volume_(Currency)  Weighted_Price  \n",
       "count       3.613769e+06    3.613769e+06  \n",
       "mean        4.176284e+04    6.008935e+03  \n",
       "std         1.518248e+05    8.995992e+03  \n",
       "min         0.000000e+00    3.800000e+00  \n",
       "25%         4.521422e+02    4.438306e+02  \n",
       "50%         3.810124e+03    3.596804e+03  \n",
       "75%         2.569821e+04    8.627637e+03  \n",
       "max         1.390067e+07    6.171621e+04  "
      ]
     },
     "execution_count": 68,
     "metadata": {},
     "output_type": "execute_result"
    }
   ],
   "source": [
    "data.describe()"
   ]
  },
  {
   "cell_type": "markdown",
   "id": "91a07718",
   "metadata": {
    "papermill": {
     "duration": 0.041476,
     "end_time": "2024-06-30T19:52:27.232997",
     "exception": false,
     "start_time": "2024-06-30T19:52:27.191521",
     "status": "completed"
    },
    "tags": []
   },
   "source": [
    "<a id=\"30\"></a> <br>\n",
    "### INDEXING PANDAS TIME SERIES\n",
    "* datetime = object\n",
    "* parse_dates(boolean): Transform date to ISO 8601 (yyyy-mm-dd hh:mm:ss ) format"
   ]
  },
  {
   "cell_type": "code",
   "execution_count": 69,
   "id": "77d70eec",
   "metadata": {
    "execution": {
     "iopub.execute_input": "2024-06-30T19:52:27.316666Z",
     "iopub.status.busy": "2024-06-30T19:52:27.316189Z",
     "iopub.status.idle": "2024-06-30T19:52:27.327069Z",
     "shell.execute_reply": "2024-06-30T19:52:27.325880Z"
    },
    "papermill": {
     "duration": 0.055216,
     "end_time": "2024-06-30T19:52:27.329246",
     "exception": false,
     "start_time": "2024-06-30T19:52:27.274030",
     "status": "completed"
    },
    "tags": []
   },
   "outputs": [
    {
     "name": "stdout",
     "output_type": "stream",
     "text": [
      "<class 'str'>\n",
      "<class 'pandas.core.indexes.datetimes.DatetimeIndex'>\n"
     ]
    }
   ],
   "source": [
    "time_list = [\"2001-08-05\",\"2008-08-08\"]\n",
    "print(type(time_list[1]))    # As you can see date is string\n",
    "# however we want it to be datetime object\n",
    "datetime_object = pd.to_datetime(time_list)\n",
    "print(type(datetime_object))"
   ]
  },
  {
   "cell_type": "code",
   "execution_count": 70,
   "id": "cd47a1e9",
   "metadata": {
    "execution": {
     "iopub.execute_input": "2024-06-30T19:52:27.410813Z",
     "iopub.status.busy": "2024-06-30T19:52:27.410416Z",
     "iopub.status.idle": "2024-06-30T19:52:27.427040Z",
     "shell.execute_reply": "2024-06-30T19:52:27.425975Z"
    },
    "papermill": {
     "duration": 0.060115,
     "end_time": "2024-06-30T19:52:27.429061",
     "exception": false,
     "start_time": "2024-06-30T19:52:27.368946",
     "status": "completed"
    },
    "tags": []
   },
   "outputs": [
    {
     "data": {
      "text/html": [
       "<div>\n",
       "<style scoped>\n",
       "    .dataframe tbody tr th:only-of-type {\n",
       "        vertical-align: middle;\n",
       "    }\n",
       "\n",
       "    .dataframe tbody tr th {\n",
       "        vertical-align: top;\n",
       "    }\n",
       "\n",
       "    .dataframe thead th {\n",
       "        text-align: right;\n",
       "    }\n",
       "</style>\n",
       "<table border=\"1\" class=\"dataframe\">\n",
       "  <thead>\n",
       "    <tr style=\"text-align: right;\">\n",
       "      <th></th>\n",
       "      <th>Timestamp</th>\n",
       "      <th>Open</th>\n",
       "      <th>High</th>\n",
       "      <th>Low</th>\n",
       "      <th>Close</th>\n",
       "      <th>Volume_(BTC)</th>\n",
       "      <th>Volume_(Currency)</th>\n",
       "      <th>Weighted_Price</th>\n",
       "    </tr>\n",
       "  </thead>\n",
       "  <tbody>\n",
       "    <tr>\n",
       "      <th>0</th>\n",
       "      <td>1.325318e+09</td>\n",
       "      <td>4.39</td>\n",
       "      <td>4.39</td>\n",
       "      <td>4.39</td>\n",
       "      <td>4.39</td>\n",
       "      <td>0.455581</td>\n",
       "      <td>2.0</td>\n",
       "      <td>4.39</td>\n",
       "    </tr>\n",
       "    <tr>\n",
       "      <th>1</th>\n",
       "      <td>1.325318e+09</td>\n",
       "      <td>NaN</td>\n",
       "      <td>NaN</td>\n",
       "      <td>NaN</td>\n",
       "      <td>NaN</td>\n",
       "      <td>NaN</td>\n",
       "      <td>NaN</td>\n",
       "      <td>NaN</td>\n",
       "    </tr>\n",
       "    <tr>\n",
       "      <th>2</th>\n",
       "      <td>1.325318e+09</td>\n",
       "      <td>NaN</td>\n",
       "      <td>NaN</td>\n",
       "      <td>NaN</td>\n",
       "      <td>NaN</td>\n",
       "      <td>NaN</td>\n",
       "      <td>NaN</td>\n",
       "      <td>NaN</td>\n",
       "    </tr>\n",
       "    <tr>\n",
       "      <th>3</th>\n",
       "      <td>1.325318e+09</td>\n",
       "      <td>NaN</td>\n",
       "      <td>NaN</td>\n",
       "      <td>NaN</td>\n",
       "      <td>NaN</td>\n",
       "      <td>NaN</td>\n",
       "      <td>NaN</td>\n",
       "      <td>NaN</td>\n",
       "    </tr>\n",
       "    <tr>\n",
       "      <th>4</th>\n",
       "      <td>1.325318e+09</td>\n",
       "      <td>NaN</td>\n",
       "      <td>NaN</td>\n",
       "      <td>NaN</td>\n",
       "      <td>NaN</td>\n",
       "      <td>NaN</td>\n",
       "      <td>NaN</td>\n",
       "      <td>NaN</td>\n",
       "    </tr>\n",
       "  </tbody>\n",
       "</table>\n",
       "</div>"
      ],
      "text/plain": [
       "      Timestamp  Open  High   Low  Close  Volume_(BTC)  Volume_(Currency)  \\\n",
       "0  1.325318e+09  4.39  4.39  4.39   4.39      0.455581                2.0   \n",
       "1  1.325318e+09   NaN   NaN   NaN    NaN           NaN                NaN   \n",
       "2  1.325318e+09   NaN   NaN   NaN    NaN           NaN                NaN   \n",
       "3  1.325318e+09   NaN   NaN   NaN    NaN           NaN                NaN   \n",
       "4  1.325318e+09   NaN   NaN   NaN    NaN           NaN                NaN   \n",
       "\n",
       "   Weighted_Price  \n",
       "0            4.39  \n",
       "1             NaN  \n",
       "2             NaN  \n",
       "3             NaN  \n",
       "4             NaN  "
      ]
     },
     "execution_count": 70,
     "metadata": {},
     "output_type": "execute_result"
    }
   ],
   "source": [
    "data.head()"
   ]
  },
  {
   "cell_type": "code",
   "execution_count": 71,
   "id": "302d638e",
   "metadata": {
    "execution": {
     "iopub.execute_input": "2024-06-30T19:52:27.512416Z",
     "iopub.status.busy": "2024-06-30T19:52:27.512041Z",
     "iopub.status.idle": "2024-06-30T19:52:27.532848Z",
     "shell.execute_reply": "2024-06-30T19:52:27.531679Z"
    },
    "papermill": {
     "duration": 0.0651,
     "end_time": "2024-06-30T19:52:27.535169",
     "exception": false,
     "start_time": "2024-06-30T19:52:27.470069",
     "status": "completed"
    },
    "tags": []
   },
   "outputs": [
    {
     "data": {
      "text/html": [
       "<div>\n",
       "<style scoped>\n",
       "    .dataframe tbody tr th:only-of-type {\n",
       "        vertical-align: middle;\n",
       "    }\n",
       "\n",
       "    .dataframe tbody tr th {\n",
       "        vertical-align: top;\n",
       "    }\n",
       "\n",
       "    .dataframe thead th {\n",
       "        text-align: right;\n",
       "    }\n",
       "</style>\n",
       "<table border=\"1\" class=\"dataframe\">\n",
       "  <thead>\n",
       "    <tr style=\"text-align: right;\">\n",
       "      <th></th>\n",
       "      <th>Timestamp</th>\n",
       "      <th>Open</th>\n",
       "      <th>High</th>\n",
       "      <th>Low</th>\n",
       "      <th>Close</th>\n",
       "      <th>Volume_(BTC)</th>\n",
       "      <th>Volume_(Currency)</th>\n",
       "      <th>Weighted_Price</th>\n",
       "    </tr>\n",
       "    <tr>\n",
       "      <th>date</th>\n",
       "      <th></th>\n",
       "      <th></th>\n",
       "      <th></th>\n",
       "      <th></th>\n",
       "      <th></th>\n",
       "      <th></th>\n",
       "      <th></th>\n",
       "      <th></th>\n",
       "    </tr>\n",
       "  </thead>\n",
       "  <tbody>\n",
       "    <tr>\n",
       "      <th>2005-06-06</th>\n",
       "      <td>1.325318e+09</td>\n",
       "      <td>4.39</td>\n",
       "      <td>4.39</td>\n",
       "      <td>4.39</td>\n",
       "      <td>4.39</td>\n",
       "      <td>0.455581</td>\n",
       "      <td>2.0</td>\n",
       "      <td>4.39</td>\n",
       "    </tr>\n",
       "    <tr>\n",
       "      <th>1975-05-18</th>\n",
       "      <td>1.325318e+09</td>\n",
       "      <td>NaN</td>\n",
       "      <td>NaN</td>\n",
       "      <td>NaN</td>\n",
       "      <td>NaN</td>\n",
       "      <td>NaN</td>\n",
       "      <td>NaN</td>\n",
       "      <td>NaN</td>\n",
       "    </tr>\n",
       "    <tr>\n",
       "      <th>1993-10-23</th>\n",
       "      <td>1.325318e+09</td>\n",
       "      <td>NaN</td>\n",
       "      <td>NaN</td>\n",
       "      <td>NaN</td>\n",
       "      <td>NaN</td>\n",
       "      <td>NaN</td>\n",
       "      <td>NaN</td>\n",
       "      <td>NaN</td>\n",
       "    </tr>\n",
       "    <tr>\n",
       "      <th>2005-12-30</th>\n",
       "      <td>1.325318e+09</td>\n",
       "      <td>NaN</td>\n",
       "      <td>NaN</td>\n",
       "      <td>NaN</td>\n",
       "      <td>NaN</td>\n",
       "      <td>NaN</td>\n",
       "      <td>NaN</td>\n",
       "      <td>NaN</td>\n",
       "    </tr>\n",
       "    <tr>\n",
       "      <th>1964-08-02</th>\n",
       "      <td>1.325318e+09</td>\n",
       "      <td>NaN</td>\n",
       "      <td>NaN</td>\n",
       "      <td>NaN</td>\n",
       "      <td>NaN</td>\n",
       "      <td>NaN</td>\n",
       "      <td>NaN</td>\n",
       "      <td>NaN</td>\n",
       "    </tr>\n",
       "  </tbody>\n",
       "</table>\n",
       "</div>"
      ],
      "text/plain": [
       "               Timestamp  Open  High   Low  Close  Volume_(BTC)  \\\n",
       "date                                                              \n",
       "2005-06-06  1.325318e+09  4.39  4.39  4.39   4.39      0.455581   \n",
       "1975-05-18  1.325318e+09   NaN   NaN   NaN    NaN           NaN   \n",
       "1993-10-23  1.325318e+09   NaN   NaN   NaN    NaN           NaN   \n",
       "2005-12-30  1.325318e+09   NaN   NaN   NaN    NaN           NaN   \n",
       "1964-08-02  1.325318e+09   NaN   NaN   NaN    NaN           NaN   \n",
       "\n",
       "            Volume_(Currency)  Weighted_Price  \n",
       "date                                           \n",
       "2005-06-06                2.0            4.39  \n",
       "1975-05-18                NaN             NaN  \n",
       "1993-10-23                NaN             NaN  \n",
       "2005-12-30                NaN             NaN  \n",
       "1964-08-02                NaN             NaN  "
      ]
     },
     "execution_count": 71,
     "metadata": {},
     "output_type": "execute_result"
    }
   ],
   "source": [
    "# close warning\n",
    "import warnings\n",
    "warnings.filterwarnings(\"ignore\")\n",
    "# in order the practice lets take head of bitcoin data and add it a time list\n",
    "data2 = data.head()\n",
    "date_list = [\"2005-06-06\",\"1975-05-18\",\"1993-10-23\",\"2005-12-30\",\"1964-08-02\"]\n",
    "datetime_object = pd.to_datetime(date_list)\n",
    "data2[\"date\"] = datetime_object\n",
    "# lets make date as index\n",
    "data2= data2.set_index(\"date\")\n",
    "data2"
   ]
  },
  {
   "cell_type": "code",
   "execution_count": 72,
   "id": "10a3ff63",
   "metadata": {
    "execution": {
     "iopub.execute_input": "2024-06-30T19:52:27.617840Z",
     "iopub.status.busy": "2024-06-30T19:52:27.617432Z",
     "iopub.status.idle": "2024-06-30T19:52:27.648895Z",
     "shell.execute_reply": "2024-06-30T19:52:27.647702Z"
    },
    "papermill": {
     "duration": 0.076159,
     "end_time": "2024-06-30T19:52:27.651419",
     "exception": false,
     "start_time": "2024-06-30T19:52:27.575260",
     "status": "completed"
    },
    "tags": []
   },
   "outputs": [
    {
     "name": "stdout",
     "output_type": "stream",
     "text": [
      "Timestamp            1.325318e+09\n",
      "Open                 4.390000e+00\n",
      "High                 4.390000e+00\n",
      "Low                  4.390000e+00\n",
      "Close                4.390000e+00\n",
      "Volume_(BTC)         4.555809e-01\n",
      "Volume_(Currency)    2.000000e+00\n",
      "Weighted_Price       4.390000e+00\n",
      "Name: 2005-06-06 00:00:00, dtype: float64\n"
     ]
    }
   ],
   "source": [
    "# Now we can select according to our date index\n",
    "print(data2.loc[\"2005-06-06\"])"
   ]
  },
  {
   "cell_type": "markdown",
   "id": "e39eb561",
   "metadata": {
    "papermill": {
     "duration": 0.040789,
     "end_time": "2024-06-30T19:52:27.735321",
     "exception": false,
     "start_time": "2024-06-30T19:52:27.694532",
     "status": "completed"
    },
    "tags": []
   },
   "source": [
    "<a id=\"31\"></a> <br>\n",
    "### RESAMPLING PANDAS TIME SERIES\n",
    "* Resampling: statistical method over different time intervals\n",
    "    * Needs string to specify frequency like \"M\" = month or \"A\" = year\n",
    "* Downsampling: reduce date time rows to slower frequency like from daily to weekly\n",
    "* Upsampling: increase date time rows to faster frequency like from daily to hourly\n",
    "* Interpolate: Interpolate values according to different methods like ‘linear’, ‘time’ or index’ \n",
    "    * https://pandas.pydata.org/pandas-docs/stable/generated/pandas.Series.interpolate.html"
   ]
  },
  {
   "cell_type": "markdown",
   "id": "1787ec76",
   "metadata": {
    "papermill": {
     "duration": 0.040574,
     "end_time": "2024-06-30T19:52:27.816125",
     "exception": false,
     "start_time": "2024-06-30T19:52:27.775551",
     "status": "completed"
    },
    "tags": []
   },
   "source": [
    "<a id=\"32\"></a> <br>\n",
    "# 5.MANIPULATING DATA FRAMES WITH PANDAS"
   ]
  },
  {
   "cell_type": "markdown",
   "id": "c7d13590",
   "metadata": {
    "papermill": {
     "duration": 0.040711,
     "end_time": "2024-06-30T19:52:27.897180",
     "exception": false,
     "start_time": "2024-06-30T19:52:27.856469",
     "status": "completed"
    },
    "tags": []
   },
   "source": [
    "<a id=\"33\"></a> <br>\n",
    "### INDEXING DATA FRAMES\n",
    "* Indexing using square brackets\n",
    "* Using column attribute and row label\n",
    "* Using loc accessor\n",
    "* Selecting only some columns"
   ]
  },
  {
   "cell_type": "code",
   "execution_count": 73,
   "id": "79566cb2",
   "metadata": {
    "execution": {
     "iopub.execute_input": "2024-06-30T19:52:27.980617Z",
     "iopub.status.busy": "2024-06-30T19:52:27.980270Z",
     "iopub.status.idle": "2024-06-30T19:52:27.987070Z",
     "shell.execute_reply": "2024-06-30T19:52:27.985959Z"
    },
    "papermill": {
     "duration": 0.051209,
     "end_time": "2024-06-30T19:52:27.989401",
     "exception": false,
     "start_time": "2024-06-30T19:52:27.938192",
     "status": "completed"
    },
    "tags": []
   },
   "outputs": [
    {
     "data": {
      "text/plain": [
       "4.39"
      ]
     },
     "execution_count": 73,
     "metadata": {},
     "output_type": "execute_result"
    }
   ],
   "source": [
    "# indexing using square brackets\n",
    "data[\"High\"][0]"
   ]
  },
  {
   "cell_type": "code",
   "execution_count": 74,
   "id": "c09e5c0b",
   "metadata": {
    "execution": {
     "iopub.execute_input": "2024-06-30T19:52:28.073384Z",
     "iopub.status.busy": "2024-06-30T19:52:28.073015Z",
     "iopub.status.idle": "2024-06-30T19:52:28.081156Z",
     "shell.execute_reply": "2024-06-30T19:52:28.080026Z"
    },
    "papermill": {
     "duration": 0.05313,
     "end_time": "2024-06-30T19:52:28.083518",
     "exception": false,
     "start_time": "2024-06-30T19:52:28.030388",
     "status": "completed"
    },
    "tags": []
   },
   "outputs": [
    {
     "data": {
      "text/plain": [
       "4.39"
      ]
     },
     "execution_count": 74,
     "metadata": {},
     "output_type": "execute_result"
    }
   ],
   "source": [
    "# using column attribute and row label\n",
    "data.High[0]"
   ]
  },
  {
   "cell_type": "code",
   "execution_count": 75,
   "id": "5001d10e",
   "metadata": {
    "execution": {
     "iopub.execute_input": "2024-06-30T19:52:28.168168Z",
     "iopub.status.busy": "2024-06-30T19:52:28.167777Z",
     "iopub.status.idle": "2024-06-30T19:52:28.177321Z",
     "shell.execute_reply": "2024-06-30T19:52:28.176075Z"
    },
    "papermill": {
     "duration": 0.055268,
     "end_time": "2024-06-30T19:52:28.179679",
     "exception": false,
     "start_time": "2024-06-30T19:52:28.124411",
     "status": "completed"
    },
    "tags": []
   },
   "outputs": [
    {
     "data": {
      "text/plain": [
       "High    4.39\n",
       "Name: 0, dtype: float64"
      ]
     },
     "execution_count": 75,
     "metadata": {},
     "output_type": "execute_result"
    }
   ],
   "source": [
    "# using loc accessor\n",
    "data.loc[0,[\"High\"]]"
   ]
  },
  {
   "cell_type": "code",
   "execution_count": 76,
   "id": "9e63e6bb",
   "metadata": {
    "execution": {
     "iopub.execute_input": "2024-06-30T19:52:28.263318Z",
     "iopub.status.busy": "2024-06-30T19:52:28.262920Z",
     "iopub.status.idle": "2024-06-30T19:52:28.301956Z",
     "shell.execute_reply": "2024-06-30T19:52:28.300723Z"
    },
    "papermill": {
     "duration": 0.083421,
     "end_time": "2024-06-30T19:52:28.304370",
     "exception": false,
     "start_time": "2024-06-30T19:52:28.220949",
     "status": "completed"
    },
    "tags": []
   },
   "outputs": [
    {
     "data": {
      "text/html": [
       "<div>\n",
       "<style scoped>\n",
       "    .dataframe tbody tr th:only-of-type {\n",
       "        vertical-align: middle;\n",
       "    }\n",
       "\n",
       "    .dataframe tbody tr th {\n",
       "        vertical-align: top;\n",
       "    }\n",
       "\n",
       "    .dataframe thead th {\n",
       "        text-align: right;\n",
       "    }\n",
       "</style>\n",
       "<table border=\"1\" class=\"dataframe\">\n",
       "  <thead>\n",
       "    <tr style=\"text-align: right;\">\n",
       "      <th></th>\n",
       "      <th>High</th>\n",
       "      <th>Low</th>\n",
       "    </tr>\n",
       "  </thead>\n",
       "  <tbody>\n",
       "    <tr>\n",
       "      <th>0</th>\n",
       "      <td>4.39</td>\n",
       "      <td>4.39</td>\n",
       "    </tr>\n",
       "    <tr>\n",
       "      <th>1</th>\n",
       "      <td>NaN</td>\n",
       "      <td>NaN</td>\n",
       "    </tr>\n",
       "    <tr>\n",
       "      <th>2</th>\n",
       "      <td>NaN</td>\n",
       "      <td>NaN</td>\n",
       "    </tr>\n",
       "    <tr>\n",
       "      <th>3</th>\n",
       "      <td>NaN</td>\n",
       "      <td>NaN</td>\n",
       "    </tr>\n",
       "    <tr>\n",
       "      <th>4</th>\n",
       "      <td>NaN</td>\n",
       "      <td>NaN</td>\n",
       "    </tr>\n",
       "    <tr>\n",
       "      <th>...</th>\n",
       "      <td>...</td>\n",
       "      <td>...</td>\n",
       "    </tr>\n",
       "    <tr>\n",
       "      <th>4857372</th>\n",
       "      <td>58714.31</td>\n",
       "      <td>58686.00</td>\n",
       "    </tr>\n",
       "    <tr>\n",
       "      <th>4857373</th>\n",
       "      <td>58693.43</td>\n",
       "      <td>58683.97</td>\n",
       "    </tr>\n",
       "    <tr>\n",
       "      <th>4857374</th>\n",
       "      <td>58723.84</td>\n",
       "      <td>58693.43</td>\n",
       "    </tr>\n",
       "    <tr>\n",
       "      <th>4857375</th>\n",
       "      <td>58770.38</td>\n",
       "      <td>58742.18</td>\n",
       "    </tr>\n",
       "    <tr>\n",
       "      <th>4857376</th>\n",
       "      <td>58778.18</td>\n",
       "      <td>58755.97</td>\n",
       "    </tr>\n",
       "  </tbody>\n",
       "</table>\n",
       "<p>4857377 rows × 2 columns</p>\n",
       "</div>"
      ],
      "text/plain": [
       "             High       Low\n",
       "0            4.39      4.39\n",
       "1             NaN       NaN\n",
       "2             NaN       NaN\n",
       "3             NaN       NaN\n",
       "4             NaN       NaN\n",
       "...           ...       ...\n",
       "4857372  58714.31  58686.00\n",
       "4857373  58693.43  58683.97\n",
       "4857374  58723.84  58693.43\n",
       "4857375  58770.38  58742.18\n",
       "4857376  58778.18  58755.97\n",
       "\n",
       "[4857377 rows x 2 columns]"
      ]
     },
     "execution_count": 76,
     "metadata": {},
     "output_type": "execute_result"
    }
   ],
   "source": [
    "# selecting only some columns \n",
    "data[[\"High\",\"Low\"]]"
   ]
  },
  {
   "cell_type": "markdown",
   "id": "cb95f96e",
   "metadata": {
    "papermill": {
     "duration": 0.042375,
     "end_time": "2024-06-30T19:52:28.388113",
     "exception": false,
     "start_time": "2024-06-30T19:52:28.345738",
     "status": "completed"
    },
    "tags": []
   },
   "source": [
    "<a id=\"34\"></a> <br>\n",
    "### SLICING DATA FRAME\n",
    "* Difference between selecting columns\n",
    "    * Series and data frames\n",
    "* Slicing and indexing series\n",
    "* Reverse slicing \n",
    "* From something to end"
   ]
  },
  {
   "cell_type": "code",
   "execution_count": 77,
   "id": "44dd51c0",
   "metadata": {
    "execution": {
     "iopub.execute_input": "2024-06-30T19:52:28.476048Z",
     "iopub.status.busy": "2024-06-30T19:52:28.474798Z",
     "iopub.status.idle": "2024-06-30T19:52:28.495894Z",
     "shell.execute_reply": "2024-06-30T19:52:28.494668Z"
    },
    "papermill": {
     "duration": 0.068635,
     "end_time": "2024-06-30T19:52:28.498365",
     "exception": false,
     "start_time": "2024-06-30T19:52:28.429730",
     "status": "completed"
    },
    "tags": []
   },
   "outputs": [
    {
     "name": "stdout",
     "output_type": "stream",
     "text": [
      "<class 'pandas.core.series.Series'>\n",
      "<class 'pandas.core.frame.DataFrame'>\n"
     ]
    }
   ],
   "source": [
    "# Difference between selecting columns: series and dataframes \n",
    "print(type(data[\"High\"]))    # series\n",
    "print(type(data[[\"High\"]]))  # dataframe"
   ]
  },
  {
   "cell_type": "code",
   "execution_count": 78,
   "id": "0784ac38",
   "metadata": {
    "execution": {
     "iopub.execute_input": "2024-06-30T19:52:28.585008Z",
     "iopub.status.busy": "2024-06-30T19:52:28.584588Z",
     "iopub.status.idle": "2024-06-30T19:52:28.644775Z",
     "shell.execute_reply": "2024-06-30T19:52:28.643577Z"
    },
    "papermill": {
     "duration": 0.106016,
     "end_time": "2024-06-30T19:52:28.647255",
     "exception": false,
     "start_time": "2024-06-30T19:52:28.541239",
     "status": "completed"
    },
    "tags": []
   },
   "outputs": [
    {
     "data": {
      "text/html": [
       "<div>\n",
       "<style scoped>\n",
       "    .dataframe tbody tr th:only-of-type {\n",
       "        vertical-align: middle;\n",
       "    }\n",
       "\n",
       "    .dataframe tbody tr th {\n",
       "        vertical-align: top;\n",
       "    }\n",
       "\n",
       "    .dataframe thead th {\n",
       "        text-align: right;\n",
       "    }\n",
       "</style>\n",
       "<table border=\"1\" class=\"dataframe\">\n",
       "  <thead>\n",
       "    <tr style=\"text-align: right;\">\n",
       "      <th></th>\n",
       "      <th>Open</th>\n",
       "      <th>High</th>\n",
       "      <th>Low</th>\n",
       "      <th>Close</th>\n",
       "    </tr>\n",
       "  </thead>\n",
       "  <tbody>\n",
       "    <tr>\n",
       "      <th>1</th>\n",
       "      <td>NaN</td>\n",
       "      <td>NaN</td>\n",
       "      <td>NaN</td>\n",
       "      <td>NaN</td>\n",
       "    </tr>\n",
       "    <tr>\n",
       "      <th>2</th>\n",
       "      <td>NaN</td>\n",
       "      <td>NaN</td>\n",
       "      <td>NaN</td>\n",
       "      <td>NaN</td>\n",
       "    </tr>\n",
       "    <tr>\n",
       "      <th>3</th>\n",
       "      <td>NaN</td>\n",
       "      <td>NaN</td>\n",
       "      <td>NaN</td>\n",
       "      <td>NaN</td>\n",
       "    </tr>\n",
       "    <tr>\n",
       "      <th>4</th>\n",
       "      <td>NaN</td>\n",
       "      <td>NaN</td>\n",
       "      <td>NaN</td>\n",
       "      <td>NaN</td>\n",
       "    </tr>\n",
       "    <tr>\n",
       "      <th>5</th>\n",
       "      <td>NaN</td>\n",
       "      <td>NaN</td>\n",
       "      <td>NaN</td>\n",
       "      <td>NaN</td>\n",
       "    </tr>\n",
       "    <tr>\n",
       "      <th>6</th>\n",
       "      <td>NaN</td>\n",
       "      <td>NaN</td>\n",
       "      <td>NaN</td>\n",
       "      <td>NaN</td>\n",
       "    </tr>\n",
       "    <tr>\n",
       "      <th>7</th>\n",
       "      <td>NaN</td>\n",
       "      <td>NaN</td>\n",
       "      <td>NaN</td>\n",
       "      <td>NaN</td>\n",
       "    </tr>\n",
       "    <tr>\n",
       "      <th>8</th>\n",
       "      <td>NaN</td>\n",
       "      <td>NaN</td>\n",
       "      <td>NaN</td>\n",
       "      <td>NaN</td>\n",
       "    </tr>\n",
       "    <tr>\n",
       "      <th>9</th>\n",
       "      <td>NaN</td>\n",
       "      <td>NaN</td>\n",
       "      <td>NaN</td>\n",
       "      <td>NaN</td>\n",
       "    </tr>\n",
       "    <tr>\n",
       "      <th>10</th>\n",
       "      <td>NaN</td>\n",
       "      <td>NaN</td>\n",
       "      <td>NaN</td>\n",
       "      <td>NaN</td>\n",
       "    </tr>\n",
       "  </tbody>\n",
       "</table>\n",
       "</div>"
      ],
      "text/plain": [
       "   Open  High  Low  Close\n",
       "1   NaN   NaN  NaN    NaN\n",
       "2   NaN   NaN  NaN    NaN\n",
       "3   NaN   NaN  NaN    NaN\n",
       "4   NaN   NaN  NaN    NaN\n",
       "5   NaN   NaN  NaN    NaN\n",
       "6   NaN   NaN  NaN    NaN\n",
       "7   NaN   NaN  NaN    NaN\n",
       "8   NaN   NaN  NaN    NaN\n",
       "9   NaN   NaN  NaN    NaN\n",
       "10  NaN   NaN  NaN    NaN"
      ]
     },
     "execution_count": 78,
     "metadata": {},
     "output_type": "execute_result"
    }
   ],
   "source": [
    "# Slicing and indexing series\n",
    "data.loc[1:10,\"Open\":\"Close\"]    # 10 and \"Close\" are inclusive"
   ]
  },
  {
   "cell_type": "code",
   "execution_count": 79,
   "id": "84b012fb",
   "metadata": {
    "execution": {
     "iopub.execute_input": "2024-06-30T19:52:28.738279Z",
     "iopub.status.busy": "2024-06-30T19:52:28.737907Z",
     "iopub.status.idle": "2024-06-30T19:52:28.798639Z",
     "shell.execute_reply": "2024-06-30T19:52:28.797432Z"
    },
    "papermill": {
     "duration": 0.110802,
     "end_time": "2024-06-30T19:52:28.800953",
     "exception": false,
     "start_time": "2024-06-30T19:52:28.690151",
     "status": "completed"
    },
    "tags": []
   },
   "outputs": [
    {
     "data": {
      "text/html": [
       "<div>\n",
       "<style scoped>\n",
       "    .dataframe tbody tr th:only-of-type {\n",
       "        vertical-align: middle;\n",
       "    }\n",
       "\n",
       "    .dataframe tbody tr th {\n",
       "        vertical-align: top;\n",
       "    }\n",
       "\n",
       "    .dataframe thead th {\n",
       "        text-align: right;\n",
       "    }\n",
       "</style>\n",
       "<table border=\"1\" class=\"dataframe\">\n",
       "  <thead>\n",
       "    <tr style=\"text-align: right;\">\n",
       "      <th></th>\n",
       "      <th>Open</th>\n",
       "      <th>High</th>\n",
       "      <th>Low</th>\n",
       "      <th>Close</th>\n",
       "    </tr>\n",
       "  </thead>\n",
       "  <tbody>\n",
       "    <tr>\n",
       "      <th>10</th>\n",
       "      <td>NaN</td>\n",
       "      <td>NaN</td>\n",
       "      <td>NaN</td>\n",
       "      <td>NaN</td>\n",
       "    </tr>\n",
       "    <tr>\n",
       "      <th>9</th>\n",
       "      <td>NaN</td>\n",
       "      <td>NaN</td>\n",
       "      <td>NaN</td>\n",
       "      <td>NaN</td>\n",
       "    </tr>\n",
       "    <tr>\n",
       "      <th>8</th>\n",
       "      <td>NaN</td>\n",
       "      <td>NaN</td>\n",
       "      <td>NaN</td>\n",
       "      <td>NaN</td>\n",
       "    </tr>\n",
       "    <tr>\n",
       "      <th>7</th>\n",
       "      <td>NaN</td>\n",
       "      <td>NaN</td>\n",
       "      <td>NaN</td>\n",
       "      <td>NaN</td>\n",
       "    </tr>\n",
       "    <tr>\n",
       "      <th>6</th>\n",
       "      <td>NaN</td>\n",
       "      <td>NaN</td>\n",
       "      <td>NaN</td>\n",
       "      <td>NaN</td>\n",
       "    </tr>\n",
       "    <tr>\n",
       "      <th>5</th>\n",
       "      <td>NaN</td>\n",
       "      <td>NaN</td>\n",
       "      <td>NaN</td>\n",
       "      <td>NaN</td>\n",
       "    </tr>\n",
       "    <tr>\n",
       "      <th>4</th>\n",
       "      <td>NaN</td>\n",
       "      <td>NaN</td>\n",
       "      <td>NaN</td>\n",
       "      <td>NaN</td>\n",
       "    </tr>\n",
       "    <tr>\n",
       "      <th>3</th>\n",
       "      <td>NaN</td>\n",
       "      <td>NaN</td>\n",
       "      <td>NaN</td>\n",
       "      <td>NaN</td>\n",
       "    </tr>\n",
       "    <tr>\n",
       "      <th>2</th>\n",
       "      <td>NaN</td>\n",
       "      <td>NaN</td>\n",
       "      <td>NaN</td>\n",
       "      <td>NaN</td>\n",
       "    </tr>\n",
       "    <tr>\n",
       "      <th>1</th>\n",
       "      <td>NaN</td>\n",
       "      <td>NaN</td>\n",
       "      <td>NaN</td>\n",
       "      <td>NaN</td>\n",
       "    </tr>\n",
       "  </tbody>\n",
       "</table>\n",
       "</div>"
      ],
      "text/plain": [
       "   Open  High  Low  Close\n",
       "10  NaN   NaN  NaN    NaN\n",
       "9   NaN   NaN  NaN    NaN\n",
       "8   NaN   NaN  NaN    NaN\n",
       "7   NaN   NaN  NaN    NaN\n",
       "6   NaN   NaN  NaN    NaN\n",
       "5   NaN   NaN  NaN    NaN\n",
       "4   NaN   NaN  NaN    NaN\n",
       "3   NaN   NaN  NaN    NaN\n",
       "2   NaN   NaN  NaN    NaN\n",
       "1   NaN   NaN  NaN    NaN"
      ]
     },
     "execution_count": 79,
     "metadata": {},
     "output_type": "execute_result"
    }
   ],
   "source": [
    "# Reverse slicing \n",
    "data.loc[10:1:-1,\"Open\":\"Close\"]"
   ]
  },
  {
   "cell_type": "code",
   "execution_count": 80,
   "id": "b042b815",
   "metadata": {
    "execution": {
     "iopub.execute_input": "2024-06-30T19:52:28.894674Z",
     "iopub.status.busy": "2024-06-30T19:52:28.894192Z",
     "iopub.status.idle": "2024-06-30T19:52:28.989754Z",
     "shell.execute_reply": "2024-06-30T19:52:28.988676Z"
    },
    "papermill": {
     "duration": 0.149071,
     "end_time": "2024-06-30T19:52:28.992076",
     "exception": false,
     "start_time": "2024-06-30T19:52:28.843005",
     "status": "completed"
    },
    "tags": []
   },
   "outputs": [
    {
     "data": {
      "text/html": [
       "<div>\n",
       "<style scoped>\n",
       "    .dataframe tbody tr th:only-of-type {\n",
       "        vertical-align: middle;\n",
       "    }\n",
       "\n",
       "    .dataframe tbody tr th {\n",
       "        vertical-align: top;\n",
       "    }\n",
       "\n",
       "    .dataframe thead th {\n",
       "        text-align: right;\n",
       "    }\n",
       "</style>\n",
       "<table border=\"1\" class=\"dataframe\">\n",
       "  <thead>\n",
       "    <tr style=\"text-align: right;\">\n",
       "      <th></th>\n",
       "      <th>High</th>\n",
       "      <th>Low</th>\n",
       "      <th>Close</th>\n",
       "      <th>Volume_(BTC)</th>\n",
       "      <th>Volume_(Currency)</th>\n",
       "      <th>Weighted_Price</th>\n",
       "    </tr>\n",
       "  </thead>\n",
       "  <tbody>\n",
       "    <tr>\n",
       "      <th>1</th>\n",
       "      <td>NaN</td>\n",
       "      <td>NaN</td>\n",
       "      <td>NaN</td>\n",
       "      <td>NaN</td>\n",
       "      <td>NaN</td>\n",
       "      <td>NaN</td>\n",
       "    </tr>\n",
       "    <tr>\n",
       "      <th>2</th>\n",
       "      <td>NaN</td>\n",
       "      <td>NaN</td>\n",
       "      <td>NaN</td>\n",
       "      <td>NaN</td>\n",
       "      <td>NaN</td>\n",
       "      <td>NaN</td>\n",
       "    </tr>\n",
       "    <tr>\n",
       "      <th>3</th>\n",
       "      <td>NaN</td>\n",
       "      <td>NaN</td>\n",
       "      <td>NaN</td>\n",
       "      <td>NaN</td>\n",
       "      <td>NaN</td>\n",
       "      <td>NaN</td>\n",
       "    </tr>\n",
       "    <tr>\n",
       "      <th>4</th>\n",
       "      <td>NaN</td>\n",
       "      <td>NaN</td>\n",
       "      <td>NaN</td>\n",
       "      <td>NaN</td>\n",
       "      <td>NaN</td>\n",
       "      <td>NaN</td>\n",
       "    </tr>\n",
       "    <tr>\n",
       "      <th>5</th>\n",
       "      <td>NaN</td>\n",
       "      <td>NaN</td>\n",
       "      <td>NaN</td>\n",
       "      <td>NaN</td>\n",
       "      <td>NaN</td>\n",
       "      <td>NaN</td>\n",
       "    </tr>\n",
       "    <tr>\n",
       "      <th>6</th>\n",
       "      <td>NaN</td>\n",
       "      <td>NaN</td>\n",
       "      <td>NaN</td>\n",
       "      <td>NaN</td>\n",
       "      <td>NaN</td>\n",
       "      <td>NaN</td>\n",
       "    </tr>\n",
       "    <tr>\n",
       "      <th>7</th>\n",
       "      <td>NaN</td>\n",
       "      <td>NaN</td>\n",
       "      <td>NaN</td>\n",
       "      <td>NaN</td>\n",
       "      <td>NaN</td>\n",
       "      <td>NaN</td>\n",
       "    </tr>\n",
       "    <tr>\n",
       "      <th>8</th>\n",
       "      <td>NaN</td>\n",
       "      <td>NaN</td>\n",
       "      <td>NaN</td>\n",
       "      <td>NaN</td>\n",
       "      <td>NaN</td>\n",
       "      <td>NaN</td>\n",
       "    </tr>\n",
       "    <tr>\n",
       "      <th>9</th>\n",
       "      <td>NaN</td>\n",
       "      <td>NaN</td>\n",
       "      <td>NaN</td>\n",
       "      <td>NaN</td>\n",
       "      <td>NaN</td>\n",
       "      <td>NaN</td>\n",
       "    </tr>\n",
       "    <tr>\n",
       "      <th>10</th>\n",
       "      <td>NaN</td>\n",
       "      <td>NaN</td>\n",
       "      <td>NaN</td>\n",
       "      <td>NaN</td>\n",
       "      <td>NaN</td>\n",
       "      <td>NaN</td>\n",
       "    </tr>\n",
       "  </tbody>\n",
       "</table>\n",
       "</div>"
      ],
      "text/plain": [
       "    High  Low  Close  Volume_(BTC)  Volume_(Currency)  Weighted_Price\n",
       "1    NaN  NaN    NaN           NaN                NaN             NaN\n",
       "2    NaN  NaN    NaN           NaN                NaN             NaN\n",
       "3    NaN  NaN    NaN           NaN                NaN             NaN\n",
       "4    NaN  NaN    NaN           NaN                NaN             NaN\n",
       "5    NaN  NaN    NaN           NaN                NaN             NaN\n",
       "6    NaN  NaN    NaN           NaN                NaN             NaN\n",
       "7    NaN  NaN    NaN           NaN                NaN             NaN\n",
       "8    NaN  NaN    NaN           NaN                NaN             NaN\n",
       "9    NaN  NaN    NaN           NaN                NaN             NaN\n",
       "10   NaN  NaN    NaN           NaN                NaN             NaN"
      ]
     },
     "execution_count": 80,
     "metadata": {},
     "output_type": "execute_result"
    }
   ],
   "source": [
    "# From something to end\n",
    "data.loc[1:10,\"High\":]"
   ]
  },
  {
   "cell_type": "markdown",
   "id": "437e87cb",
   "metadata": {
    "papermill": {
     "duration": 0.043391,
     "end_time": "2024-06-30T19:52:29.077392",
     "exception": false,
     "start_time": "2024-06-30T19:52:29.034001",
     "status": "completed"
    },
    "tags": []
   },
   "source": [
    "<a id=\"35\"></a> <br>\n",
    "### FILTERING DATA FRAMES\n",
    "Creating boolean series\n",
    "Combining filters\n",
    "Filtering column based others"
   ]
  },
  {
   "cell_type": "code",
   "execution_count": 81,
   "id": "0e8702cf",
   "metadata": {
    "execution": {
     "iopub.execute_input": "2024-06-30T19:52:29.164885Z",
     "iopub.status.busy": "2024-06-30T19:52:29.164061Z",
     "iopub.status.idle": "2024-06-30T19:52:29.336313Z",
     "shell.execute_reply": "2024-06-30T19:52:29.335166Z"
    },
    "papermill": {
     "duration": 0.219513,
     "end_time": "2024-06-30T19:52:29.338713",
     "exception": false,
     "start_time": "2024-06-30T19:52:29.119200",
     "status": "completed"
    },
    "tags": []
   },
   "outputs": [
    {
     "data": {
      "text/html": [
       "<div>\n",
       "<style scoped>\n",
       "    .dataframe tbody tr th:only-of-type {\n",
       "        vertical-align: middle;\n",
       "    }\n",
       "\n",
       "    .dataframe tbody tr th {\n",
       "        vertical-align: top;\n",
       "    }\n",
       "\n",
       "    .dataframe thead th {\n",
       "        text-align: right;\n",
       "    }\n",
       "</style>\n",
       "<table border=\"1\" class=\"dataframe\">\n",
       "  <thead>\n",
       "    <tr style=\"text-align: right;\">\n",
       "      <th></th>\n",
       "      <th>Timestamp</th>\n",
       "      <th>Open</th>\n",
       "      <th>High</th>\n",
       "      <th>Low</th>\n",
       "      <th>Close</th>\n",
       "      <th>Volume_(BTC)</th>\n",
       "      <th>Volume_(Currency)</th>\n",
       "      <th>Weighted_Price</th>\n",
       "    </tr>\n",
       "  </thead>\n",
       "  <tbody>\n",
       "    <tr>\n",
       "      <th>669822</th>\n",
       "      <td>1.365507e+09</td>\n",
       "      <td>200.34</td>\n",
       "      <td>200.80</td>\n",
       "      <td>200.34</td>\n",
       "      <td>200.34</td>\n",
       "      <td>5.380000</td>\n",
       "      <td>1080.099735</td>\n",
       "      <td>200.762032</td>\n",
       "    </tr>\n",
       "    <tr>\n",
       "      <th>669823</th>\n",
       "      <td>1.365507e+09</td>\n",
       "      <td>200.34</td>\n",
       "      <td>200.80</td>\n",
       "      <td>200.34</td>\n",
       "      <td>200.80</td>\n",
       "      <td>4.278005</td>\n",
       "      <td>858.279678</td>\n",
       "      <td>200.626161</td>\n",
       "    </tr>\n",
       "    <tr>\n",
       "      <th>669824</th>\n",
       "      <td>1.365507e+09</td>\n",
       "      <td>200.80</td>\n",
       "      <td>200.80</td>\n",
       "      <td>200.80</td>\n",
       "      <td>200.80</td>\n",
       "      <td>2.402750</td>\n",
       "      <td>482.472256</td>\n",
       "      <td>200.800000</td>\n",
       "    </tr>\n",
       "    <tr>\n",
       "      <th>669825</th>\n",
       "      <td>1.365507e+09</td>\n",
       "      <td>200.80</td>\n",
       "      <td>200.98</td>\n",
       "      <td>200.80</td>\n",
       "      <td>200.98</td>\n",
       "      <td>2.350603</td>\n",
       "      <td>472.024167</td>\n",
       "      <td>200.809831</td>\n",
       "    </tr>\n",
       "    <tr>\n",
       "      <th>669826</th>\n",
       "      <td>1.365507e+09</td>\n",
       "      <td>201.00</td>\n",
       "      <td>201.00</td>\n",
       "      <td>201.00</td>\n",
       "      <td>201.00</td>\n",
       "      <td>7.350000</td>\n",
       "      <td>1477.350000</td>\n",
       "      <td>201.000000</td>\n",
       "    </tr>\n",
       "    <tr>\n",
       "      <th>...</th>\n",
       "      <td>...</td>\n",
       "      <td>...</td>\n",
       "      <td>...</td>\n",
       "      <td>...</td>\n",
       "      <td>...</td>\n",
       "      <td>...</td>\n",
       "      <td>...</td>\n",
       "      <td>...</td>\n",
       "    </tr>\n",
       "    <tr>\n",
       "      <th>4857372</th>\n",
       "      <td>1.617149e+09</td>\n",
       "      <td>58714.31</td>\n",
       "      <td>58714.31</td>\n",
       "      <td>58686.00</td>\n",
       "      <td>58686.00</td>\n",
       "      <td>1.384487</td>\n",
       "      <td>81259.372187</td>\n",
       "      <td>58692.753339</td>\n",
       "    </tr>\n",
       "    <tr>\n",
       "      <th>4857373</th>\n",
       "      <td>1.617149e+09</td>\n",
       "      <td>58683.97</td>\n",
       "      <td>58693.43</td>\n",
       "      <td>58683.97</td>\n",
       "      <td>58685.81</td>\n",
       "      <td>7.294848</td>\n",
       "      <td>428158.146640</td>\n",
       "      <td>58693.226508</td>\n",
       "    </tr>\n",
       "    <tr>\n",
       "      <th>4857374</th>\n",
       "      <td>1.617149e+09</td>\n",
       "      <td>58693.43</td>\n",
       "      <td>58723.84</td>\n",
       "      <td>58693.43</td>\n",
       "      <td>58723.84</td>\n",
       "      <td>1.705682</td>\n",
       "      <td>100117.070370</td>\n",
       "      <td>58696.198496</td>\n",
       "    </tr>\n",
       "    <tr>\n",
       "      <th>4857375</th>\n",
       "      <td>1.617149e+09</td>\n",
       "      <td>58742.18</td>\n",
       "      <td>58770.38</td>\n",
       "      <td>58742.18</td>\n",
       "      <td>58760.59</td>\n",
       "      <td>0.720415</td>\n",
       "      <td>42332.958633</td>\n",
       "      <td>58761.866202</td>\n",
       "    </tr>\n",
       "    <tr>\n",
       "      <th>4857376</th>\n",
       "      <td>1.617149e+09</td>\n",
       "      <td>58767.75</td>\n",
       "      <td>58778.18</td>\n",
       "      <td>58755.97</td>\n",
       "      <td>58778.18</td>\n",
       "      <td>2.712831</td>\n",
       "      <td>159417.751000</td>\n",
       "      <td>58764.349363</td>\n",
       "    </tr>\n",
       "  </tbody>\n",
       "</table>\n",
       "<p>3351749 rows × 8 columns</p>\n",
       "</div>"
      ],
      "text/plain": [
       "            Timestamp      Open      High       Low     Close  Volume_(BTC)  \\\n",
       "669822   1.365507e+09    200.34    200.80    200.34    200.34      5.380000   \n",
       "669823   1.365507e+09    200.34    200.80    200.34    200.80      4.278005   \n",
       "669824   1.365507e+09    200.80    200.80    200.80    200.80      2.402750   \n",
       "669825   1.365507e+09    200.80    200.98    200.80    200.98      2.350603   \n",
       "669826   1.365507e+09    201.00    201.00    201.00    201.00      7.350000   \n",
       "...               ...       ...       ...       ...       ...           ...   \n",
       "4857372  1.617149e+09  58714.31  58714.31  58686.00  58686.00      1.384487   \n",
       "4857373  1.617149e+09  58683.97  58693.43  58683.97  58685.81      7.294848   \n",
       "4857374  1.617149e+09  58693.43  58723.84  58693.43  58723.84      1.705682   \n",
       "4857375  1.617149e+09  58742.18  58770.38  58742.18  58760.59      0.720415   \n",
       "4857376  1.617149e+09  58767.75  58778.18  58755.97  58778.18      2.712831   \n",
       "\n",
       "         Volume_(Currency)  Weighted_Price  \n",
       "669822         1080.099735      200.762032  \n",
       "669823          858.279678      200.626161  \n",
       "669824          482.472256      200.800000  \n",
       "669825          472.024167      200.809831  \n",
       "669826         1477.350000      201.000000  \n",
       "...                    ...             ...  \n",
       "4857372       81259.372187    58692.753339  \n",
       "4857373      428158.146640    58693.226508  \n",
       "4857374      100117.070370    58696.198496  \n",
       "4857375       42332.958633    58761.866202  \n",
       "4857376      159417.751000    58764.349363  \n",
       "\n",
       "[3351749 rows x 8 columns]"
      ]
     },
     "execution_count": 81,
     "metadata": {},
     "output_type": "execute_result"
    }
   ],
   "source": [
    "# Creating boolean series\n",
    "boolean = data.High > 200\n",
    "data[boolean]"
   ]
  },
  {
   "cell_type": "code",
   "execution_count": 82,
   "id": "983e6b54",
   "metadata": {
    "execution": {
     "iopub.execute_input": "2024-06-30T19:52:29.425125Z",
     "iopub.status.busy": "2024-06-30T19:52:29.424742Z",
     "iopub.status.idle": "2024-06-30T19:52:29.614437Z",
     "shell.execute_reply": "2024-06-30T19:52:29.613425Z"
    },
    "papermill": {
     "duration": 0.235482,
     "end_time": "2024-06-30T19:52:29.616758",
     "exception": false,
     "start_time": "2024-06-30T19:52:29.381276",
     "status": "completed"
    },
    "tags": []
   },
   "outputs": [
    {
     "data": {
      "text/html": [
       "<div>\n",
       "<style scoped>\n",
       "    .dataframe tbody tr th:only-of-type {\n",
       "        vertical-align: middle;\n",
       "    }\n",
       "\n",
       "    .dataframe tbody tr th {\n",
       "        vertical-align: top;\n",
       "    }\n",
       "\n",
       "    .dataframe thead th {\n",
       "        text-align: right;\n",
       "    }\n",
       "</style>\n",
       "<table border=\"1\" class=\"dataframe\">\n",
       "  <thead>\n",
       "    <tr style=\"text-align: right;\">\n",
       "      <th></th>\n",
       "      <th>Timestamp</th>\n",
       "      <th>Open</th>\n",
       "      <th>High</th>\n",
       "      <th>Low</th>\n",
       "      <th>Close</th>\n",
       "      <th>Volume_(BTC)</th>\n",
       "      <th>Volume_(Currency)</th>\n",
       "      <th>Weighted_Price</th>\n",
       "    </tr>\n",
       "  </thead>\n",
       "  <tbody>\n",
       "    <tr>\n",
       "      <th>976189</th>\n",
       "      <td>1.383889e+09</td>\n",
       "      <td>300.01</td>\n",
       "      <td>300.20</td>\n",
       "      <td>300.01</td>\n",
       "      <td>300.20</td>\n",
       "      <td>19.970000</td>\n",
       "      <td>5994.728959</td>\n",
       "      <td>300.186728</td>\n",
       "    </tr>\n",
       "    <tr>\n",
       "      <th>976190</th>\n",
       "      <td>1.383889e+09</td>\n",
       "      <td>300.20</td>\n",
       "      <td>301.88</td>\n",
       "      <td>300.20</td>\n",
       "      <td>301.88</td>\n",
       "      <td>46.900000</td>\n",
       "      <td>14103.943095</td>\n",
       "      <td>300.723733</td>\n",
       "    </tr>\n",
       "    <tr>\n",
       "      <th>976191</th>\n",
       "      <td>1.383889e+09</td>\n",
       "      <td>300.20</td>\n",
       "      <td>302.01</td>\n",
       "      <td>300.00</td>\n",
       "      <td>302.01</td>\n",
       "      <td>58.341350</td>\n",
       "      <td>17600.935491</td>\n",
       "      <td>301.688862</td>\n",
       "    </tr>\n",
       "    <tr>\n",
       "      <th>976192</th>\n",
       "      <td>1.383889e+09</td>\n",
       "      <td>302.01</td>\n",
       "      <td>302.09</td>\n",
       "      <td>302.01</td>\n",
       "      <td>302.09</td>\n",
       "      <td>2.000000</td>\n",
       "      <td>604.109590</td>\n",
       "      <td>302.054795</td>\n",
       "    </tr>\n",
       "    <tr>\n",
       "      <th>976193</th>\n",
       "      <td>1.383890e+09</td>\n",
       "      <td>302.09</td>\n",
       "      <td>302.13</td>\n",
       "      <td>302.09</td>\n",
       "      <td>302.13</td>\n",
       "      <td>13.975195</td>\n",
       "      <td>4221.936189</td>\n",
       "      <td>302.102135</td>\n",
       "    </tr>\n",
       "    <tr>\n",
       "      <th>...</th>\n",
       "      <td>...</td>\n",
       "      <td>...</td>\n",
       "      <td>...</td>\n",
       "      <td>...</td>\n",
       "      <td>...</td>\n",
       "      <td>...</td>\n",
       "      <td>...</td>\n",
       "      <td>...</td>\n",
       "    </tr>\n",
       "    <tr>\n",
       "      <th>4857372</th>\n",
       "      <td>1.617149e+09</td>\n",
       "      <td>58714.31</td>\n",
       "      <td>58714.31</td>\n",
       "      <td>58686.00</td>\n",
       "      <td>58686.00</td>\n",
       "      <td>1.384487</td>\n",
       "      <td>81259.372187</td>\n",
       "      <td>58692.753339</td>\n",
       "    </tr>\n",
       "    <tr>\n",
       "      <th>4857373</th>\n",
       "      <td>1.617149e+09</td>\n",
       "      <td>58683.97</td>\n",
       "      <td>58693.43</td>\n",
       "      <td>58683.97</td>\n",
       "      <td>58685.81</td>\n",
       "      <td>7.294848</td>\n",
       "      <td>428158.146640</td>\n",
       "      <td>58693.226508</td>\n",
       "    </tr>\n",
       "    <tr>\n",
       "      <th>4857374</th>\n",
       "      <td>1.617149e+09</td>\n",
       "      <td>58693.43</td>\n",
       "      <td>58723.84</td>\n",
       "      <td>58693.43</td>\n",
       "      <td>58723.84</td>\n",
       "      <td>1.705682</td>\n",
       "      <td>100117.070370</td>\n",
       "      <td>58696.198496</td>\n",
       "    </tr>\n",
       "    <tr>\n",
       "      <th>4857375</th>\n",
       "      <td>1.617149e+09</td>\n",
       "      <td>58742.18</td>\n",
       "      <td>58770.38</td>\n",
       "      <td>58742.18</td>\n",
       "      <td>58760.59</td>\n",
       "      <td>0.720415</td>\n",
       "      <td>42332.958633</td>\n",
       "      <td>58761.866202</td>\n",
       "    </tr>\n",
       "    <tr>\n",
       "      <th>4857376</th>\n",
       "      <td>1.617149e+09</td>\n",
       "      <td>58767.75</td>\n",
       "      <td>58778.18</td>\n",
       "      <td>58755.97</td>\n",
       "      <td>58778.18</td>\n",
       "      <td>2.712831</td>\n",
       "      <td>159417.751000</td>\n",
       "      <td>58764.349363</td>\n",
       "    </tr>\n",
       "  </tbody>\n",
       "</table>\n",
       "<p>3044641 rows × 8 columns</p>\n",
       "</div>"
      ],
      "text/plain": [
       "            Timestamp      Open      High       Low     Close  Volume_(BTC)  \\\n",
       "976189   1.383889e+09    300.01    300.20    300.01    300.20     19.970000   \n",
       "976190   1.383889e+09    300.20    301.88    300.20    301.88     46.900000   \n",
       "976191   1.383889e+09    300.20    302.01    300.00    302.01     58.341350   \n",
       "976192   1.383889e+09    302.01    302.09    302.01    302.09      2.000000   \n",
       "976193   1.383890e+09    302.09    302.13    302.09    302.13     13.975195   \n",
       "...               ...       ...       ...       ...       ...           ...   \n",
       "4857372  1.617149e+09  58714.31  58714.31  58686.00  58686.00      1.384487   \n",
       "4857373  1.617149e+09  58683.97  58693.43  58683.97  58685.81      7.294848   \n",
       "4857374  1.617149e+09  58693.43  58723.84  58693.43  58723.84      1.705682   \n",
       "4857375  1.617149e+09  58742.18  58770.38  58742.18  58760.59      0.720415   \n",
       "4857376  1.617149e+09  58767.75  58778.18  58755.97  58778.18      2.712831   \n",
       "\n",
       "         Volume_(Currency)  Weighted_Price  \n",
       "976189         5994.728959      300.186728  \n",
       "976190        14103.943095      300.723733  \n",
       "976191        17600.935491      301.688862  \n",
       "976192          604.109590      302.054795  \n",
       "976193         4221.936189      302.102135  \n",
       "...                    ...             ...  \n",
       "4857372       81259.372187    58692.753339  \n",
       "4857373      428158.146640    58693.226508  \n",
       "4857374      100117.070370    58696.198496  \n",
       "4857375       42332.958633    58761.866202  \n",
       "4857376      159417.751000    58764.349363  \n",
       "\n",
       "[3044641 rows x 8 columns]"
      ]
     },
     "execution_count": 82,
     "metadata": {},
     "output_type": "execute_result"
    }
   ],
   "source": [
    "# Combining Filters\n",
    "first_filter = data.Close > 300\n",
    "second_filter = data.Low > 20\n",
    "data[first_filter & second_filter]"
   ]
  },
  {
   "cell_type": "code",
   "execution_count": 83,
   "id": "b55db8f5",
   "metadata": {
    "execution": {
     "iopub.execute_input": "2024-06-30T19:52:29.704011Z",
     "iopub.status.busy": "2024-06-30T19:52:29.702987Z",
     "iopub.status.idle": "2024-06-30T19:52:29.721762Z",
     "shell.execute_reply": "2024-06-30T19:52:29.720706Z"
    },
    "papermill": {
     "duration": 0.065025,
     "end_time": "2024-06-30T19:52:29.724147",
     "exception": false,
     "start_time": "2024-06-30T19:52:29.659122",
     "status": "completed"
    },
    "tags": []
   },
   "outputs": [
    {
     "data": {
      "text/plain": [
       "0            4.39\n",
       "478          4.39\n",
       "547          4.57\n",
       "548          4.58\n",
       "1224         4.58\n",
       "            ...  \n",
       "628989      38.36\n",
       "628990      40.50\n",
       "628992      43.48\n",
       "628994      42.29\n",
       "2349652    588.53\n",
       "Name: High, Length: 39067, dtype: float64"
      ]
     },
     "execution_count": 83,
     "metadata": {},
     "output_type": "execute_result"
    }
   ],
   "source": [
    "# Filtering column based others\n",
    "data.High[data.Low < 40]"
   ]
  },
  {
   "cell_type": "markdown",
   "id": "8ad75e28",
   "metadata": {
    "papermill": {
     "duration": 0.042549,
     "end_time": "2024-06-30T19:52:29.809230",
     "exception": false,
     "start_time": "2024-06-30T19:52:29.766681",
     "status": "completed"
    },
    "tags": []
   },
   "source": [
    "<a id=\"36\"></a> <br>\n",
    "### TRANSFORMING DATA\n",
    "* Plain python functions\n",
    "* Lambda function: to apply arbitrary python function to every element\n",
    "* Defining column using other columns"
   ]
  },
  {
   "cell_type": "code",
   "execution_count": 84,
   "id": "b92e769c",
   "metadata": {
    "execution": {
     "iopub.execute_input": "2024-06-30T19:52:29.895406Z",
     "iopub.status.busy": "2024-06-30T19:52:29.895060Z",
     "iopub.status.idle": "2024-06-30T19:52:31.543306Z",
     "shell.execute_reply": "2024-06-30T19:52:31.542183Z"
    },
    "papermill": {
     "duration": 1.694383,
     "end_time": "2024-06-30T19:52:31.545823",
     "exception": false,
     "start_time": "2024-06-30T19:52:29.851440",
     "status": "completed"
    },
    "tags": []
   },
   "outputs": [
    {
     "data": {
      "text/plain": [
       "0          0.000219\n",
       "1               NaN\n",
       "2               NaN\n",
       "3               NaN\n",
       "4               NaN\n",
       "             ...   \n",
       "4857372    2.935715\n",
       "4857373    2.934671\n",
       "4857374    2.936192\n",
       "4857375    2.938519\n",
       "4857376    2.938909\n",
       "Name: High, Length: 4857377, dtype: float64"
      ]
     },
     "execution_count": 84,
     "metadata": {},
     "output_type": "execute_result"
    }
   ],
   "source": [
    "# Plain python functions\n",
    "def div(n):\n",
    "    return n/20000\n",
    "data.High.apply(div)"
   ]
  },
  {
   "cell_type": "code",
   "execution_count": 85,
   "id": "6ebcd085",
   "metadata": {
    "execution": {
     "iopub.execute_input": "2024-06-30T19:52:31.634867Z",
     "iopub.status.busy": "2024-06-30T19:52:31.634475Z",
     "iopub.status.idle": "2024-06-30T19:52:33.224772Z",
     "shell.execute_reply": "2024-06-30T19:52:33.223511Z"
    },
    "papermill": {
     "duration": 1.636814,
     "end_time": "2024-06-30T19:52:33.227145",
     "exception": false,
     "start_time": "2024-06-30T19:52:31.590331",
     "status": "completed"
    },
    "tags": []
   },
   "outputs": [
    {
     "data": {
      "text/plain": [
       "0          0.000219\n",
       "1               NaN\n",
       "2               NaN\n",
       "3               NaN\n",
       "4               NaN\n",
       "             ...   \n",
       "4857372    2.935715\n",
       "4857373    2.934671\n",
       "4857374    2.936192\n",
       "4857375    2.938519\n",
       "4857376    2.938909\n",
       "Name: High, Length: 4857377, dtype: float64"
      ]
     },
     "execution_count": 85,
     "metadata": {},
     "output_type": "execute_result"
    }
   ],
   "source": [
    "# Or we can use lambda function\n",
    "data.High.apply(lambda n : n/20000)"
   ]
  },
  {
   "cell_type": "code",
   "execution_count": 86,
   "id": "216286e0",
   "metadata": {
    "execution": {
     "iopub.execute_input": "2024-06-30T19:52:33.317986Z",
     "iopub.status.busy": "2024-06-30T19:52:33.317588Z",
     "iopub.status.idle": "2024-06-30T19:52:33.362334Z",
     "shell.execute_reply": "2024-06-30T19:52:33.361039Z"
    },
    "papermill": {
     "duration": 0.09458,
     "end_time": "2024-06-30T19:52:33.364936",
     "exception": false,
     "start_time": "2024-06-30T19:52:33.270356",
     "status": "completed"
    },
    "tags": []
   },
   "outputs": [
    {
     "data": {
      "text/html": [
       "<div>\n",
       "<style scoped>\n",
       "    .dataframe tbody tr th:only-of-type {\n",
       "        vertical-align: middle;\n",
       "    }\n",
       "\n",
       "    .dataframe tbody tr th {\n",
       "        vertical-align: top;\n",
       "    }\n",
       "\n",
       "    .dataframe thead th {\n",
       "        text-align: right;\n",
       "    }\n",
       "</style>\n",
       "<table border=\"1\" class=\"dataframe\">\n",
       "  <thead>\n",
       "    <tr style=\"text-align: right;\">\n",
       "      <th></th>\n",
       "      <th>Timestamp</th>\n",
       "      <th>Open</th>\n",
       "      <th>High</th>\n",
       "      <th>Low</th>\n",
       "      <th>Close</th>\n",
       "      <th>Volume_(BTC)</th>\n",
       "      <th>Volume_(Currency)</th>\n",
       "      <th>Weighted_Price</th>\n",
       "      <th>total</th>\n",
       "    </tr>\n",
       "  </thead>\n",
       "  <tbody>\n",
       "    <tr>\n",
       "      <th>0</th>\n",
       "      <td>1.325318e+09</td>\n",
       "      <td>4.39</td>\n",
       "      <td>4.39</td>\n",
       "      <td>4.39</td>\n",
       "      <td>4.39</td>\n",
       "      <td>0.455581</td>\n",
       "      <td>2.0</td>\n",
       "      <td>4.39</td>\n",
       "      <td>8.78</td>\n",
       "    </tr>\n",
       "    <tr>\n",
       "      <th>1</th>\n",
       "      <td>1.325318e+09</td>\n",
       "      <td>NaN</td>\n",
       "      <td>NaN</td>\n",
       "      <td>NaN</td>\n",
       "      <td>NaN</td>\n",
       "      <td>NaN</td>\n",
       "      <td>NaN</td>\n",
       "      <td>NaN</td>\n",
       "      <td>NaN</td>\n",
       "    </tr>\n",
       "    <tr>\n",
       "      <th>2</th>\n",
       "      <td>1.325318e+09</td>\n",
       "      <td>NaN</td>\n",
       "      <td>NaN</td>\n",
       "      <td>NaN</td>\n",
       "      <td>NaN</td>\n",
       "      <td>NaN</td>\n",
       "      <td>NaN</td>\n",
       "      <td>NaN</td>\n",
       "      <td>NaN</td>\n",
       "    </tr>\n",
       "    <tr>\n",
       "      <th>3</th>\n",
       "      <td>1.325318e+09</td>\n",
       "      <td>NaN</td>\n",
       "      <td>NaN</td>\n",
       "      <td>NaN</td>\n",
       "      <td>NaN</td>\n",
       "      <td>NaN</td>\n",
       "      <td>NaN</td>\n",
       "      <td>NaN</td>\n",
       "      <td>NaN</td>\n",
       "    </tr>\n",
       "    <tr>\n",
       "      <th>4</th>\n",
       "      <td>1.325318e+09</td>\n",
       "      <td>NaN</td>\n",
       "      <td>NaN</td>\n",
       "      <td>NaN</td>\n",
       "      <td>NaN</td>\n",
       "      <td>NaN</td>\n",
       "      <td>NaN</td>\n",
       "      <td>NaN</td>\n",
       "      <td>NaN</td>\n",
       "    </tr>\n",
       "  </tbody>\n",
       "</table>\n",
       "</div>"
      ],
      "text/plain": [
       "      Timestamp  Open  High   Low  Close  Volume_(BTC)  Volume_(Currency)  \\\n",
       "0  1.325318e+09  4.39  4.39  4.39   4.39      0.455581                2.0   \n",
       "1  1.325318e+09   NaN   NaN   NaN    NaN           NaN                NaN   \n",
       "2  1.325318e+09   NaN   NaN   NaN    NaN           NaN                NaN   \n",
       "3  1.325318e+09   NaN   NaN   NaN    NaN           NaN                NaN   \n",
       "4  1.325318e+09   NaN   NaN   NaN    NaN           NaN                NaN   \n",
       "\n",
       "   Weighted_Price  total  \n",
       "0            4.39   8.78  \n",
       "1             NaN    NaN  \n",
       "2             NaN    NaN  \n",
       "3             NaN    NaN  \n",
       "4             NaN    NaN  "
      ]
     },
     "execution_count": 86,
     "metadata": {},
     "output_type": "execute_result"
    }
   ],
   "source": [
    "# Defining column using other columns\n",
    "data[\"total\"] = data.Low + data.High\n",
    "data.head()"
   ]
  },
  {
   "cell_type": "markdown",
   "id": "2ba5cec5",
   "metadata": {
    "papermill": {
     "duration": 0.042742,
     "end_time": "2024-06-30T19:52:33.451505",
     "exception": false,
     "start_time": "2024-06-30T19:52:33.408763",
     "status": "completed"
    },
    "tags": []
   },
   "source": [
    "<a id=\"37\"></a> <br>\n",
    "### INDEX OBJECTS AND LABELED DATA\n",
    "index: sequence of label\n"
   ]
  },
  {
   "cell_type": "code",
   "execution_count": 87,
   "id": "2c3a6fec",
   "metadata": {
    "execution": {
     "iopub.execute_input": "2024-06-30T19:52:33.539345Z",
     "iopub.status.busy": "2024-06-30T19:52:33.538986Z",
     "iopub.status.idle": "2024-06-30T19:52:33.556894Z",
     "shell.execute_reply": "2024-06-30T19:52:33.555765Z"
    },
    "papermill": {
     "duration": 0.064938,
     "end_time": "2024-06-30T19:52:33.559344",
     "exception": false,
     "start_time": "2024-06-30T19:52:33.494406",
     "status": "completed"
    },
    "tags": []
   },
   "outputs": [
    {
     "name": "stdout",
     "output_type": "stream",
     "text": [
      "None\n"
     ]
    },
    {
     "data": {
      "text/html": [
       "<div>\n",
       "<style scoped>\n",
       "    .dataframe tbody tr th:only-of-type {\n",
       "        vertical-align: middle;\n",
       "    }\n",
       "\n",
       "    .dataframe tbody tr th {\n",
       "        vertical-align: top;\n",
       "    }\n",
       "\n",
       "    .dataframe thead th {\n",
       "        text-align: right;\n",
       "    }\n",
       "</style>\n",
       "<table border=\"1\" class=\"dataframe\">\n",
       "  <thead>\n",
       "    <tr style=\"text-align: right;\">\n",
       "      <th></th>\n",
       "      <th>Timestamp</th>\n",
       "      <th>Open</th>\n",
       "      <th>High</th>\n",
       "      <th>Low</th>\n",
       "      <th>Close</th>\n",
       "      <th>Volume_(BTC)</th>\n",
       "      <th>Volume_(Currency)</th>\n",
       "      <th>Weighted_Price</th>\n",
       "      <th>total</th>\n",
       "    </tr>\n",
       "    <tr>\n",
       "      <th>index_name</th>\n",
       "      <th></th>\n",
       "      <th></th>\n",
       "      <th></th>\n",
       "      <th></th>\n",
       "      <th></th>\n",
       "      <th></th>\n",
       "      <th></th>\n",
       "      <th></th>\n",
       "      <th></th>\n",
       "    </tr>\n",
       "  </thead>\n",
       "  <tbody>\n",
       "    <tr>\n",
       "      <th>0</th>\n",
       "      <td>1.325318e+09</td>\n",
       "      <td>4.39</td>\n",
       "      <td>4.39</td>\n",
       "      <td>4.39</td>\n",
       "      <td>4.39</td>\n",
       "      <td>0.455581</td>\n",
       "      <td>2.0</td>\n",
       "      <td>4.39</td>\n",
       "      <td>8.78</td>\n",
       "    </tr>\n",
       "    <tr>\n",
       "      <th>1</th>\n",
       "      <td>1.325318e+09</td>\n",
       "      <td>NaN</td>\n",
       "      <td>NaN</td>\n",
       "      <td>NaN</td>\n",
       "      <td>NaN</td>\n",
       "      <td>NaN</td>\n",
       "      <td>NaN</td>\n",
       "      <td>NaN</td>\n",
       "      <td>NaN</td>\n",
       "    </tr>\n",
       "    <tr>\n",
       "      <th>2</th>\n",
       "      <td>1.325318e+09</td>\n",
       "      <td>NaN</td>\n",
       "      <td>NaN</td>\n",
       "      <td>NaN</td>\n",
       "      <td>NaN</td>\n",
       "      <td>NaN</td>\n",
       "      <td>NaN</td>\n",
       "      <td>NaN</td>\n",
       "      <td>NaN</td>\n",
       "    </tr>\n",
       "    <tr>\n",
       "      <th>3</th>\n",
       "      <td>1.325318e+09</td>\n",
       "      <td>NaN</td>\n",
       "      <td>NaN</td>\n",
       "      <td>NaN</td>\n",
       "      <td>NaN</td>\n",
       "      <td>NaN</td>\n",
       "      <td>NaN</td>\n",
       "      <td>NaN</td>\n",
       "      <td>NaN</td>\n",
       "    </tr>\n",
       "    <tr>\n",
       "      <th>4</th>\n",
       "      <td>1.325318e+09</td>\n",
       "      <td>NaN</td>\n",
       "      <td>NaN</td>\n",
       "      <td>NaN</td>\n",
       "      <td>NaN</td>\n",
       "      <td>NaN</td>\n",
       "      <td>NaN</td>\n",
       "      <td>NaN</td>\n",
       "      <td>NaN</td>\n",
       "    </tr>\n",
       "  </tbody>\n",
       "</table>\n",
       "</div>"
      ],
      "text/plain": [
       "               Timestamp  Open  High   Low  Close  Volume_(BTC)  \\\n",
       "index_name                                                        \n",
       "0           1.325318e+09  4.39  4.39  4.39   4.39      0.455581   \n",
       "1           1.325318e+09   NaN   NaN   NaN    NaN           NaN   \n",
       "2           1.325318e+09   NaN   NaN   NaN    NaN           NaN   \n",
       "3           1.325318e+09   NaN   NaN   NaN    NaN           NaN   \n",
       "4           1.325318e+09   NaN   NaN   NaN    NaN           NaN   \n",
       "\n",
       "            Volume_(Currency)  Weighted_Price  total  \n",
       "index_name                                            \n",
       "0                         2.0            4.39   8.78  \n",
       "1                         NaN             NaN    NaN  \n",
       "2                         NaN             NaN    NaN  \n",
       "3                         NaN             NaN    NaN  \n",
       "4                         NaN             NaN    NaN  "
      ]
     },
     "execution_count": 87,
     "metadata": {},
     "output_type": "execute_result"
    }
   ],
   "source": [
    "# our index name is this:\n",
    "print(data.index.name)\n",
    "# lets change it\n",
    "data.index.name = \"index_name\"\n",
    "data.head()"
   ]
  },
  {
   "cell_type": "code",
   "execution_count": 88,
   "id": "ebc16454",
   "metadata": {
    "execution": {
     "iopub.execute_input": "2024-06-30T19:52:33.648154Z",
     "iopub.status.busy": "2024-06-30T19:52:33.647788Z",
     "iopub.status.idle": "2024-06-30T19:52:34.085111Z",
     "shell.execute_reply": "2024-06-30T19:52:34.084086Z"
    },
    "papermill": {
     "duration": 0.484609,
     "end_time": "2024-06-30T19:52:34.087476",
     "exception": false,
     "start_time": "2024-06-30T19:52:33.602867",
     "status": "completed"
    },
    "tags": []
   },
   "outputs": [
    {
     "data": {
      "text/html": [
       "<div>\n",
       "<style scoped>\n",
       "    .dataframe tbody tr th:only-of-type {\n",
       "        vertical-align: middle;\n",
       "    }\n",
       "\n",
       "    .dataframe tbody tr th {\n",
       "        vertical-align: top;\n",
       "    }\n",
       "\n",
       "    .dataframe thead th {\n",
       "        text-align: right;\n",
       "    }\n",
       "</style>\n",
       "<table border=\"1\" class=\"dataframe\">\n",
       "  <thead>\n",
       "    <tr style=\"text-align: right;\">\n",
       "      <th></th>\n",
       "      <th>Timestamp</th>\n",
       "      <th>Open</th>\n",
       "      <th>High</th>\n",
       "      <th>Low</th>\n",
       "      <th>Close</th>\n",
       "      <th>Volume_(BTC)</th>\n",
       "      <th>Volume_(Currency)</th>\n",
       "      <th>Weighted_Price</th>\n",
       "      <th>total</th>\n",
       "    </tr>\n",
       "  </thead>\n",
       "  <tbody>\n",
       "    <tr>\n",
       "      <th>100</th>\n",
       "      <td>1.325318e+09</td>\n",
       "      <td>4.39</td>\n",
       "      <td>4.39</td>\n",
       "      <td>4.39</td>\n",
       "      <td>4.39</td>\n",
       "      <td>0.455581</td>\n",
       "      <td>2.0</td>\n",
       "      <td>4.39</td>\n",
       "      <td>8.78</td>\n",
       "    </tr>\n",
       "    <tr>\n",
       "      <th>101</th>\n",
       "      <td>1.325318e+09</td>\n",
       "      <td>NaN</td>\n",
       "      <td>NaN</td>\n",
       "      <td>NaN</td>\n",
       "      <td>NaN</td>\n",
       "      <td>NaN</td>\n",
       "      <td>NaN</td>\n",
       "      <td>NaN</td>\n",
       "      <td>NaN</td>\n",
       "    </tr>\n",
       "    <tr>\n",
       "      <th>102</th>\n",
       "      <td>1.325318e+09</td>\n",
       "      <td>NaN</td>\n",
       "      <td>NaN</td>\n",
       "      <td>NaN</td>\n",
       "      <td>NaN</td>\n",
       "      <td>NaN</td>\n",
       "      <td>NaN</td>\n",
       "      <td>NaN</td>\n",
       "      <td>NaN</td>\n",
       "    </tr>\n",
       "    <tr>\n",
       "      <th>103</th>\n",
       "      <td>1.325318e+09</td>\n",
       "      <td>NaN</td>\n",
       "      <td>NaN</td>\n",
       "      <td>NaN</td>\n",
       "      <td>NaN</td>\n",
       "      <td>NaN</td>\n",
       "      <td>NaN</td>\n",
       "      <td>NaN</td>\n",
       "      <td>NaN</td>\n",
       "    </tr>\n",
       "    <tr>\n",
       "      <th>104</th>\n",
       "      <td>1.325318e+09</td>\n",
       "      <td>NaN</td>\n",
       "      <td>NaN</td>\n",
       "      <td>NaN</td>\n",
       "      <td>NaN</td>\n",
       "      <td>NaN</td>\n",
       "      <td>NaN</td>\n",
       "      <td>NaN</td>\n",
       "      <td>NaN</td>\n",
       "    </tr>\n",
       "  </tbody>\n",
       "</table>\n",
       "</div>"
      ],
      "text/plain": [
       "        Timestamp  Open  High   Low  Close  Volume_(BTC)  Volume_(Currency)  \\\n",
       "100  1.325318e+09  4.39  4.39  4.39   4.39      0.455581                2.0   \n",
       "101  1.325318e+09   NaN   NaN   NaN    NaN           NaN                NaN   \n",
       "102  1.325318e+09   NaN   NaN   NaN    NaN           NaN                NaN   \n",
       "103  1.325318e+09   NaN   NaN   NaN    NaN           NaN                NaN   \n",
       "104  1.325318e+09   NaN   NaN   NaN    NaN           NaN                NaN   \n",
       "\n",
       "     Weighted_Price  total  \n",
       "100            4.39   8.78  \n",
       "101             NaN    NaN  \n",
       "102             NaN    NaN  \n",
       "103             NaN    NaN  \n",
       "104             NaN    NaN  "
      ]
     },
     "execution_count": 88,
     "metadata": {},
     "output_type": "execute_result"
    }
   ],
   "source": [
    "# Overwrite index\n",
    "# if we want to modify index we need to change all of them.\n",
    "data.head()\n",
    "# first copy of our data to data3 then change index \n",
    "data3 = data.copy()\n",
    "# lets make index start from 100. It is not remarkable change but it is just example\n",
    "data3.index = range(100,4857477,1)\n",
    "data3.head()"
   ]
  },
  {
   "cell_type": "markdown",
   "id": "657776df",
   "metadata": {
    "papermill": {
     "duration": 0.046528,
     "end_time": "2024-06-30T19:52:34.178701",
     "exception": false,
     "start_time": "2024-06-30T19:52:34.132173",
     "status": "completed"
    },
    "tags": []
   },
   "source": [
    "<a id=\"38\"></a> <br>\n",
    "### HIERARCHICAL INDEXING\n",
    "* Setting indexing"
   ]
  },
  {
   "cell_type": "code",
   "execution_count": 89,
   "id": "20097295",
   "metadata": {
    "execution": {
     "iopub.execute_input": "2024-06-30T19:52:34.268461Z",
     "iopub.status.busy": "2024-06-30T19:52:34.268077Z",
     "iopub.status.idle": "2024-06-30T19:52:38.407286Z",
     "shell.execute_reply": "2024-06-30T19:52:38.406092Z"
    },
    "papermill": {
     "duration": 4.187809,
     "end_time": "2024-06-30T19:52:38.409925",
     "exception": false,
     "start_time": "2024-06-30T19:52:34.222116",
     "status": "completed"
    },
    "tags": []
   },
   "outputs": [
    {
     "data": {
      "text/html": [
       "<div>\n",
       "<style scoped>\n",
       "    .dataframe tbody tr th:only-of-type {\n",
       "        vertical-align: middle;\n",
       "    }\n",
       "\n",
       "    .dataframe tbody tr th {\n",
       "        vertical-align: top;\n",
       "    }\n",
       "\n",
       "    .dataframe thead th {\n",
       "        text-align: right;\n",
       "    }\n",
       "</style>\n",
       "<table border=\"1\" class=\"dataframe\">\n",
       "  <thead>\n",
       "    <tr style=\"text-align: right;\">\n",
       "      <th></th>\n",
       "      <th>Timestamp</th>\n",
       "      <th>Open</th>\n",
       "      <th>High</th>\n",
       "      <th>Low</th>\n",
       "      <th>Close</th>\n",
       "      <th>Volume_(BTC)</th>\n",
       "      <th>Volume_(Currency)</th>\n",
       "      <th>Weighted_Price</th>\n",
       "    </tr>\n",
       "  </thead>\n",
       "  <tbody>\n",
       "    <tr>\n",
       "      <th>0</th>\n",
       "      <td>1325317920</td>\n",
       "      <td>4.39</td>\n",
       "      <td>4.39</td>\n",
       "      <td>4.39</td>\n",
       "      <td>4.39</td>\n",
       "      <td>0.455581</td>\n",
       "      <td>2.0</td>\n",
       "      <td>4.39</td>\n",
       "    </tr>\n",
       "    <tr>\n",
       "      <th>1</th>\n",
       "      <td>1325317980</td>\n",
       "      <td>NaN</td>\n",
       "      <td>NaN</td>\n",
       "      <td>NaN</td>\n",
       "      <td>NaN</td>\n",
       "      <td>NaN</td>\n",
       "      <td>NaN</td>\n",
       "      <td>NaN</td>\n",
       "    </tr>\n",
       "    <tr>\n",
       "      <th>2</th>\n",
       "      <td>1325318040</td>\n",
       "      <td>NaN</td>\n",
       "      <td>NaN</td>\n",
       "      <td>NaN</td>\n",
       "      <td>NaN</td>\n",
       "      <td>NaN</td>\n",
       "      <td>NaN</td>\n",
       "      <td>NaN</td>\n",
       "    </tr>\n",
       "    <tr>\n",
       "      <th>3</th>\n",
       "      <td>1325318100</td>\n",
       "      <td>NaN</td>\n",
       "      <td>NaN</td>\n",
       "      <td>NaN</td>\n",
       "      <td>NaN</td>\n",
       "      <td>NaN</td>\n",
       "      <td>NaN</td>\n",
       "      <td>NaN</td>\n",
       "    </tr>\n",
       "    <tr>\n",
       "      <th>4</th>\n",
       "      <td>1325318160</td>\n",
       "      <td>NaN</td>\n",
       "      <td>NaN</td>\n",
       "      <td>NaN</td>\n",
       "      <td>NaN</td>\n",
       "      <td>NaN</td>\n",
       "      <td>NaN</td>\n",
       "      <td>NaN</td>\n",
       "    </tr>\n",
       "  </tbody>\n",
       "</table>\n",
       "</div>"
      ],
      "text/plain": [
       "    Timestamp  Open  High   Low  Close  Volume_(BTC)  Volume_(Currency)  \\\n",
       "0  1325317920  4.39  4.39  4.39   4.39      0.455581                2.0   \n",
       "1  1325317980   NaN   NaN   NaN    NaN           NaN                NaN   \n",
       "2  1325318040   NaN   NaN   NaN    NaN           NaN                NaN   \n",
       "3  1325318100   NaN   NaN   NaN    NaN           NaN                NaN   \n",
       "4  1325318160   NaN   NaN   NaN    NaN           NaN                NaN   \n",
       "\n",
       "   Weighted_Price  \n",
       "0            4.39  \n",
       "1             NaN  \n",
       "2             NaN  \n",
       "3             NaN  \n",
       "4             NaN  "
      ]
     },
     "execution_count": 89,
     "metadata": {},
     "output_type": "execute_result"
    }
   ],
   "source": [
    "# lets read data frame one more time to start from beginning\n",
    "data = pd.read_csv(\"/kaggle/input/bitcoin-historical-data/bitstampUSD_1-min_data_2012-01-01_to_2021-03-31.csv\")\n",
    "data.head()\n",
    "# As you can see there is index. However we want to set one or more column to be index"
   ]
  },
  {
   "cell_type": "code",
   "execution_count": 90,
   "id": "961263a6",
   "metadata": {
    "execution": {
     "iopub.execute_input": "2024-06-30T19:52:38.502549Z",
     "iopub.status.busy": "2024-06-30T19:52:38.502202Z",
     "iopub.status.idle": "2024-06-30T19:52:39.842796Z",
     "shell.execute_reply": "2024-06-30T19:52:39.841592Z"
    },
    "papermill": {
     "duration": 1.390263,
     "end_time": "2024-06-30T19:52:39.845117",
     "exception": false,
     "start_time": "2024-06-30T19:52:38.454854",
     "status": "completed"
    },
    "tags": []
   },
   "outputs": [
    {
     "data": {
      "text/html": [
       "<div>\n",
       "<style scoped>\n",
       "    .dataframe tbody tr th:only-of-type {\n",
       "        vertical-align: middle;\n",
       "    }\n",
       "\n",
       "    .dataframe tbody tr th {\n",
       "        vertical-align: top;\n",
       "    }\n",
       "\n",
       "    .dataframe thead th {\n",
       "        text-align: right;\n",
       "    }\n",
       "</style>\n",
       "<table border=\"1\" class=\"dataframe\">\n",
       "  <thead>\n",
       "    <tr style=\"text-align: right;\">\n",
       "      <th></th>\n",
       "      <th></th>\n",
       "      <th>Timestamp</th>\n",
       "      <th>Open</th>\n",
       "      <th>Close</th>\n",
       "      <th>Volume_(BTC)</th>\n",
       "      <th>Volume_(Currency)</th>\n",
       "      <th>Weighted_Price</th>\n",
       "    </tr>\n",
       "    <tr>\n",
       "      <th>High</th>\n",
       "      <th>Low</th>\n",
       "      <th></th>\n",
       "      <th></th>\n",
       "      <th></th>\n",
       "      <th></th>\n",
       "      <th></th>\n",
       "      <th></th>\n",
       "    </tr>\n",
       "  </thead>\n",
       "  <tbody>\n",
       "    <tr>\n",
       "      <th>4.39</th>\n",
       "      <th>4.39</th>\n",
       "      <td>1325317920</td>\n",
       "      <td>4.39</td>\n",
       "      <td>4.39</td>\n",
       "      <td>0.455581</td>\n",
       "      <td>2.0</td>\n",
       "      <td>4.39</td>\n",
       "    </tr>\n",
       "    <tr>\n",
       "      <th rowspan=\"10\" valign=\"top\">NaN</th>\n",
       "      <th>NaN</th>\n",
       "      <td>1325317980</td>\n",
       "      <td>NaN</td>\n",
       "      <td>NaN</td>\n",
       "      <td>NaN</td>\n",
       "      <td>NaN</td>\n",
       "      <td>NaN</td>\n",
       "    </tr>\n",
       "    <tr>\n",
       "      <th>NaN</th>\n",
       "      <td>1325318040</td>\n",
       "      <td>NaN</td>\n",
       "      <td>NaN</td>\n",
       "      <td>NaN</td>\n",
       "      <td>NaN</td>\n",
       "      <td>NaN</td>\n",
       "    </tr>\n",
       "    <tr>\n",
       "      <th>NaN</th>\n",
       "      <td>1325318100</td>\n",
       "      <td>NaN</td>\n",
       "      <td>NaN</td>\n",
       "      <td>NaN</td>\n",
       "      <td>NaN</td>\n",
       "      <td>NaN</td>\n",
       "    </tr>\n",
       "    <tr>\n",
       "      <th>NaN</th>\n",
       "      <td>1325318160</td>\n",
       "      <td>NaN</td>\n",
       "      <td>NaN</td>\n",
       "      <td>NaN</td>\n",
       "      <td>NaN</td>\n",
       "      <td>NaN</td>\n",
       "    </tr>\n",
       "    <tr>\n",
       "      <th>...</th>\n",
       "      <td>...</td>\n",
       "      <td>...</td>\n",
       "      <td>...</td>\n",
       "      <td>...</td>\n",
       "      <td>...</td>\n",
       "      <td>...</td>\n",
       "    </tr>\n",
       "    <tr>\n",
       "      <th>NaN</th>\n",
       "      <td>1325323620</td>\n",
       "      <td>NaN</td>\n",
       "      <td>NaN</td>\n",
       "      <td>NaN</td>\n",
       "      <td>NaN</td>\n",
       "      <td>NaN</td>\n",
       "    </tr>\n",
       "    <tr>\n",
       "      <th>NaN</th>\n",
       "      <td>1325323680</td>\n",
       "      <td>NaN</td>\n",
       "      <td>NaN</td>\n",
       "      <td>NaN</td>\n",
       "      <td>NaN</td>\n",
       "      <td>NaN</td>\n",
       "    </tr>\n",
       "    <tr>\n",
       "      <th>NaN</th>\n",
       "      <td>1325323740</td>\n",
       "      <td>NaN</td>\n",
       "      <td>NaN</td>\n",
       "      <td>NaN</td>\n",
       "      <td>NaN</td>\n",
       "      <td>NaN</td>\n",
       "    </tr>\n",
       "    <tr>\n",
       "      <th>NaN</th>\n",
       "      <td>1325323800</td>\n",
       "      <td>NaN</td>\n",
       "      <td>NaN</td>\n",
       "      <td>NaN</td>\n",
       "      <td>NaN</td>\n",
       "      <td>NaN</td>\n",
       "    </tr>\n",
       "    <tr>\n",
       "      <th>NaN</th>\n",
       "      <td>1325323860</td>\n",
       "      <td>NaN</td>\n",
       "      <td>NaN</td>\n",
       "      <td>NaN</td>\n",
       "      <td>NaN</td>\n",
       "      <td>NaN</td>\n",
       "    </tr>\n",
       "  </tbody>\n",
       "</table>\n",
       "<p>100 rows × 6 columns</p>\n",
       "</div>"
      ],
      "text/plain": [
       "                    Timestamp  Open  Close  Volume_(BTC)  Volume_(Currency)  \\\n",
       "High     Low                                                                  \n",
       "4.39     4.39      1325317920  4.39   4.39      0.455581                2.0   \n",
       "NaN      NaN       1325317980   NaN    NaN           NaN                NaN   \n",
       "         NaN       1325318040   NaN    NaN           NaN                NaN   \n",
       "         NaN       1325318100   NaN    NaN           NaN                NaN   \n",
       "         NaN       1325318160   NaN    NaN           NaN                NaN   \n",
       "...                       ...   ...    ...           ...                ...   \n",
       "         NaN       1325323620   NaN    NaN           NaN                NaN   \n",
       "         NaN       1325323680   NaN    NaN           NaN                NaN   \n",
       "         NaN       1325323740   NaN    NaN           NaN                NaN   \n",
       "         NaN       1325323800   NaN    NaN           NaN                NaN   \n",
       "         NaN       1325323860   NaN    NaN           NaN                NaN   \n",
       "\n",
       "                   Weighted_Price  \n",
       "High     Low                       \n",
       "4.39     4.39                4.39  \n",
       "NaN      NaN                  NaN  \n",
       "         NaN                  NaN  \n",
       "         NaN                  NaN  \n",
       "         NaN                  NaN  \n",
       "...                           ...  \n",
       "         NaN                  NaN  \n",
       "         NaN                  NaN  \n",
       "         NaN                  NaN  \n",
       "         NaN                  NaN  \n",
       "         NaN                  NaN  \n",
       "\n",
       "[100 rows x 6 columns]"
      ]
     },
     "execution_count": 90,
     "metadata": {},
     "output_type": "execute_result"
    }
   ],
   "source": [
    "# Setting index : high is outer low is inner index\n",
    "data1 = data.set_index([\"High\",\"Low\"]) \n",
    "data1.head(100)"
   ]
  },
  {
   "cell_type": "markdown",
   "id": "ac61e45e",
   "metadata": {
    "papermill": {
     "duration": 0.044105,
     "end_time": "2024-06-30T19:52:39.933355",
     "exception": false,
     "start_time": "2024-06-30T19:52:39.889250",
     "status": "completed"
    },
    "tags": []
   },
   "source": [
    "<a id=\"39\"></a> <br>\n",
    "### PIVOTING DATA FRAMES\n",
    "* pivoting: reshape tool"
   ]
  },
  {
   "cell_type": "code",
   "execution_count": 91,
   "id": "bfc1aeb6",
   "metadata": {
    "execution": {
     "iopub.execute_input": "2024-06-30T19:52:40.023299Z",
     "iopub.status.busy": "2024-06-30T19:52:40.022925Z",
     "iopub.status.idle": "2024-06-30T19:52:40.035041Z",
     "shell.execute_reply": "2024-06-30T19:52:40.034038Z"
    },
    "papermill": {
     "duration": 0.059852,
     "end_time": "2024-06-30T19:52:40.037285",
     "exception": false,
     "start_time": "2024-06-30T19:52:39.977433",
     "status": "completed"
    },
    "tags": []
   },
   "outputs": [
    {
     "data": {
      "text/html": [
       "<div>\n",
       "<style scoped>\n",
       "    .dataframe tbody tr th:only-of-type {\n",
       "        vertical-align: middle;\n",
       "    }\n",
       "\n",
       "    .dataframe tbody tr th {\n",
       "        vertical-align: top;\n",
       "    }\n",
       "\n",
       "    .dataframe thead th {\n",
       "        text-align: right;\n",
       "    }\n",
       "</style>\n",
       "<table border=\"1\" class=\"dataframe\">\n",
       "  <thead>\n",
       "    <tr style=\"text-align: right;\">\n",
       "      <th></th>\n",
       "      <th>treatment</th>\n",
       "      <th>gender</th>\n",
       "      <th>response</th>\n",
       "      <th>age</th>\n",
       "    </tr>\n",
       "  </thead>\n",
       "  <tbody>\n",
       "    <tr>\n",
       "      <th>0</th>\n",
       "      <td>T</td>\n",
       "      <td>F</td>\n",
       "      <td>10</td>\n",
       "      <td>15</td>\n",
       "    </tr>\n",
       "    <tr>\n",
       "      <th>1</th>\n",
       "      <td>T</td>\n",
       "      <td>M</td>\n",
       "      <td>45</td>\n",
       "      <td>4</td>\n",
       "    </tr>\n",
       "    <tr>\n",
       "      <th>2</th>\n",
       "      <td>S</td>\n",
       "      <td>F</td>\n",
       "      <td>5</td>\n",
       "      <td>72</td>\n",
       "    </tr>\n",
       "    <tr>\n",
       "      <th>3</th>\n",
       "      <td>S</td>\n",
       "      <td>M</td>\n",
       "      <td>9</td>\n",
       "      <td>65</td>\n",
       "    </tr>\n",
       "  </tbody>\n",
       "</table>\n",
       "</div>"
      ],
      "text/plain": [
       "  treatment gender  response  age\n",
       "0         T      F        10   15\n",
       "1         T      M        45    4\n",
       "2         S      F         5   72\n",
       "3         S      M         9   65"
      ]
     },
     "execution_count": 91,
     "metadata": {},
     "output_type": "execute_result"
    }
   ],
   "source": [
    "dic = {\"treatment\":[\"T\",\"T\",\"S\",\"S\"],\"gender\":[\"F\",\"M\",\"F\",\"M\"],\"response\":[10,45,5,9],\"age\":[15,4,72,65]}\n",
    "df = pd.DataFrame(dic)\n",
    "df"
   ]
  },
  {
   "cell_type": "code",
   "execution_count": 92,
   "id": "3ad3d050",
   "metadata": {
    "execution": {
     "iopub.execute_input": "2024-06-30T19:52:40.130615Z",
     "iopub.status.busy": "2024-06-30T19:52:40.130246Z",
     "iopub.status.idle": "2024-06-30T19:52:40.143758Z",
     "shell.execute_reply": "2024-06-30T19:52:40.142718Z"
    },
    "papermill": {
     "duration": 0.064113,
     "end_time": "2024-06-30T19:52:40.146007",
     "exception": false,
     "start_time": "2024-06-30T19:52:40.081894",
     "status": "completed"
    },
    "tags": []
   },
   "outputs": [
    {
     "data": {
      "text/html": [
       "<div>\n",
       "<style scoped>\n",
       "    .dataframe tbody tr th:only-of-type {\n",
       "        vertical-align: middle;\n",
       "    }\n",
       "\n",
       "    .dataframe tbody tr th {\n",
       "        vertical-align: top;\n",
       "    }\n",
       "\n",
       "    .dataframe thead th {\n",
       "        text-align: right;\n",
       "    }\n",
       "</style>\n",
       "<table border=\"1\" class=\"dataframe\">\n",
       "  <thead>\n",
       "    <tr style=\"text-align: right;\">\n",
       "      <th>gender</th>\n",
       "      <th>F</th>\n",
       "      <th>M</th>\n",
       "    </tr>\n",
       "    <tr>\n",
       "      <th>treatment</th>\n",
       "      <th></th>\n",
       "      <th></th>\n",
       "    </tr>\n",
       "  </thead>\n",
       "  <tbody>\n",
       "    <tr>\n",
       "      <th>S</th>\n",
       "      <td>5</td>\n",
       "      <td>9</td>\n",
       "    </tr>\n",
       "    <tr>\n",
       "      <th>T</th>\n",
       "      <td>10</td>\n",
       "      <td>45</td>\n",
       "    </tr>\n",
       "  </tbody>\n",
       "</table>\n",
       "</div>"
      ],
      "text/plain": [
       "gender      F   M\n",
       "treatment        \n",
       "S           5   9\n",
       "T          10  45"
      ]
     },
     "execution_count": 92,
     "metadata": {},
     "output_type": "execute_result"
    }
   ],
   "source": [
    "# pivoting\n",
    "df.pivot(index=\"treatment\", columns=\"gender\", values=\"response\")"
   ]
  },
  {
   "cell_type": "markdown",
   "id": "e8a1fc61",
   "metadata": {
    "papermill": {
     "duration": 0.045463,
     "end_time": "2024-06-30T19:52:40.239396",
     "exception": false,
     "start_time": "2024-06-30T19:52:40.193933",
     "status": "completed"
    },
    "tags": []
   },
   "source": [
    "<a id=\"40\"></a> <br>\n",
    "### STACKING and UNSTACKING DATAFRAME\n",
    "* deal with multi label indexes\n",
    "* level: position of unstacked index\n",
    "* swaplevel: change inner and outer level index position"
   ]
  },
  {
   "cell_type": "code",
   "execution_count": 93,
   "id": "990bcc4e",
   "metadata": {
    "execution": {
     "iopub.execute_input": "2024-06-30T19:52:40.331546Z",
     "iopub.status.busy": "2024-06-30T19:52:40.330601Z",
     "iopub.status.idle": "2024-06-30T19:52:40.343199Z",
     "shell.execute_reply": "2024-06-30T19:52:40.342189Z"
    },
    "papermill": {
     "duration": 0.060447,
     "end_time": "2024-06-30T19:52:40.345334",
     "exception": false,
     "start_time": "2024-06-30T19:52:40.284887",
     "status": "completed"
    },
    "tags": []
   },
   "outputs": [
    {
     "data": {
      "text/html": [
       "<div>\n",
       "<style scoped>\n",
       "    .dataframe tbody tr th:only-of-type {\n",
       "        vertical-align: middle;\n",
       "    }\n",
       "\n",
       "    .dataframe tbody tr th {\n",
       "        vertical-align: top;\n",
       "    }\n",
       "\n",
       "    .dataframe thead th {\n",
       "        text-align: right;\n",
       "    }\n",
       "</style>\n",
       "<table border=\"1\" class=\"dataframe\">\n",
       "  <thead>\n",
       "    <tr style=\"text-align: right;\">\n",
       "      <th></th>\n",
       "      <th></th>\n",
       "      <th>response</th>\n",
       "      <th>age</th>\n",
       "    </tr>\n",
       "    <tr>\n",
       "      <th>treatment</th>\n",
       "      <th>gender</th>\n",
       "      <th></th>\n",
       "      <th></th>\n",
       "    </tr>\n",
       "  </thead>\n",
       "  <tbody>\n",
       "    <tr>\n",
       "      <th rowspan=\"2\" valign=\"top\">T</th>\n",
       "      <th>F</th>\n",
       "      <td>10</td>\n",
       "      <td>15</td>\n",
       "    </tr>\n",
       "    <tr>\n",
       "      <th>M</th>\n",
       "      <td>45</td>\n",
       "      <td>4</td>\n",
       "    </tr>\n",
       "    <tr>\n",
       "      <th rowspan=\"2\" valign=\"top\">S</th>\n",
       "      <th>F</th>\n",
       "      <td>5</td>\n",
       "      <td>72</td>\n",
       "    </tr>\n",
       "    <tr>\n",
       "      <th>M</th>\n",
       "      <td>9</td>\n",
       "      <td>65</td>\n",
       "    </tr>\n",
       "  </tbody>\n",
       "</table>\n",
       "</div>"
      ],
      "text/plain": [
       "                  response  age\n",
       "treatment gender               \n",
       "T         F             10   15\n",
       "          M             45    4\n",
       "S         F              5   72\n",
       "          M              9   65"
      ]
     },
     "execution_count": 93,
     "metadata": {},
     "output_type": "execute_result"
    }
   ],
   "source": [
    "df1 = df.set_index([\"treatment\",\"gender\"])\n",
    "df1\n",
    "# lets unstack in"
   ]
  },
  {
   "cell_type": "code",
   "execution_count": 94,
   "id": "c8c02d7a",
   "metadata": {
    "execution": {
     "iopub.execute_input": "2024-06-30T19:52:40.436326Z",
     "iopub.status.busy": "2024-06-30T19:52:40.435926Z",
     "iopub.status.idle": "2024-06-30T19:52:40.449782Z",
     "shell.execute_reply": "2024-06-30T19:52:40.448693Z"
    },
    "papermill": {
     "duration": 0.061905,
     "end_time": "2024-06-30T19:52:40.451885",
     "exception": false,
     "start_time": "2024-06-30T19:52:40.389980",
     "status": "completed"
    },
    "tags": []
   },
   "outputs": [
    {
     "data": {
      "text/html": [
       "<div>\n",
       "<style scoped>\n",
       "    .dataframe tbody tr th:only-of-type {\n",
       "        vertical-align: middle;\n",
       "    }\n",
       "\n",
       "    .dataframe tbody tr th {\n",
       "        vertical-align: top;\n",
       "    }\n",
       "\n",
       "    .dataframe thead tr th {\n",
       "        text-align: left;\n",
       "    }\n",
       "\n",
       "    .dataframe thead tr:last-of-type th {\n",
       "        text-align: right;\n",
       "    }\n",
       "</style>\n",
       "<table border=\"1\" class=\"dataframe\">\n",
       "  <thead>\n",
       "    <tr>\n",
       "      <th></th>\n",
       "      <th colspan=\"2\" halign=\"left\">response</th>\n",
       "      <th colspan=\"2\" halign=\"left\">age</th>\n",
       "    </tr>\n",
       "    <tr>\n",
       "      <th>treatment</th>\n",
       "      <th>S</th>\n",
       "      <th>T</th>\n",
       "      <th>S</th>\n",
       "      <th>T</th>\n",
       "    </tr>\n",
       "    <tr>\n",
       "      <th>gender</th>\n",
       "      <th></th>\n",
       "      <th></th>\n",
       "      <th></th>\n",
       "      <th></th>\n",
       "    </tr>\n",
       "  </thead>\n",
       "  <tbody>\n",
       "    <tr>\n",
       "      <th>F</th>\n",
       "      <td>5</td>\n",
       "      <td>10</td>\n",
       "      <td>72</td>\n",
       "      <td>15</td>\n",
       "    </tr>\n",
       "    <tr>\n",
       "      <th>M</th>\n",
       "      <td>9</td>\n",
       "      <td>45</td>\n",
       "      <td>65</td>\n",
       "      <td>4</td>\n",
       "    </tr>\n",
       "  </tbody>\n",
       "</table>\n",
       "</div>"
      ],
      "text/plain": [
       "          response     age    \n",
       "treatment        S   T   S   T\n",
       "gender                        \n",
       "F                5  10  72  15\n",
       "M                9  45  65   4"
      ]
     },
     "execution_count": 94,
     "metadata": {},
     "output_type": "execute_result"
    }
   ],
   "source": [
    "# level determines indexes\n",
    "df1.unstack(level=0)"
   ]
  },
  {
   "cell_type": "code",
   "execution_count": 95,
   "id": "ceb07098",
   "metadata": {
    "execution": {
     "iopub.execute_input": "2024-06-30T19:52:40.543312Z",
     "iopub.status.busy": "2024-06-30T19:52:40.542610Z",
     "iopub.status.idle": "2024-06-30T19:52:40.555582Z",
     "shell.execute_reply": "2024-06-30T19:52:40.554658Z"
    },
    "papermill": {
     "duration": 0.060848,
     "end_time": "2024-06-30T19:52:40.557712",
     "exception": false,
     "start_time": "2024-06-30T19:52:40.496864",
     "status": "completed"
    },
    "tags": []
   },
   "outputs": [
    {
     "data": {
      "text/html": [
       "<div>\n",
       "<style scoped>\n",
       "    .dataframe tbody tr th:only-of-type {\n",
       "        vertical-align: middle;\n",
       "    }\n",
       "\n",
       "    .dataframe tbody tr th {\n",
       "        vertical-align: top;\n",
       "    }\n",
       "\n",
       "    .dataframe thead tr th {\n",
       "        text-align: left;\n",
       "    }\n",
       "\n",
       "    .dataframe thead tr:last-of-type th {\n",
       "        text-align: right;\n",
       "    }\n",
       "</style>\n",
       "<table border=\"1\" class=\"dataframe\">\n",
       "  <thead>\n",
       "    <tr>\n",
       "      <th></th>\n",
       "      <th colspan=\"2\" halign=\"left\">response</th>\n",
       "      <th colspan=\"2\" halign=\"left\">age</th>\n",
       "    </tr>\n",
       "    <tr>\n",
       "      <th>gender</th>\n",
       "      <th>F</th>\n",
       "      <th>M</th>\n",
       "      <th>F</th>\n",
       "      <th>M</th>\n",
       "    </tr>\n",
       "    <tr>\n",
       "      <th>treatment</th>\n",
       "      <th></th>\n",
       "      <th></th>\n",
       "      <th></th>\n",
       "      <th></th>\n",
       "    </tr>\n",
       "  </thead>\n",
       "  <tbody>\n",
       "    <tr>\n",
       "      <th>S</th>\n",
       "      <td>5</td>\n",
       "      <td>9</td>\n",
       "      <td>72</td>\n",
       "      <td>65</td>\n",
       "    </tr>\n",
       "    <tr>\n",
       "      <th>T</th>\n",
       "      <td>10</td>\n",
       "      <td>45</td>\n",
       "      <td>15</td>\n",
       "      <td>4</td>\n",
       "    </tr>\n",
       "  </tbody>\n",
       "</table>\n",
       "</div>"
      ],
      "text/plain": [
       "          response     age    \n",
       "gender           F   M   F   M\n",
       "treatment                     \n",
       "S                5   9  72  65\n",
       "T               10  45  15   4"
      ]
     },
     "execution_count": 95,
     "metadata": {},
     "output_type": "execute_result"
    }
   ],
   "source": [
    "df1.unstack(level=1)"
   ]
  },
  {
   "cell_type": "code",
   "execution_count": 96,
   "id": "f89a275a",
   "metadata": {
    "execution": {
     "iopub.execute_input": "2024-06-30T19:52:40.649248Z",
     "iopub.status.busy": "2024-06-30T19:52:40.648792Z",
     "iopub.status.idle": "2024-06-30T19:52:40.660755Z",
     "shell.execute_reply": "2024-06-30T19:52:40.659640Z"
    },
    "papermill": {
     "duration": 0.060648,
     "end_time": "2024-06-30T19:52:40.663038",
     "exception": false,
     "start_time": "2024-06-30T19:52:40.602390",
     "status": "completed"
    },
    "tags": []
   },
   "outputs": [
    {
     "data": {
      "text/html": [
       "<div>\n",
       "<style scoped>\n",
       "    .dataframe tbody tr th:only-of-type {\n",
       "        vertical-align: middle;\n",
       "    }\n",
       "\n",
       "    .dataframe tbody tr th {\n",
       "        vertical-align: top;\n",
       "    }\n",
       "\n",
       "    .dataframe thead th {\n",
       "        text-align: right;\n",
       "    }\n",
       "</style>\n",
       "<table border=\"1\" class=\"dataframe\">\n",
       "  <thead>\n",
       "    <tr style=\"text-align: right;\">\n",
       "      <th></th>\n",
       "      <th></th>\n",
       "      <th>response</th>\n",
       "      <th>age</th>\n",
       "    </tr>\n",
       "    <tr>\n",
       "      <th>gender</th>\n",
       "      <th>treatment</th>\n",
       "      <th></th>\n",
       "      <th></th>\n",
       "    </tr>\n",
       "  </thead>\n",
       "  <tbody>\n",
       "    <tr>\n",
       "      <th>F</th>\n",
       "      <th>T</th>\n",
       "      <td>10</td>\n",
       "      <td>15</td>\n",
       "    </tr>\n",
       "    <tr>\n",
       "      <th>M</th>\n",
       "      <th>T</th>\n",
       "      <td>45</td>\n",
       "      <td>4</td>\n",
       "    </tr>\n",
       "    <tr>\n",
       "      <th>F</th>\n",
       "      <th>S</th>\n",
       "      <td>5</td>\n",
       "      <td>72</td>\n",
       "    </tr>\n",
       "    <tr>\n",
       "      <th>M</th>\n",
       "      <th>S</th>\n",
       "      <td>9</td>\n",
       "      <td>65</td>\n",
       "    </tr>\n",
       "  </tbody>\n",
       "</table>\n",
       "</div>"
      ],
      "text/plain": [
       "                  response  age\n",
       "gender treatment               \n",
       "F      T                10   15\n",
       "M      T                45    4\n",
       "F      S                 5   72\n",
       "M      S                 9   65"
      ]
     },
     "execution_count": 96,
     "metadata": {},
     "output_type": "execute_result"
    }
   ],
   "source": [
    "# change inner and outer level index position\n",
    "df2 = df1.swaplevel(0,1)\n",
    "df2"
   ]
  },
  {
   "cell_type": "markdown",
   "id": "6fa9a13b",
   "metadata": {
    "papermill": {
     "duration": 0.044786,
     "end_time": "2024-06-30T19:52:40.754729",
     "exception": false,
     "start_time": "2024-06-30T19:52:40.709943",
     "status": "completed"
    },
    "tags": []
   },
   "source": [
    "<a id=\"41\"></a> <br>\n",
    "### MELTING DATA FRAMES\n",
    "* Reverse of pivoting"
   ]
  },
  {
   "cell_type": "code",
   "execution_count": 97,
   "id": "083188db",
   "metadata": {
    "execution": {
     "iopub.execute_input": "2024-06-30T19:52:40.846697Z",
     "iopub.status.busy": "2024-06-30T19:52:40.846292Z",
     "iopub.status.idle": "2024-06-30T19:52:40.857277Z",
     "shell.execute_reply": "2024-06-30T19:52:40.856106Z"
    },
    "papermill": {
     "duration": 0.059356,
     "end_time": "2024-06-30T19:52:40.859397",
     "exception": false,
     "start_time": "2024-06-30T19:52:40.800041",
     "status": "completed"
    },
    "tags": []
   },
   "outputs": [
    {
     "data": {
      "text/html": [
       "<div>\n",
       "<style scoped>\n",
       "    .dataframe tbody tr th:only-of-type {\n",
       "        vertical-align: middle;\n",
       "    }\n",
       "\n",
       "    .dataframe tbody tr th {\n",
       "        vertical-align: top;\n",
       "    }\n",
       "\n",
       "    .dataframe thead th {\n",
       "        text-align: right;\n",
       "    }\n",
       "</style>\n",
       "<table border=\"1\" class=\"dataframe\">\n",
       "  <thead>\n",
       "    <tr style=\"text-align: right;\">\n",
       "      <th></th>\n",
       "      <th>treatment</th>\n",
       "      <th>gender</th>\n",
       "      <th>response</th>\n",
       "      <th>age</th>\n",
       "    </tr>\n",
       "  </thead>\n",
       "  <tbody>\n",
       "    <tr>\n",
       "      <th>0</th>\n",
       "      <td>T</td>\n",
       "      <td>F</td>\n",
       "      <td>10</td>\n",
       "      <td>15</td>\n",
       "    </tr>\n",
       "    <tr>\n",
       "      <th>1</th>\n",
       "      <td>T</td>\n",
       "      <td>M</td>\n",
       "      <td>45</td>\n",
       "      <td>4</td>\n",
       "    </tr>\n",
       "    <tr>\n",
       "      <th>2</th>\n",
       "      <td>S</td>\n",
       "      <td>F</td>\n",
       "      <td>5</td>\n",
       "      <td>72</td>\n",
       "    </tr>\n",
       "    <tr>\n",
       "      <th>3</th>\n",
       "      <td>S</td>\n",
       "      <td>M</td>\n",
       "      <td>9</td>\n",
       "      <td>65</td>\n",
       "    </tr>\n",
       "  </tbody>\n",
       "</table>\n",
       "</div>"
      ],
      "text/plain": [
       "  treatment gender  response  age\n",
       "0         T      F        10   15\n",
       "1         T      M        45    4\n",
       "2         S      F         5   72\n",
       "3         S      M         9   65"
      ]
     },
     "execution_count": 97,
     "metadata": {},
     "output_type": "execute_result"
    }
   ],
   "source": [
    "df"
   ]
  },
  {
   "cell_type": "code",
   "execution_count": 98,
   "id": "cbd6d9fb",
   "metadata": {
    "execution": {
     "iopub.execute_input": "2024-06-30T19:52:40.951828Z",
     "iopub.status.busy": "2024-06-30T19:52:40.951444Z",
     "iopub.status.idle": "2024-06-30T19:52:40.966431Z",
     "shell.execute_reply": "2024-06-30T19:52:40.965471Z"
    },
    "papermill": {
     "duration": 0.064067,
     "end_time": "2024-06-30T19:52:40.968671",
     "exception": false,
     "start_time": "2024-06-30T19:52:40.904604",
     "status": "completed"
    },
    "tags": []
   },
   "outputs": [
    {
     "data": {
      "text/html": [
       "<div>\n",
       "<style scoped>\n",
       "    .dataframe tbody tr th:only-of-type {\n",
       "        vertical-align: middle;\n",
       "    }\n",
       "\n",
       "    .dataframe tbody tr th {\n",
       "        vertical-align: top;\n",
       "    }\n",
       "\n",
       "    .dataframe thead th {\n",
       "        text-align: right;\n",
       "    }\n",
       "</style>\n",
       "<table border=\"1\" class=\"dataframe\">\n",
       "  <thead>\n",
       "    <tr style=\"text-align: right;\">\n",
       "      <th></th>\n",
       "      <th>treatment</th>\n",
       "      <th>variable</th>\n",
       "      <th>value</th>\n",
       "    </tr>\n",
       "  </thead>\n",
       "  <tbody>\n",
       "    <tr>\n",
       "      <th>0</th>\n",
       "      <td>T</td>\n",
       "      <td>age</td>\n",
       "      <td>15</td>\n",
       "    </tr>\n",
       "    <tr>\n",
       "      <th>1</th>\n",
       "      <td>T</td>\n",
       "      <td>age</td>\n",
       "      <td>4</td>\n",
       "    </tr>\n",
       "    <tr>\n",
       "      <th>2</th>\n",
       "      <td>S</td>\n",
       "      <td>age</td>\n",
       "      <td>72</td>\n",
       "    </tr>\n",
       "    <tr>\n",
       "      <th>3</th>\n",
       "      <td>S</td>\n",
       "      <td>age</td>\n",
       "      <td>65</td>\n",
       "    </tr>\n",
       "    <tr>\n",
       "      <th>4</th>\n",
       "      <td>T</td>\n",
       "      <td>response</td>\n",
       "      <td>10</td>\n",
       "    </tr>\n",
       "    <tr>\n",
       "      <th>5</th>\n",
       "      <td>T</td>\n",
       "      <td>response</td>\n",
       "      <td>45</td>\n",
       "    </tr>\n",
       "    <tr>\n",
       "      <th>6</th>\n",
       "      <td>S</td>\n",
       "      <td>response</td>\n",
       "      <td>5</td>\n",
       "    </tr>\n",
       "    <tr>\n",
       "      <th>7</th>\n",
       "      <td>S</td>\n",
       "      <td>response</td>\n",
       "      <td>9</td>\n",
       "    </tr>\n",
       "  </tbody>\n",
       "</table>\n",
       "</div>"
      ],
      "text/plain": [
       "  treatment  variable  value\n",
       "0         T       age     15\n",
       "1         T       age      4\n",
       "2         S       age     72\n",
       "3         S       age     65\n",
       "4         T  response     10\n",
       "5         T  response     45\n",
       "6         S  response      5\n",
       "7         S  response      9"
      ]
     },
     "execution_count": 98,
     "metadata": {},
     "output_type": "execute_result"
    }
   ],
   "source": [
    "# df.pivot(index=\"treatment\",columns = \"gender\",values=\"response\")\n",
    "pd.melt(df,id_vars=\"treatment\",value_vars=[\"age\",\"response\"])"
   ]
  },
  {
   "cell_type": "markdown",
   "id": "046cbd16",
   "metadata": {
    "papermill": {
     "duration": 0.045442,
     "end_time": "2024-06-30T19:52:41.059809",
     "exception": false,
     "start_time": "2024-06-30T19:52:41.014367",
     "status": "completed"
    },
    "tags": []
   },
   "source": [
    "<a id=\"42\"></a> <br>\n",
    "### CATEGORICALS AND GROUPBY"
   ]
  },
  {
   "cell_type": "code",
   "execution_count": 99,
   "id": "d5083169",
   "metadata": {
    "execution": {
     "iopub.execute_input": "2024-06-30T19:52:41.153818Z",
     "iopub.status.busy": "2024-06-30T19:52:41.152879Z",
     "iopub.status.idle": "2024-06-30T19:52:41.163756Z",
     "shell.execute_reply": "2024-06-30T19:52:41.162715Z"
    },
    "papermill": {
     "duration": 0.060382,
     "end_time": "2024-06-30T19:52:41.166044",
     "exception": false,
     "start_time": "2024-06-30T19:52:41.105662",
     "status": "completed"
    },
    "tags": []
   },
   "outputs": [
    {
     "data": {
      "text/html": [
       "<div>\n",
       "<style scoped>\n",
       "    .dataframe tbody tr th:only-of-type {\n",
       "        vertical-align: middle;\n",
       "    }\n",
       "\n",
       "    .dataframe tbody tr th {\n",
       "        vertical-align: top;\n",
       "    }\n",
       "\n",
       "    .dataframe thead th {\n",
       "        text-align: right;\n",
       "    }\n",
       "</style>\n",
       "<table border=\"1\" class=\"dataframe\">\n",
       "  <thead>\n",
       "    <tr style=\"text-align: right;\">\n",
       "      <th></th>\n",
       "      <th>treatment</th>\n",
       "      <th>gender</th>\n",
       "      <th>response</th>\n",
       "      <th>age</th>\n",
       "    </tr>\n",
       "  </thead>\n",
       "  <tbody>\n",
       "    <tr>\n",
       "      <th>0</th>\n",
       "      <td>T</td>\n",
       "      <td>F</td>\n",
       "      <td>10</td>\n",
       "      <td>15</td>\n",
       "    </tr>\n",
       "    <tr>\n",
       "      <th>1</th>\n",
       "      <td>T</td>\n",
       "      <td>M</td>\n",
       "      <td>45</td>\n",
       "      <td>4</td>\n",
       "    </tr>\n",
       "    <tr>\n",
       "      <th>2</th>\n",
       "      <td>S</td>\n",
       "      <td>F</td>\n",
       "      <td>5</td>\n",
       "      <td>72</td>\n",
       "    </tr>\n",
       "    <tr>\n",
       "      <th>3</th>\n",
       "      <td>S</td>\n",
       "      <td>M</td>\n",
       "      <td>9</td>\n",
       "      <td>65</td>\n",
       "    </tr>\n",
       "  </tbody>\n",
       "</table>\n",
       "</div>"
      ],
      "text/plain": [
       "  treatment gender  response  age\n",
       "0         T      F        10   15\n",
       "1         T      M        45    4\n",
       "2         S      F         5   72\n",
       "3         S      M         9   65"
      ]
     },
     "execution_count": 99,
     "metadata": {},
     "output_type": "execute_result"
    }
   ],
   "source": [
    "# We will use df\n",
    "df"
   ]
  },
  {
   "cell_type": "code",
   "execution_count": 100,
   "id": "b1d54447",
   "metadata": {
    "execution": {
     "iopub.execute_input": "2024-06-30T19:52:41.260893Z",
     "iopub.status.busy": "2024-06-30T19:52:41.260234Z",
     "iopub.status.idle": "2024-06-30T19:52:41.272687Z",
     "shell.execute_reply": "2024-06-30T19:52:41.271524Z"
    },
    "papermill": {
     "duration": 0.061834,
     "end_time": "2024-06-30T19:52:41.274937",
     "exception": false,
     "start_time": "2024-06-30T19:52:41.213103",
     "status": "completed"
    },
    "tags": []
   },
   "outputs": [
    {
     "data": {
      "text/plain": [
       "treatment\n",
       "S    72\n",
       "T    15\n",
       "Name: age, dtype: int64"
      ]
     },
     "execution_count": 100,
     "metadata": {},
     "output_type": "execute_result"
    }
   ],
   "source": [
    "# we can only choose one of the feature\n",
    "df.groupby(\"treatment\").age.max() "
   ]
  },
  {
   "cell_type": "code",
   "execution_count": 101,
   "id": "94e2c76a",
   "metadata": {
    "execution": {
     "iopub.execute_input": "2024-06-30T19:52:41.367610Z",
     "iopub.status.busy": "2024-06-30T19:52:41.367230Z",
     "iopub.status.idle": "2024-06-30T19:52:41.380687Z",
     "shell.execute_reply": "2024-06-30T19:52:41.379563Z"
    },
    "papermill": {
     "duration": 0.062397,
     "end_time": "2024-06-30T19:52:41.383070",
     "exception": false,
     "start_time": "2024-06-30T19:52:41.320673",
     "status": "completed"
    },
    "tags": []
   },
   "outputs": [
    {
     "data": {
      "text/html": [
       "<div>\n",
       "<style scoped>\n",
       "    .dataframe tbody tr th:only-of-type {\n",
       "        vertical-align: middle;\n",
       "    }\n",
       "\n",
       "    .dataframe tbody tr th {\n",
       "        vertical-align: top;\n",
       "    }\n",
       "\n",
       "    .dataframe thead th {\n",
       "        text-align: right;\n",
       "    }\n",
       "</style>\n",
       "<table border=\"1\" class=\"dataframe\">\n",
       "  <thead>\n",
       "    <tr style=\"text-align: right;\">\n",
       "      <th></th>\n",
       "      <th>age</th>\n",
       "      <th>response</th>\n",
       "    </tr>\n",
       "    <tr>\n",
       "      <th>treatment</th>\n",
       "      <th></th>\n",
       "      <th></th>\n",
       "    </tr>\n",
       "  </thead>\n",
       "  <tbody>\n",
       "    <tr>\n",
       "      <th>S</th>\n",
       "      <td>65</td>\n",
       "      <td>5</td>\n",
       "    </tr>\n",
       "    <tr>\n",
       "      <th>T</th>\n",
       "      <td>4</td>\n",
       "      <td>10</td>\n",
       "    </tr>\n",
       "  </tbody>\n",
       "</table>\n",
       "</div>"
      ],
      "text/plain": [
       "           age  response\n",
       "treatment               \n",
       "S           65         5\n",
       "T            4        10"
      ]
     },
     "execution_count": 101,
     "metadata": {},
     "output_type": "execute_result"
    }
   ],
   "source": [
    "# Or we can choose multiple features\n",
    "df.groupby(\"treatment\")[[\"age\",\"response\"]].min() "
   ]
  },
  {
   "cell_type": "code",
   "execution_count": 102,
   "id": "b872b14c",
   "metadata": {
    "execution": {
     "iopub.execute_input": "2024-06-30T19:52:41.478148Z",
     "iopub.status.busy": "2024-06-30T19:52:41.476981Z",
     "iopub.status.idle": "2024-06-30T19:52:41.488423Z",
     "shell.execute_reply": "2024-06-30T19:52:41.487382Z"
    },
    "papermill": {
     "duration": 0.061234,
     "end_time": "2024-06-30T19:52:41.490699",
     "exception": false,
     "start_time": "2024-06-30T19:52:41.429465",
     "status": "completed"
    },
    "tags": []
   },
   "outputs": [
    {
     "name": "stdout",
     "output_type": "stream",
     "text": [
      "<class 'pandas.core.frame.DataFrame'>\n",
      "RangeIndex: 4 entries, 0 to 3\n",
      "Data columns (total 4 columns):\n",
      " #   Column     Non-Null Count  Dtype \n",
      "---  ------     --------------  ----- \n",
      " 0   treatment  4 non-null      object\n",
      " 1   gender     4 non-null      object\n",
      " 2   response   4 non-null      int64 \n",
      " 3   age        4 non-null      int64 \n",
      "dtypes: int64(2), object(2)\n",
      "memory usage: 256.0+ bytes\n"
     ]
    }
   ],
   "source": [
    "df.info()\n",
    "# as you can see gender is object\n",
    "# However if we use groupby, we can convert it categorical data. \n",
    "# Because categorical data uses less memory, speed up operations like groupby\n",
    "#df[\"gender\"] = df[\"gender\"].astype(\"category\")\n",
    "#df[\"treatment\"] = df[\"treatment\"].astype(\"category\")\n",
    "#df.info()"
   ]
  }
 ],
 "metadata": {
  "kaggle": {
   "accelerator": "none",
   "dataSources": [
    {
     "datasetId": 1346,
     "sourceId": 2109006,
     "sourceType": "datasetVersion"
    }
   ],
   "dockerImageVersionId": 30732,
   "isGpuEnabled": false,
   "isInternetEnabled": false,
   "language": "python",
   "sourceType": "notebook"
  },
  "kernelspec": {
   "display_name": "Python 3",
   "language": "python",
   "name": "python3"
  },
  "language_info": {
   "codemirror_mode": {
    "name": "ipython",
    "version": 3
   },
   "file_extension": ".py",
   "mimetype": "text/x-python",
   "name": "python",
   "nbconvert_exporter": "python",
   "pygments_lexer": "ipython3",
   "version": "3.10.13"
  },
  "papermill": {
   "default_parameters": {},
   "duration": 122.020966,
   "end_time": "2024-06-30T19:52:42.259372",
   "environment_variables": {},
   "exception": null,
   "input_path": "__notebook__.ipynb",
   "output_path": "__notebook__.ipynb",
   "parameters": {},
   "start_time": "2024-06-30T19:50:40.238406",
   "version": "2.5.0"
  }
 },
 "nbformat": 4,
 "nbformat_minor": 5
}
